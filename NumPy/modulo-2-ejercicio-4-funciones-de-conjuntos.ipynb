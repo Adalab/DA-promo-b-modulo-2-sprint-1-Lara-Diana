{
 "cells": [
  {
   "cell_type": "code",
   "execution_count": 1,
   "metadata": {},
   "outputs": [],
   "source": [
    "import numpy as np\n",
    "import random\n"
   ]
  },
  {
   "cell_type": "code",
   "execution_count": null,
   "metadata": {},
   "outputs": [],
   "source": [
    "# 1- ¿Cómo podemos crear dos arrays de dos dimensiones usando el método random_sample que tengan los mismos valores?\n",
    "np.random.random_sample()\n",
    "0.47108547995356098 # random\n",
    "type(np.random.random_sample())\n",
    "<class 'float'>\n",
    "np.random.random_sample((5,))\n",
    "array([ 0.30220482,  0.86820401,  0.1654503 ,  0.11659149,  0.54323428]) # random"
   ]
  },
  {
   "cell_type": "code",
   "execution_count": 2,
   "metadata": {},
   "outputs": [
    {
     "data": {
      "text/plain": [
       "array([[[23,  6],\n",
       "        [ 6,  3]],\n",
       "\n",
       "       [[39,  9],\n",
       "        [50, 13]]])"
      ]
     },
     "execution_count": 2,
     "metadata": {},
     "output_type": "execute_result"
    }
   ],
   "source": [
    "array1=np.random.randint(0,100,(2,2,2))\n",
    "array1"
   ]
  },
  {
   "cell_type": "code",
   "execution_count": 4,
   "metadata": {},
   "outputs": [
    {
     "data": {
      "text/plain": [
       "array([[[ 1.,  9.,  3., 10.,  7.],\n",
       "        [ 3.,  8.,  2.,  4., 10.],\n",
       "        [ 3.,  7.,  6.,  2.,  1.]],\n",
       "\n",
       "       [[ 9.,  3.,  1.,  8.,  1.],\n",
       "        [ 5.,  5.,  9.,  5.,  8.],\n",
       "        [ 2.,  7.,  3.,  8.,  4.]]])"
      ]
     },
     "execution_count": 4,
     "metadata": {},
     "output_type": "execute_result"
    }
   ],
   "source": [
    "# 2- Cread los siguientes arrays:\n",
    "# Un array de tres dimensiones con distribución uniforme de 2 x 3 x 5, con números entre 0 y 10, que no tengan decimales y extrae sus valores únicos almacenándolos en una variable.\n",
    "\n",
    "array_uniforme=np.round(np.random.uniform(low=0,high=10,size=(2,3,5)))\n",
    "array_uniforme"
   ]
  },
  {
   "cell_type": "code",
   "execution_count": 5,
   "metadata": {},
   "outputs": [
    {
     "data": {
      "text/plain": [
       "array([ 1.,  2.,  3.,  4.,  5.,  6.,  7.,  8.,  9., 10.])"
      ]
     },
     "execution_count": 5,
     "metadata": {},
     "output_type": "execute_result"
    }
   ],
   "source": [
    "valores_unicos_uniforme=np.unique(array_uniforme)\n",
    "valores_unicos_uniforme"
   ]
  },
  {
   "cell_type": "code",
   "execution_count": 6,
   "metadata": {},
   "outputs": [
    {
     "data": {
      "text/plain": [
       "array([[[2, 2, 0, 5, 5],\n",
       "        [1, 1, 0, 2, 2],\n",
       "        [3, 4, 0, 2, 3]],\n",
       "\n",
       "       [[4, 2, 4, 2, 4],\n",
       "        [3, 2, 4, 4, 2],\n",
       "        [3, 3, 2, 2, 1]]])"
      ]
     },
     "execution_count": 6,
     "metadata": {},
     "output_type": "execute_result"
    }
   ],
   "source": [
    "# Un array de tres dimensiones con distribución binomial de 2 x 3 x 5, \n",
    "# con probabilidad de 0.3 y número de pruebas igual a 10. Igual que antes guarda los datos en una variable.\n",
    "array_binomial=np.round(np.random.binomial(10,0.3,size=(2,3,5)))\n",
    "array_binomial"
   ]
  },
  {
   "cell_type": "code",
   "execution_count": 7,
   "metadata": {},
   "outputs": [
    {
     "data": {
      "text/plain": [
       "array([0, 1, 2, 3, 4, 5])"
      ]
     },
     "execution_count": 7,
     "metadata": {},
     "output_type": "execute_result"
    }
   ],
   "source": [
    "valores_unicos_binomial=np.unique(array_binomial)\n",
    "valores_unicos_binomial"
   ]
  },
  {
   "cell_type": "code",
   "execution_count": null,
   "metadata": {},
   "outputs": [],
   "source": [
    "# 3- En esta lección hemos aprendido algunos métodos de teórias de conjuntos.\n",
    "# Usando los arrays de elementos únicos obtenidos en el ejercicio anterior realizad las siguientes operaciones:"
   ]
  },
  {
   "cell_type": "code",
   "execution_count": 8,
   "metadata": {},
   "outputs": [
    {
     "data": {
      "text/plain": [
       "array([1., 2., 3., 4., 5.])"
      ]
     },
     "execution_count": 8,
     "metadata": {},
     "output_type": "execute_result"
    }
   ],
   "source": [
    "# Elementos comunes entre los dos arrays\n",
    "interseccion=np.intersect1d(valores_unicos_uniforme,valores_unicos_binomial)\n",
    "interseccion"
   ]
  },
  {
   "cell_type": "code",
   "execution_count": 9,
   "metadata": {},
   "outputs": [
    {
     "data": {
      "text/plain": [
       "array([ 0.,  1.,  2.,  3.,  4.,  5.,  6.,  7.,  8.,  9., 10.])"
      ]
     },
     "execution_count": 9,
     "metadata": {},
     "output_type": "execute_result"
    }
   ],
   "source": [
    "# Unión de los dos arrays\n",
    "union_arrays=np.union1d(valores_unicos_uniforme,valores_unicos_binomial)\n",
    "union_arrays"
   ]
  },
  {
   "cell_type": "code",
   "execution_count": 10,
   "metadata": {},
   "outputs": [
    {
     "data": {
      "text/plain": [
       "array([ 6.,  7.,  8.,  9., 10.])"
      ]
     },
     "execution_count": 10,
     "metadata": {},
     "output_type": "execute_result"
    }
   ],
   "source": [
    "# ¿Qué elementos están en el array derivado de la distribución uniforme y no en los únicos de la distribución binomial? \n",
    "# Extrae los valores númericos\n",
    "elementos_unicos_uni=np.setdiff1d(valores_unicos_uniforme,valores_unicos_binomial)\n",
    "elementos_unicos_uni"
   ]
  },
  {
   "cell_type": "code",
   "execution_count": null,
   "metadata": {},
   "outputs": [],
   "source": [
    "# Explicar cada uno de los outputs que os salgan. Que significa cada un\n",
    "# a de estas operaciones que hemos ido extrayendo?\n"
   ]
  },
  {
   "cell_type": "code",
   "execution_count": null,
   "metadata": {},
   "outputs": [],
   "source": [
    "# 4- Cread dos arrays usando el método random.randint de Numpy con 80 elementos cada uno con números del 1-100, con los siguientes nombres array1 y array2.\n",
    "# Extraed los valores únicos de cada uno de los arrays y los guardáis en variables en las que se les llame array1 y array2."
   ]
  },
  {
   "cell_type": "code",
   "execution_count": 11,
   "metadata": {},
   "outputs": [
    {
     "data": {
      "text/plain": [
       "array([30, 41, 50, 62, 10,  2, 26, 13, 64, 91, 46, 21, 96, 38, 32, 53, 76,\n",
       "       38, 29, 98, 12, 26, 27, 35, 68, 49,  9, 93, 91, 38, 87, 17, 73, 85,\n",
       "        2, 63, 49, 16, 11, 27, 93, 46, 13, 37, 77, 62, 52, 70, 74, 54, 20,\n",
       "       47,  8, 23, 64, 68, 42, 54,  3, 64, 90, 15, 72, 54,  1, 97, 47, 10,\n",
       "       31, 68, 83, 25, 64, 49, 18, 52, 97, 67, 66, 78])"
      ]
     },
     "execution_count": 11,
     "metadata": {},
     "output_type": "execute_result"
    }
   ],
   "source": [
    "array1= np.random.randint(1,100, (80))\n",
    "array1"
   ]
  },
  {
   "cell_type": "code",
   "execution_count": 12,
   "metadata": {},
   "outputs": [
    {
     "data": {
      "text/plain": [
       "array([23, 58, 71, 24, 78, 87, 95, 24, 11,  5, 53, 67, 95, 42,  3,  1, 99,\n",
       "       12, 30, 46, 95, 94, 71, 82, 31, 80, 86, 61, 20, 76, 40, 73, 93, 60,\n",
       "       41, 75,  4, 16, 78, 43, 99, 42, 88,  1, 84, 56, 22, 28, 34, 13, 70,\n",
       "       83, 64, 97, 12, 72,  9, 84, 63, 70, 35, 93, 28, 25, 11, 51, 98, 73,\n",
       "       88, 66, 44, 59, 45, 46, 93, 95, 44, 97,  3, 95])"
      ]
     },
     "execution_count": 12,
     "metadata": {},
     "output_type": "execute_result"
    }
   ],
   "source": [
    "array2= np.random.randint(1,100, (80))\n",
    "array2"
   ]
  },
  {
   "cell_type": "code",
   "execution_count": 13,
   "metadata": {},
   "outputs": [
    {
     "data": {
      "text/plain": [
       "array([ 2,  8, 10, 15, 17, 18, 21, 26, 27, 29, 32, 37, 38, 47, 49, 50, 52,\n",
       "       54, 62, 68, 74, 77, 85, 90, 91, 96])"
      ]
     },
     "execution_count": 13,
     "metadata": {},
     "output_type": "execute_result"
    }
   ],
   "source": [
    "# Identificad los elementos presentes en el array1 pero no en el array2 y asiganarlo a una variable que se llame array3.\n",
    "\n",
    "array3= np.setdiff1d(array1, array2)\n",
    "array3"
   ]
  },
  {
   "cell_type": "code",
   "execution_count": 14,
   "metadata": {},
   "outputs": [
    {
     "data": {
      "text/plain": [
       "array([ 4,  5, 22, 24, 28, 34, 40, 43, 44, 45, 51, 56, 58, 59, 60, 61, 71,\n",
       "       75, 80, 82, 84, 86, 88, 94, 95, 99])"
      ]
     },
     "execution_count": 14,
     "metadata": {},
     "output_type": "execute_result"
    }
   ],
   "source": [
    "# Identificad los elementos presentes en el array2 pero no en el array1 y asiganarlo a una variable que se llame array4.\n",
    "\n",
    "array4= np.setdiff1d(array2,array1)\n",
    "array4"
   ]
  },
  {
   "cell_type": "code",
   "execution_count": 15,
   "metadata": {},
   "outputs": [
    {
     "data": {
      "text/plain": [
       "array([ 1,  3,  9, 11, 12, 13, 16, 20, 23, 25, 30, 31, 35, 41, 42, 46, 53,\n",
       "       63, 64, 66, 67, 70, 72, 73, 76, 78, 83, 87, 93, 97, 98])"
      ]
     },
     "execution_count": 15,
     "metadata": {},
     "output_type": "execute_result"
    }
   ],
   "source": [
    "# Identificad los elementos presentes en ambos arrays y asiganarlos a una variable que se llame array5.\n",
    "\n",
    "array5= np.intersect1d(array1, array2)\n",
    "array5"
   ]
  },
  {
   "cell_type": "code",
   "execution_count": null,
   "metadata": {},
   "outputs": [],
   "source": [
    "# ¿Cuál es la relación que existe entre todos estos arrays? 💡 Pista 💡 Tendréis que usar las longitudes de cada uno de los arrays creados.\n",
    "\n"
   ]
  }
 ],
 "metadata": {
  "kernelspec": {
   "display_name": "Python 3.9.7 ('base')",
   "language": "python",
   "name": "python3"
  },
  "language_info": {
   "codemirror_mode": {
    "name": "ipython",
    "version": 3
   },
   "file_extension": ".py",
   "mimetype": "text/x-python",
   "name": "python",
   "nbconvert_exporter": "python",
   "pygments_lexer": "ipython3",
   "version": "3.9.7"
  },
  "orig_nbformat": 4,
  "vscode": {
   "interpreter": {
    "hash": "bab9de067d915f107d1ee2ee6fc66eaa4419a4d622bcbfdabd1c6ae75445c121"
   }
  }
 },
 "nbformat": 4,
 "nbformat_minor": 2
}
