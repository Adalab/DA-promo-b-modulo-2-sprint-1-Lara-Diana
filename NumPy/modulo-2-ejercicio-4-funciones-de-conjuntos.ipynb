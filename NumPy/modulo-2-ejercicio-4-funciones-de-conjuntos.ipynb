{
 "cells": [
  {
   "cell_type": "code",
   "execution_count": 35,
   "metadata": {},
   "outputs": [],
   "source": [
    "import numpy as np\n",
    "import random\n"
   ]
  },
  {
   "cell_type": "code",
   "execution_count": 36,
   "metadata": {},
   "outputs": [
    {
     "data": {
      "text/plain": [
       "array([[0.37454012, 0.95071431, 0.73199394, 0.59865848],\n",
       "       [0.15601864, 0.15599452, 0.05808361, 0.86617615]])"
      ]
     },
     "execution_count": 36,
     "metadata": {},
     "output_type": "execute_result"
    }
   ],
   "source": [
    "# 1- ¿Cómo podemos crear dos arrays de dos dimensiones usando el método random_sample que tengan los mismos valores?\n",
    "np.random.seed(42)\n",
    "array_sample=np.random.sample((2,4))\n",
    "array_sample"
   ]
  },
  {
   "cell_type": "code",
   "execution_count": 37,
   "metadata": {},
   "outputs": [
    {
     "data": {
      "text/plain": [
       "array([[0.37454012, 0.95071431, 0.73199394, 0.59865848],\n",
       "       [0.15601864, 0.15599452, 0.05808361, 0.86617615]])"
      ]
     },
     "execution_count": 37,
     "metadata": {},
     "output_type": "execute_result"
    }
   ],
   "source": [
    "np.random.seed(42)\n",
    "array_sample_2=np.random.sample((2,4))\n",
    "array_sample_2"
   ]
  },
  {
   "cell_type": "code",
   "execution_count": 38,
   "metadata": {},
   "outputs": [
    {
     "data": {
      "text/plain": [
       "array([[[ 6.,  7.,  0., 10.,  8.],\n",
       "        [ 2.,  2.,  2.,  3.,  5.],\n",
       "        [ 4.,  3.,  6.,  1.,  3.]],\n",
       "\n",
       "       [[ 4.,  5.,  8.,  2.,  5.],\n",
       "        [ 6.,  0.,  6.,  2.,  1.],\n",
       "        [ 9., 10.,  8.,  3.,  1.]]])"
      ]
     },
     "execution_count": 38,
     "metadata": {},
     "output_type": "execute_result"
    }
   ],
   "source": [
    "# 2- Cread los siguientes arrays:\n",
    "# Un array de tres dimensiones con distribución uniforme de 2 x 3 x 5, con números entre 0 y 10, que no tengan decimales y extrae sus valores únicos almacenándolos en una variable.\n",
    "\n",
    "array_uniforme=np.round(np.random.uniform(low=0,high=10,size=(2,3,5)))\n",
    "array_uniforme"
   ]
  },
  {
   "cell_type": "code",
   "execution_count": 39,
   "metadata": {},
   "outputs": [
    {
     "data": {
      "text/plain": [
       "array([ 0.,  1.,  2.,  3.,  4.,  5.,  6.,  7.,  8.,  9., 10.])"
      ]
     },
     "execution_count": 39,
     "metadata": {},
     "output_type": "execute_result"
    }
   ],
   "source": [
    "valores_unicos_uniforme=np.unique(array_uniforme)\n",
    "valores_unicos_uniforme"
   ]
  },
  {
   "cell_type": "code",
   "execution_count": 40,
   "metadata": {},
   "outputs": [
    {
     "data": {
      "text/plain": [
       "array([[[4, 3, 1, 3, 1],\n",
       "        [5, 2, 4, 2, 3],\n",
       "        [3, 2, 6, 4, 5]],\n",
       "\n",
       "       [[5, 3, 5, 1, 2],\n",
       "        [1, 2, 3, 2, 4],\n",
       "        [2, 2, 3, 1, 4]]])"
      ]
     },
     "execution_count": 40,
     "metadata": {},
     "output_type": "execute_result"
    }
   ],
   "source": [
    "# Un array de tres dimensiones con distribución binomial de 2 x 3 x 5, \n",
    "# con probabilidad de 0.3 y número de pruebas igual a 10. Igual que antes guarda los datos en una variable.\n",
    "array_binomial=np.round(np.random.binomial(10,0.3,size=(2,3,5)))\n",
    "array_binomial"
   ]
  },
  {
   "cell_type": "code",
   "execution_count": 41,
   "metadata": {},
   "outputs": [
    {
     "data": {
      "text/plain": [
       "array([1, 2, 3, 4, 5, 6])"
      ]
     },
     "execution_count": 41,
     "metadata": {},
     "output_type": "execute_result"
    }
   ],
   "source": [
    "valores_unicos_binomial=np.unique(array_binomial)\n",
    "valores_unicos_binomial"
   ]
  },
  {
   "cell_type": "code",
   "execution_count": 42,
   "metadata": {},
   "outputs": [],
   "source": [
    "# 3- En esta lección hemos aprendido algunos métodos de teórias de conjuntos.\n",
    "# Usando los arrays de elementos únicos obtenidos en el ejercicio anterior realizad las siguientes operaciones:"
   ]
  },
  {
   "cell_type": "code",
   "execution_count": 43,
   "metadata": {},
   "outputs": [
    {
     "data": {
      "text/plain": [
       "array([1., 2., 3., 4., 5., 6.])"
      ]
     },
     "execution_count": 43,
     "metadata": {},
     "output_type": "execute_result"
    }
   ],
   "source": [
    "# Elementos comunes entre los dos arrays\n",
    "interseccion=np.intersect1d(valores_unicos_uniforme,valores_unicos_binomial)\n",
    "interseccion\n",
    "\n",
    "#interseccion nos devuelve un array con todos los elementos comunes entre los dos array"
   ]
  },
  {
   "cell_type": "code",
   "execution_count": 44,
   "metadata": {},
   "outputs": [
    {
     "data": {
      "text/plain": [
       "array([ 0.,  1.,  2.,  3.,  4.,  5.,  6.,  7.,  8.,  9., 10.])"
      ]
     },
     "execution_count": 44,
     "metadata": {},
     "output_type": "execute_result"
    }
   ],
   "source": [
    "# Unión de los dos arrays\n",
    "union_arrays=np.union1d(valores_unicos_uniforme,valores_unicos_binomial)\n",
    "union_arrays\n",
    "\n",
    "#union1d devuelve un array ordenado con los elementos resultantes de unir dos array."
   ]
  },
  {
   "cell_type": "code",
   "execution_count": 45,
   "metadata": {},
   "outputs": [
    {
     "data": {
      "text/plain": [
       "array([ 0.,  7.,  8.,  9., 10.])"
      ]
     },
     "execution_count": 45,
     "metadata": {},
     "output_type": "execute_result"
    }
   ],
   "source": [
    "# ¿Qué elementos están en el array derivado de la distribución uniforme y no en los únicos de la distribución binomial? \n",
    "# Extrae los valores númericos\n",
    "elementos_unicos_uni=np.setdiff1d(valores_unicos_uniforme,valores_unicos_binomial)\n",
    "elementos_unicos_uni\n",
    "\n",
    "#setdiff1d devuelve un array ordenado con los valores únicos que están en el primer array pero no en el segundo array."
   ]
  },
  {
   "cell_type": "code",
   "execution_count": 46,
   "metadata": {},
   "outputs": [],
   "source": [
    "# 4- Cread dos arrays usando el método random.randint de Numpy con 80 elementos cada uno con números del 1-100, con los siguientes nombres array1 y array2.\n",
    "# Extraed los valores únicos de cada uno de los arrays y los guardáis en variables en las que se les llame array1 y array2."
   ]
  },
  {
   "cell_type": "code",
   "execution_count": 47,
   "metadata": {},
   "outputs": [
    {
     "data": {
      "text/plain": [
       "array([65, 89, 71,  9, 88,  1,  8, 88, 63, 11, 81,  8, 35, 35, 33,  5, 41,\n",
       "       28,  7, 73, 72, 12, 34, 33, 48, 23, 62, 88, 37, 99, 44, 86, 91, 35,\n",
       "       65, 99, 47, 78,  3,  1,  5, 90, 14, 27,  9, 79, 15, 90, 42, 77, 51,\n",
       "       63, 96, 52, 96,  4, 94, 23, 15, 43, 29, 36, 13, 32, 71, 59, 86, 28,\n",
       "       66, 42, 45, 62, 57,  6, 28, 28, 44, 84, 30, 62])"
      ]
     },
     "execution_count": 47,
     "metadata": {},
     "output_type": "execute_result"
    }
   ],
   "source": [
    "array1= np.random.randint(1,100, (80))\n",
    "array1"
   ]
  },
  {
   "cell_type": "code",
   "execution_count": 48,
   "metadata": {},
   "outputs": [
    {
     "data": {
      "text/plain": [
       "array([75, 92, 89, 62, 97,  1, 27, 62, 77,  3, 70, 72, 27,  9, 62, 37, 97,\n",
       "       51, 44, 24, 79, 59, 32, 96, 88, 52, 62, 58, 52, 12, 39,  2,  3, 56,\n",
       "       81, 59,  2,  2, 92, 54, 87, 96, 97,  1, 19,  2, 53, 44, 90, 32, 70,\n",
       "       32, 68, 55, 75, 56, 17, 38, 24, 69, 98, 70, 86, 11, 16, 97, 73, 59,\n",
       "       70, 80, 93,  3, 20, 59, 36, 19, 90, 67, 19, 20])"
      ]
     },
     "execution_count": 48,
     "metadata": {},
     "output_type": "execute_result"
    }
   ],
   "source": [
    "array2= np.random.randint(1,100, (80))\n",
    "array2"
   ]
  },
  {
   "cell_type": "code",
   "execution_count": 49,
   "metadata": {},
   "outputs": [
    {
     "data": {
      "text/plain": [
       "array([ 4,  5,  6,  7,  8, 13, 14, 15, 23, 28, 29, 30, 33, 34, 35, 41, 42,\n",
       "       43, 45, 47, 48, 57, 63, 65, 66, 71, 78, 84, 91, 94, 99])"
      ]
     },
     "execution_count": 49,
     "metadata": {},
     "output_type": "execute_result"
    }
   ],
   "source": [
    "# Identificad los elementos presentes en el array1 pero no en el array2 y asiganarlo a una variable que se llame array3.\n",
    "\n",
    "array3= np.setdiff1d(array1, array2)\n",
    "array3"
   ]
  },
  {
   "cell_type": "code",
   "execution_count": 50,
   "metadata": {},
   "outputs": [
    {
     "data": {
      "text/plain": [
       "array([ 2, 16, 17, 19, 20, 24, 38, 39, 53, 54, 55, 56, 58, 67, 68, 69, 70,\n",
       "       75, 80, 87, 92, 93, 97, 98])"
      ]
     },
     "execution_count": 50,
     "metadata": {},
     "output_type": "execute_result"
    }
   ],
   "source": [
    "# Identificad los elementos presentes en el array2 pero no en el array1 y asiganarlo a una variable que se llame array4.\n",
    "\n",
    "array4= np.setdiff1d(array2,array1)\n",
    "array4"
   ]
  },
  {
   "cell_type": "code",
   "execution_count": 51,
   "metadata": {},
   "outputs": [
    {
     "data": {
      "text/plain": [
       "array([ 1,  3,  9, 11, 12, 27, 32, 36, 37, 44, 51, 52, 59, 62, 72, 73, 77,\n",
       "       79, 81, 86, 88, 89, 90, 96])"
      ]
     },
     "execution_count": 51,
     "metadata": {},
     "output_type": "execute_result"
    }
   ],
   "source": [
    "# Identificad los elementos presentes en ambos arrays y asiganarlos a una variable que se llame array5.\n",
    "\n",
    "array5= np.intersect1d(array1, array2)\n",
    "array5"
   ]
  },
  {
   "cell_type": "code",
   "execution_count": 52,
   "metadata": {},
   "outputs": [
    {
     "name": "stdout",
     "output_type": "stream",
     "text": [
      "La cantidad de números contenidos en el array 1 y dos es la misma: 80 y 80 ya que son nuestros arrays 'originales', el array3 al solo representar de forma ordenada los valores presentes en array1 pero no en array2 cuenta con solo 31 valores. Mientras que el array4 cuenta con los valores que hay en array2 pero no en array5, por lo que solo cuenta con 24 valores. Para finalizar, array5 cuenta con 24 valores ya que representa solo los valores que están presentes en ambos arrays, es decir los valores en común. \n"
     ]
    }
   ],
   "source": [
    "# ¿Cuál es la relación que existe entre todos estos arrays? 💡 Pista 💡 Tendréis que usar las longitudes de cada uno de los arrays creados.\n",
    "\n",
    "print(f\"La cantidad de números contenidos en el array 1 y dos es la misma: {array1.size} y {array2.size} ya que son nuestros arrays 'originales', el array3 al solo representar de forma ordenada los valores presentes en array1 pero no en array2 cuenta con solo {array3.size} valores. Mientras que el array4 cuenta con los valores que hay en array2 pero no en array5, por lo que solo cuenta con {array4.size} valores. Para finalizar, array5 cuenta con {array5.size} valores ya que representa solo los valores que están presentes en ambos arrays, es decir los valores en común. \")"
   ]
  }
 ],
 "metadata": {
  "kernelspec": {
   "display_name": "Python 3.9.7 ('base')",
   "language": "python",
   "name": "python3"
  },
  "language_info": {
   "codemirror_mode": {
    "name": "ipython",
    "version": 3
   },
   "file_extension": ".py",
   "mimetype": "text/x-python",
   "name": "python",
   "nbconvert_exporter": "python",
   "pygments_lexer": "ipython3",
   "version": "3.9.7"
  },
  "orig_nbformat": 4,
  "vscode": {
   "interpreter": {
    "hash": "bab9de067d915f107d1ee2ee6fc66eaa4419a4d622bcbfdabd1c6ae75445c121"
   }
  }
 },
 "nbformat": 4,
 "nbformat_minor": 2
}
