{
 "cells": [
  {
   "cell_type": "code",
   "execution_count": 1,
   "metadata": {},
   "outputs": [],
   "source": [
    "# Empezamos nuevo bloque de ejercicios de pair programming de NumPy.\n",
    "# En el ejercicio de hoy vamos a empezar a trabajar con NumPy. \n",
    "# El objetivo de estos ejericicios es que creeis una serie de arrays, \n",
    "# y hagáis una serie de operaciones matemáticas con ellos."
   ]
  },
  {
   "cell_type": "code",
   "execution_count": 2,
   "metadata": {},
   "outputs": [],
   "source": [
    "import numpy as np\n",
    "import random"
   ]
  },
  {
   "cell_type": "code",
   "execution_count": 3,
   "metadata": {},
   "outputs": [],
   "source": [
    "# Cread tres arrays: de una, dos y tres dimensiones."
   ]
  },
  {
   "cell_type": "code",
   "execution_count": 4,
   "metadata": {},
   "outputs": [
    {
     "data": {
      "text/plain": [
       "array([ 8, 19,  3,  7, 22])"
      ]
     },
     "execution_count": 4,
     "metadata": {},
     "output_type": "execute_result"
    }
   ],
   "source": [
    "#array 1 dimension\n",
    "lista1= [8,19,3,7,22]\n",
    "array1 = np.array(lista1)\n",
    "array1\n"
   ]
  },
  {
   "cell_type": "code",
   "execution_count": 5,
   "metadata": {},
   "outputs": [
    {
     "data": {
      "text/plain": [
       "array([[8, 5, 6],\n",
       "       [9, 4, 6]])"
      ]
     },
     "execution_count": 5,
     "metadata": {},
     "output_type": "execute_result"
    }
   ],
   "source": [
    "# El array de 2 dimensiones debe ser de 2 filas y 3 columnas\n",
    "\n",
    "array2=np.random.randint(0,10, (2,3))\n",
    "array2\n",
    "\n",
    "\n"
   ]
  },
  {
   "cell_type": "code",
   "execution_count": 6,
   "metadata": {},
   "outputs": [
    {
     "data": {
      "text/plain": [
       "array([[[0, 5, 2, 5, 3],\n",
       "        [9, 6, 0, 6, 6],\n",
       "        [3, 4, 9, 8, 4]],\n",
       "\n",
       "       [[6, 8, 9, 1, 7],\n",
       "        [5, 1, 3, 6, 6],\n",
       "        [0, 9, 3, 8, 7]]])"
      ]
     },
     "execution_count": 6,
     "metadata": {},
     "output_type": "execute_result"
    }
   ],
   "source": [
    "# El array de 3 dimensiones debe ser de 2 matrices, 3 filas y 5 columnas\n",
    "\n",
    "array3=np.random.randint(0,10, (2,3,5))\n",
    "array3"
   ]
  },
  {
   "cell_type": "code",
   "execution_count": 28,
   "metadata": {},
   "outputs": [],
   "source": [
    "# Chequed las las propiedades básicas de cada array que os hayáis creado. \n",
    "# Usad en una función que nos devuelva las propiedades de una array que le pasemos.\n",
    "\n",
    "def propiedades(array):\n",
    "    forma= array.shape\n",
    "    print(f\"La forma de tu array es{forma}\")\n",
    "    tamano= array.size\n",
    "    print(f\"El tamaño de tu array es {tamano}\")\n",
    "    dimension= array.ndim\n",
    "    print(f\"La dimension de tu array es {dimension}\")\n",
    "    tipo_dato= array.dtype\n",
    "    print(f\"El tipo de dato que contiene tu array es {tipo_dato}\")\n",
    "    \n",
    "\n"
   ]
  },
  {
   "cell_type": "code",
   "execution_count": 29,
   "metadata": {},
   "outputs": [
    {
     "name": "stdout",
     "output_type": "stream",
     "text": [
      "La forma de tu array es(2, 3, 5)\n",
      "El tamaño de tu array es 30\n",
      "La dimension de tu array es 3\n",
      "El tipo de dato que contiene tu array es int64\n"
     ]
    }
   ],
   "source": [
    "propiedades(array3)"
   ]
  },
  {
   "cell_type": "code",
   "execution_count": 9,
   "metadata": {},
   "outputs": [
    {
     "data": {
      "text/plain": [
       "array([[1., 0., 0.],\n",
       "       [0., 1., 0.],\n",
       "       [0., 0., 1.]])"
      ]
     },
     "execution_count": 9,
     "metadata": {},
     "output_type": "execute_result"
    }
   ],
   "source": [
    "# Cread una matriz identidad de dos dimensiones de 3 filas y 3 columnas\n",
    "\n",
    "array_identidad = np.identity(3)\n",
    "array_identidad"
   ]
  },
  {
   "cell_type": "code",
   "execution_count": 10,
   "metadata": {},
   "outputs": [
    {
     "data": {
      "text/plain": [
       "array([[[1, 1, 1, 1, 1],\n",
       "        [1, 1, 1, 1, 1],\n",
       "        [1, 1, 1, 1, 1]],\n",
       "\n",
       "       [[1, 1, 1, 1, 1],\n",
       "        [1, 1, 1, 1, 1],\n",
       "        [1, 1, 1, 1, 1]]])"
      ]
     },
     "execution_count": 10,
     "metadata": {},
     "output_type": "execute_result"
    }
   ],
   "source": [
    "# Cread una matriz de tres dimensiones de unos igual a la martiz de tres dimensiones creada en el primer ejercicio.\n",
    "\n",
    "array3_like = np.ones_like(array3)\n",
    "array3_like"
   ]
  },
  {
   "cell_type": "code",
   "execution_count": 40,
   "metadata": {},
   "outputs": [],
   "source": [
    "# Es el momento de hacer algunas operaciones entre arrays\n",
    "# ¿Se puede sumar el array de dos dimensiones que creamos en el primer ejecicios a la matriz identidad? ¿Por qué?\n",
    "\n",
    "def sumar(array1, array2):\n",
    "    tamano1= array1.shape\n",
    "    tamano2= array2.shape\n",
    "    if tamano1==tamano2:\n",
    "        print (\"Se puede sumar\")\n",
    "        resultado= array1+array2\n",
    "        print (f\"Tu resultado es {resultado}\")\n",
    "    else:\n",
    "        print(\"Tus arrays no se pueden sumar dado que no tienen la misma forma\")"
   ]
  },
  {
   "cell_type": "code",
   "execution_count": 41,
   "metadata": {},
   "outputs": [
    {
     "name": "stdout",
     "output_type": "stream",
     "text": [
      "Tus arrays no se pueden sumar dado que no tienen la misma forma\n"
     ]
    }
   ],
   "source": [
    "sumar(array_identidad, array2)"
   ]
  },
  {
   "cell_type": "code",
   "execution_count": 42,
   "metadata": {},
   "outputs": [],
   "source": [
    "# En caso de que no se puedan sumar, busca una solución para sumar una matriz identidad a otra.\n",
    "# La solución puede ser crear un array nuevo\n",
    "\n",
    "#Para esto ampliaremos la funcion anterior\n",
    "\n",
    "def sumar2(array1, array2):\n",
    "    tamano1= array1.shape\n",
    "    tamano2= array2.shape\n",
    "    if tamano1==tamano2:\n",
    "        print (\"Se puede sumar\")\n",
    "        resultado= array1+array2\n",
    "        print (f\"Tu resultado es {resultado}\")\n",
    "    else:\n",
    "        print(\"Tus arrays no se pueden sumar dado que no tienen el mismo tamaño\")\n",
    "        array_nuevo= np.ones_like(array1)\n",
    "        resultado2= array1+array_nuevo\n",
    "        print (f\"Hemos creado una matriz de solo unos compatible con tu primer array y este es el resultado de su suma {resultado2}\")\n",
    "        \n",
    "\n",
    "        "
   ]
  },
  {
   "cell_type": "code",
   "execution_count": 43,
   "metadata": {},
   "outputs": [
    {
     "name": "stdout",
     "output_type": "stream",
     "text": [
      "Tus arrays no se pueden sumar dado que no tienen el mismo tamaño\n",
      "Hemos creado una matriz de solo unos compatible con tu primer array y este es el resultado de su suma [[2. 1. 1.]\n",
      " [1. 2. 1.]\n",
      " [1. 1. 2.]]\n"
     ]
    }
   ],
   "source": [
    "sumar2(array_identidad, array2)"
   ]
  },
  {
   "cell_type": "code",
   "execution_count": 33,
   "metadata": {},
   "outputs": [
    {
     "data": {
      "text/plain": [
       "array([[1., 1., 1.],\n",
       "       [1., 1., 1.],\n",
       "       [1., 1., 1.]])"
      ]
     },
     "execution_count": 33,
     "metadata": {},
     "output_type": "execute_result"
    }
   ],
   "source": [
    "#debido a que el nuevo array creado está dentro de la función, lo sacamos como variable para los siguientes ejercicios\n",
    "array_nuevo= np.ones_like(array_identidad)\n",
    "array_nuevo"
   ]
  },
  {
   "cell_type": "code",
   "execution_count": 34,
   "metadata": {},
   "outputs": [
    {
     "name": "stdout",
     "output_type": "stream",
     "text": [
      "[[1. 0. 0.]\n",
      " [0. 1. 0.]\n",
      " [0. 0. 1.]]\n"
     ]
    }
   ],
   "source": [
    "# Multiplicad la matriz identidad por la nueva matriz que os creasteis en el ejercicio anterior.\n",
    "print (array_identidad*array_nuevo)"
   ]
  },
  {
   "cell_type": "code",
   "execution_count": 35,
   "metadata": {},
   "outputs": [
    {
     "name": "stdout",
     "output_type": "stream",
     "text": [
      "[[1. 0. 0.]\n",
      " [0. 1. 0.]\n",
      " [0. 0. 1.]]\n"
     ]
    }
   ],
   "source": [
    "# Dividid las dos matricess\n",
    "print( array_identidad/ array_nuevo)"
   ]
  }
 ],
 "metadata": {
  "kernelspec": {
   "display_name": "Python 3.9.7 ('base')",
   "language": "python",
   "name": "python3"
  },
  "language_info": {
   "codemirror_mode": {
    "name": "ipython",
    "version": 3
   },
   "file_extension": ".py",
   "mimetype": "text/x-python",
   "name": "python",
   "nbconvert_exporter": "python",
   "pygments_lexer": "ipython3",
   "version": "3.9.7"
  },
  "orig_nbformat": 4,
  "vscode": {
   "interpreter": {
    "hash": "bab9de067d915f107d1ee2ee6fc66eaa4419a4d622bcbfdabd1c6ae75445c121"
   }
  }
 },
 "nbformat": 4,
 "nbformat_minor": 2
}
