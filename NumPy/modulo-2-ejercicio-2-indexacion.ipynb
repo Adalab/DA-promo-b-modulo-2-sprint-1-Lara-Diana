{
 "cells": [
  {
   "cell_type": "code",
   "execution_count": null,
   "metadata": {},
   "outputs": [],
   "source": [
    "# Seguimos trabajando con NumPy, en este caso practicaremos como acceder a distintos elementos de nuestros arrays y como cambiar su forma para poder hacer operaciones entre varios arrays.\n",
    "\n"
   ]
  },
  {
   "cell_type": "code",
   "execution_count": 6,
   "metadata": {},
   "outputs": [
    {
     "data": {
      "text/plain": [
       "array([[32, 32, 85],\n",
       "       [85, 74, 14],\n",
       "       [51, 42, 45],\n",
       "       [27, 62,  1],\n",
       "       [75, 18, 11]])"
      ]
     },
     "execution_count": 6,
     "metadata": {},
     "output_type": "execute_result"
    }
   ],
   "source": [
    "# Cread un array de dos dimensiones de 5 filas y 3 columnas.\n",
    "import random\n",
    "import numpy as np \n",
    "\n",
    "array1=np.random.randint(0,100,(5,3))\n",
    "array1 \n",
    "\n"
   ]
  },
  {
   "cell_type": "code",
   "execution_count": 7,
   "metadata": {},
   "outputs": [
    {
     "data": {
      "text/plain": [
       "32"
      ]
     },
     "execution_count": 7,
     "metadata": {},
     "output_type": "execute_result"
    }
   ],
   "source": [
    "# Sobre el array creado anteriormente, extraed:\n",
    "# El valor de la primera fila y la segunda columna.\n",
    "\n",
    "array1[0,1]\n"
   ]
  },
  {
   "cell_type": "code",
   "execution_count": 11,
   "metadata": {},
   "outputs": [
    {
     "data": {
      "text/plain": [
       "array([85, 74])"
      ]
     },
     "execution_count": 11,
     "metadata": {},
     "output_type": "execute_result"
    }
   ],
   "source": [
    "# Los valores de la segunda fila y las dos primeras columnas.\n",
    "array1[1,:2]"
   ]
  },
  {
   "cell_type": "code",
   "execution_count": 14,
   "metadata": {},
   "outputs": [
    {
     "data": {
      "text/plain": [
       "array([[32, 32, 85],\n",
       "       [51, 42, 45],\n",
       "       [75, 18, 11]])"
      ]
     },
     "execution_count": 14,
     "metadata": {},
     "output_type": "execute_result"
    }
   ],
   "source": [
    "# Extraed las filas pares (incluyendo la 0) y todas las columnas.\n",
    "array1[::2][:]"
   ]
  },
  {
   "cell_type": "code",
   "execution_count": 16,
   "metadata": {},
   "outputs": [
    {
     "data": {
      "text/plain": [
       "array([32, 32, 85, 85, 74, 14, 51, 42, 45, 27, 62,  1, 75, 18, 11])"
      ]
     },
     "execution_count": 16,
     "metadata": {},
     "output_type": "execute_result"
    }
   ],
   "source": [
    "# Extraed los valores que sean mayores que 0.5.\n",
    "array1[array1>0.5]"
   ]
  },
  {
   "cell_type": "code",
   "execution_count": 17,
   "metadata": {},
   "outputs": [
    {
     "data": {
      "text/plain": [
       "array([32, 32, 85, 85, 74, 14, 51, 42, 45, 27, 62,  1, 75, 18, 11])"
      ]
     },
     "execution_count": 17,
     "metadata": {},
     "output_type": "execute_result"
    }
   ],
   "source": [
    "# Extraed los valores menores que 0.2 o mayores que 0.5\n",
    "array1[(array1<0.2)|(array1>0.5)]"
   ]
  },
  {
   "cell_type": "code",
   "execution_count": 20,
   "metadata": {},
   "outputs": [
    {
     "data": {
      "text/plain": [
       "array([[[89, 42, 81],\n",
       "        [16, 58, 96],\n",
       "        [83, 95, 93],\n",
       "        [ 6, 62, 23],\n",
       "        [86, 85,  0]],\n",
       "\n",
       "       [[81, 76, 59],\n",
       "        [24, 31, 48],\n",
       "        [27, 20, 34],\n",
       "        [20, 38, 48],\n",
       "        [97, 22, 12]]])"
      ]
     },
     "execution_count": 20,
     "metadata": {},
     "output_type": "execute_result"
    }
   ],
   "source": [
    "# Cread dos array de tres dimensiones:\n",
    "# El primero de 2 matrices, 5 filas y 3 columnas.\n",
    "\n",
    "array2= np.random.randint(0,100,(2,5,3))\n",
    "array2\n"
   ]
  },
  {
   "cell_type": "code",
   "execution_count": 22,
   "metadata": {},
   "outputs": [
    {
     "data": {
      "text/plain": [
       "array([[[63, 22, 61, 61, 25],\n",
       "        [50,  3, 40, 26, 39]],\n",
       "\n",
       "       [[61, 82, 81, 37, 22],\n",
       "        [17, 97, 37, 64, 23]],\n",
       "\n",
       "       [[10, 62, 17,  6, 82],\n",
       "        [10, 45, 47, 77, 99]]])"
      ]
     },
     "execution_count": 22,
     "metadata": {},
     "output_type": "execute_result"
    }
   ],
   "source": [
    "# El segundo de 3 matrices, 2 filas y 5 columnas\n",
    "\n",
    "array3=np.random.randint(0,100,(3,2,5))\n",
    "array3"
   ]
  },
  {
   "cell_type": "code",
   "execution_count": 42,
   "metadata": {},
   "outputs": [],
   "source": [
    "# Haced un análisis exploratorio de los array creados. Recordad que en el ejercicio de ayer nos creamos una función para esto.\n",
    "\n",
    "def propiedades(array):\n",
    "    forma= array.shape\n",
    "    print(f\"La forma de tu array es{forma}\")\n",
    "    tamano= array.size\n",
    "    print(f\"El tamaño de tu array es {tamano}\")\n",
    "    dimension= array.ndim\n",
    "    print(f\"Tu array tiene dimension {dimension}\")\n",
    "    tipo_dato= array.dtype\n",
    "    print(f\"El tipo de dato que contiene tu array es {tipo_dato}\")"
   ]
  },
  {
   "cell_type": "code",
   "execution_count": 43,
   "metadata": {},
   "outputs": [
    {
     "name": "stdout",
     "output_type": "stream",
     "text": [
      "La forma de tu array es(2, 5, 3)\n",
      "El tamaño de tu array es 30\n",
      "Tu array tiene dimension 3\n",
      "El tipo de dato que contiene tu array es int64\n"
     ]
    }
   ],
   "source": [
    "propiedades(array2)"
   ]
  },
  {
   "cell_type": "code",
   "execution_count": 25,
   "metadata": {},
   "outputs": [
    {
     "name": "stdout",
     "output_type": "stream",
     "text": [
      "La forma de tu array es(3, 2, 5)\n",
      "El tamaño de tu array es (3, 2, 5)\n",
      "Tu array tiene dimension 3\n",
      "El tipo de dato que contiene tu array es int64\n"
     ]
    }
   ],
   "source": [
    "propiedades(array3)"
   ]
  },
  {
   "cell_type": "code",
   "execution_count": 40,
   "metadata": {},
   "outputs": [],
   "source": [
    "# Sumad los dos arrays. ¿Podéis? ¿Por qué?\n",
    "\n",
    "def sumar(array1, array2):\n",
    "    tamano1= array1.shape\n",
    "    tamano2= array2.shape\n",
    "    if tamano1==tamano2:\n",
    "        print (\"Se puede sumar\")\n",
    "        resultado= array1+array2\n",
    "        print (f\"Tu resultado es {resultado}\")\n",
    "    else:\n",
    "        print(\"Tus arrays no se pueden sumar dado que no tienen la misma forma\")"
   ]
  },
  {
   "cell_type": "code",
   "execution_count": 41,
   "metadata": {},
   "outputs": [
    {
     "name": "stdout",
     "output_type": "stream",
     "text": [
      "Tus arrays no se pueden sumar dado que no tienen la misma forma\n"
     ]
    }
   ],
   "source": [
    "sumar(array2,array3)"
   ]
  },
  {
   "cell_type": "code",
   "execution_count": 45,
   "metadata": {},
   "outputs": [
    {
     "data": {
      "text/plain": [
       "array([[[63, 22, 61],\n",
       "        [61, 25, 50],\n",
       "        [ 3, 40, 26],\n",
       "        [39, 61, 82],\n",
       "        [81, 37, 22]],\n",
       "\n",
       "       [[17, 97, 37],\n",
       "        [64, 23, 10],\n",
       "        [62, 17,  6],\n",
       "        [82, 10, 45],\n",
       "        [47, 77, 99]]])"
      ]
     },
     "execution_count": 45,
     "metadata": {},
     "output_type": "execute_result"
    }
   ],
   "source": [
    "# Para cambiar la forma de un array y poder hacer operaciones entre arrays que tienen distintas formas hemos aprendido dos métodos:\n",
    "# .reshape()\n",
    "# .transpose()\n",
    "# Utiliza estas dos funciones para cambiar la forma de los array y hacer operaciones entre ellos.\n",
    "\n",
    "array_reshape=np.reshape(array3,(array2.shape))\n",
    "array_reshape"
   ]
  },
  {
   "cell_type": "code",
   "execution_count": 48,
   "metadata": {},
   "outputs": [
    {
     "name": "stdout",
     "output_type": "stream",
     "text": [
      "Se puede sumar\n",
      "Tu resultado es [[[152  64 142]\n",
      "  [ 77  83 146]\n",
      "  [ 86 135 119]\n",
      "  [ 45 123 105]\n",
      "  [167 122  22]]\n",
      "\n",
      " [[ 98 173  96]\n",
      "  [ 88  54  58]\n",
      "  [ 89  37  40]\n",
      "  [102  48  93]\n",
      "  [144  99 111]]]\n"
     ]
    }
   ],
   "source": [
    "sumar(array2,array_reshape)"
   ]
  }
 ],
 "metadata": {
  "kernelspec": {
   "display_name": "Python 3.9.7 ('base')",
   "language": "python",
   "name": "python3"
  },
  "language_info": {
   "codemirror_mode": {
    "name": "ipython",
    "version": 3
   },
   "file_extension": ".py",
   "mimetype": "text/x-python",
   "name": "python",
   "nbconvert_exporter": "python",
   "pygments_lexer": "ipython3",
   "version": "3.9.7"
  },
  "orig_nbformat": 4,
  "vscode": {
   "interpreter": {
    "hash": "bab9de067d915f107d1ee2ee6fc66eaa4419a4d622bcbfdabd1c6ae75445c121"
   }
  }
 },
 "nbformat": 4,
 "nbformat_minor": 2
}
