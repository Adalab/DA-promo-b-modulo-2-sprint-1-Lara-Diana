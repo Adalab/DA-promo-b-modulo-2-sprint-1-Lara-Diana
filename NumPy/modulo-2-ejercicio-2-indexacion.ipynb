{
 "cells": [
  {
   "cell_type": "code",
   "execution_count": 1,
   "metadata": {},
   "outputs": [],
   "source": [
    "# Seguimos trabajando con NumPy, en este caso practicaremos como acceder a distintos elementos de nuestros arrays y como cambiar su forma para poder hacer operaciones entre varios arrays.\n",
    "\n"
   ]
  },
  {
   "cell_type": "code",
   "execution_count": 2,
   "metadata": {},
   "outputs": [
    {
     "data": {
      "text/plain": [
       "array([[69, 90, 30],\n",
       "       [15,  1, 57],\n",
       "       [12, 73,  5],\n",
       "       [16, 42, 15],\n",
       "       [23, 46, 41]])"
      ]
     },
     "execution_count": 2,
     "metadata": {},
     "output_type": "execute_result"
    }
   ],
   "source": [
    "# Cread un array de dos dimensiones de 5 filas y 3 columnas.\n",
    "import random\n",
    "import numpy as np \n",
    "\n",
    "array1=np.random.randint(0,100,(5,3))\n",
    "array1 \n",
    "\n"
   ]
  },
  {
   "cell_type": "code",
   "execution_count": 3,
   "metadata": {},
   "outputs": [
    {
     "data": {
      "text/plain": [
       "90"
      ]
     },
     "execution_count": 3,
     "metadata": {},
     "output_type": "execute_result"
    }
   ],
   "source": [
    "# Sobre el array creado anteriormente, extraed:\n",
    "# El valor de la primera fila y la segunda columna.\n",
    "\n",
    "array1[0,1]\n"
   ]
  },
  {
   "cell_type": "code",
   "execution_count": 4,
   "metadata": {},
   "outputs": [
    {
     "data": {
      "text/plain": [
       "array([15,  1])"
      ]
     },
     "execution_count": 4,
     "metadata": {},
     "output_type": "execute_result"
    }
   ],
   "source": [
    "# Los valores de la segunda fila y las dos primeras columnas.\n",
    "array1[1,:2]"
   ]
  },
  {
   "cell_type": "code",
   "execution_count": 5,
   "metadata": {},
   "outputs": [
    {
     "data": {
      "text/plain": [
       "array([[69, 90, 30],\n",
       "       [12, 73,  5],\n",
       "       [23, 46, 41]])"
      ]
     },
     "execution_count": 5,
     "metadata": {},
     "output_type": "execute_result"
    }
   ],
   "source": [
    "# Extraed las filas pares (incluyendo la 0) y todas las columnas.\n",
    "array1[::2][:]"
   ]
  },
  {
   "cell_type": "code",
   "execution_count": 6,
   "metadata": {},
   "outputs": [
    {
     "data": {
      "text/plain": [
       "array([69, 90, 30, 15,  1, 57, 12, 73,  5, 16, 42, 15, 23, 46, 41])"
      ]
     },
     "execution_count": 6,
     "metadata": {},
     "output_type": "execute_result"
    }
   ],
   "source": [
    "# Extraed los valores que sean mayores que 0.5.\n",
    "array1[array1>0.5]"
   ]
  },
  {
   "cell_type": "code",
   "execution_count": 7,
   "metadata": {},
   "outputs": [
    {
     "data": {
      "text/plain": [
       "array([69, 90, 30, 15,  1, 57, 12, 73,  5, 16, 42, 15, 23, 46, 41])"
      ]
     },
     "execution_count": 7,
     "metadata": {},
     "output_type": "execute_result"
    }
   ],
   "source": [
    "# Extraed los valores menores que 0.2 o mayores que 0.5\n",
    "array1[(array1<0.2)|(array1>0.5)]"
   ]
  },
  {
   "cell_type": "code",
   "execution_count": 8,
   "metadata": {},
   "outputs": [
    {
     "data": {
      "text/plain": [
       "array([[[32, 36, 25],\n",
       "        [89, 89, 74],\n",
       "        [40, 95, 44],\n",
       "        [86, 53, 82],\n",
       "        [61,  8, 42]],\n",
       "\n",
       "       [[82, 49,  7],\n",
       "        [ 5, 23, 67],\n",
       "        [50,  5, 18],\n",
       "        [96, 93, 97],\n",
       "        [18, 86, 40]]])"
      ]
     },
     "execution_count": 8,
     "metadata": {},
     "output_type": "execute_result"
    }
   ],
   "source": [
    "# Cread dos array de tres dimensiones:\n",
    "# El primero de 2 matrices, 5 filas y 3 columnas.\n",
    "\n",
    "array2= np.random.randint(0,100,(2,5,3))\n",
    "array2\n"
   ]
  },
  {
   "cell_type": "code",
   "execution_count": 9,
   "metadata": {},
   "outputs": [
    {
     "data": {
      "text/plain": [
       "array([[[59,  5, 96, 71,  7],\n",
       "        [ 8,  9, 37, 74, 18]],\n",
       "\n",
       "       [[41, 69, 83,  8, 47],\n",
       "        [ 1, 71, 63, 68, 20]],\n",
       "\n",
       "       [[57, 53, 46, 63, 25],\n",
       "        [34, 90, 60, 87, 22]]])"
      ]
     },
     "execution_count": 9,
     "metadata": {},
     "output_type": "execute_result"
    }
   ],
   "source": [
    "# El segundo de 3 matrices, 2 filas y 5 columnas\n",
    "\n",
    "array3=np.random.randint(0,100,(3,2,5))\n",
    "array3"
   ]
  },
  {
   "cell_type": "code",
   "execution_count": 10,
   "metadata": {},
   "outputs": [],
   "source": [
    "# Haced un análisis exploratorio de los array creados. Recordad que en el ejercicio de ayer nos creamos una función para esto.\n",
    "\n",
    "def propiedades(array):\n",
    "    forma= array.shape\n",
    "    print(f\"La forma de tu array es{forma}\")\n",
    "    tamano= array.size\n",
    "    print(f\"El tamaño de tu array es {tamano}\")\n",
    "    dimension= array.ndim\n",
    "    print(f\"Tu array tiene dimension {dimension}\")\n",
    "    tipo_dato= array.dtype\n",
    "    print(f\"El tipo de dato que contiene tu array es {tipo_dato}\")"
   ]
  },
  {
   "cell_type": "code",
   "execution_count": 11,
   "metadata": {},
   "outputs": [
    {
     "name": "stdout",
     "output_type": "stream",
     "text": [
      "La forma de tu array es(2, 5, 3)\n",
      "El tamaño de tu array es 30\n",
      "Tu array tiene dimension 3\n",
      "El tipo de dato que contiene tu array es int64\n"
     ]
    }
   ],
   "source": [
    "propiedades(array2)"
   ]
  },
  {
   "cell_type": "code",
   "execution_count": 12,
   "metadata": {},
   "outputs": [
    {
     "name": "stdout",
     "output_type": "stream",
     "text": [
      "La forma de tu array es(3, 2, 5)\n",
      "El tamaño de tu array es 30\n",
      "Tu array tiene dimension 3\n",
      "El tipo de dato que contiene tu array es int64\n"
     ]
    }
   ],
   "source": [
    "propiedades(array3)"
   ]
  },
  {
   "cell_type": "code",
   "execution_count": 13,
   "metadata": {},
   "outputs": [],
   "source": [
    "# Sumad los dos arrays. ¿Podéis? ¿Por qué?\n",
    "\n",
    "def sumar(array1, array2):\n",
    "    tamano1= array1.shape\n",
    "    tamano2= array2.shape\n",
    "    if tamano1==tamano2:\n",
    "        print (\"Se puede sumar\")\n",
    "        resultado= array1+array2\n",
    "        print (f\"Tu resultado es {resultado}\")\n",
    "    else:\n",
    "        print(\"Tus arrays no se pueden sumar dado que no tienen la misma forma\")"
   ]
  },
  {
   "cell_type": "code",
   "execution_count": 14,
   "metadata": {},
   "outputs": [
    {
     "name": "stdout",
     "output_type": "stream",
     "text": [
      "Tus arrays no se pueden sumar dado que no tienen la misma forma\n"
     ]
    }
   ],
   "source": [
    "sumar(array2,array3)"
   ]
  },
  {
   "cell_type": "code",
   "execution_count": 15,
   "metadata": {},
   "outputs": [
    {
     "data": {
      "text/plain": [
       "array([[[59,  5, 96],\n",
       "        [71,  7,  8],\n",
       "        [ 9, 37, 74],\n",
       "        [18, 41, 69],\n",
       "        [83,  8, 47]],\n",
       "\n",
       "       [[ 1, 71, 63],\n",
       "        [68, 20, 57],\n",
       "        [53, 46, 63],\n",
       "        [25, 34, 90],\n",
       "        [60, 87, 22]]])"
      ]
     },
     "execution_count": 15,
     "metadata": {},
     "output_type": "execute_result"
    }
   ],
   "source": [
    "# Para cambiar la forma de un array y poder hacer operaciones entre arrays que tienen distintas formas hemos aprendido dos métodos:\n",
    "# .reshape()\n",
    "# .transpose()\n",
    "# Utiliza estas dos funciones para cambiar la forma de los array y hacer operaciones entre ellos.\n",
    "\n",
    "array_reshape=np.reshape(array3,(array2.shape))\n",
    "array_reshape"
   ]
  },
  {
   "cell_type": "code",
   "execution_count": 22,
   "metadata": {},
   "outputs": [
    {
     "name": "stdout",
     "output_type": "stream",
     "text": [
      "Se puede sumar\n",
      "Tu resultado es [[[ 91  41 121]\n",
      "  [160  96  82]\n",
      "  [ 49 132 118]\n",
      "  [104  94 151]\n",
      "  [144  16  89]]\n",
      "\n",
      " [[ 83 120  70]\n",
      "  [ 73  43 124]\n",
      "  [103  51  81]\n",
      "  [121 127 187]\n",
      "  [ 78 173  62]]]\n"
     ]
    }
   ],
   "source": [
    "sumar(array2,array_reshape) #ya se puede sumar"
   ]
  },
  {
   "cell_type": "code",
   "execution_count": 42,
   "metadata": {},
   "outputs": [
    {
     "data": {
      "text/plain": [
       "array([[[59, 41, 57],\n",
       "        [ 5, 69, 53],\n",
       "        [96, 83, 46],\n",
       "        [71,  8, 63],\n",
       "        [ 7, 47, 25]],\n",
       "\n",
       "       [[ 8,  1, 34],\n",
       "        [ 9, 71, 90],\n",
       "        [37, 63, 60],\n",
       "        [74, 68, 87],\n",
       "        [18, 20, 22]]])"
      ]
     },
     "execution_count": 42,
     "metadata": {},
     "output_type": "execute_result"
    }
   ],
   "source": [
    "array_transpose = array3.transpose(1,2,0)\n",
    "array_transpose"
   ]
  },
  {
   "cell_type": "code",
   "execution_count": 43,
   "metadata": {},
   "outputs": [
    {
     "name": "stdout",
     "output_type": "stream",
     "text": [
      "Se puede sumar\n",
      "Tu resultado es [[[ 91  77  82]\n",
      "  [ 94 158 127]\n",
      "  [136 178  90]\n",
      "  [157  61 145]\n",
      "  [ 68  55  67]]\n",
      "\n",
      " [[ 90  50  41]\n",
      "  [ 14  94 157]\n",
      "  [ 87  68  78]\n",
      "  [170 161 184]\n",
      "  [ 36 106  62]]]\n"
     ]
    }
   ],
   "source": [
    "sumar(array2,array_transpose) #ya se puede sumar"
   ]
  }
 ],
 "metadata": {
  "kernelspec": {
   "display_name": "Python 3.9.7 ('base')",
   "language": "python",
   "name": "python3"
  },
  "language_info": {
   "codemirror_mode": {
    "name": "ipython",
    "version": 3
   },
   "file_extension": ".py",
   "mimetype": "text/x-python",
   "name": "python",
   "nbconvert_exporter": "python",
   "pygments_lexer": "ipython3",
   "version": "3.9.7"
  },
  "orig_nbformat": 4,
  "vscode": {
   "interpreter": {
    "hash": "bab9de067d915f107d1ee2ee6fc66eaa4419a4d622bcbfdabd1c6ae75445c121"
   }
  }
 },
 "nbformat": 4,
 "nbformat_minor": 2
}
