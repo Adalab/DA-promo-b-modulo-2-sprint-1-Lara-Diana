{
 "cells": [
  {
   "cell_type": "code",
   "execution_count": null,
   "metadata": {},
   "outputs": [],
   "source": [
    "# Seguimos trabajando con NumPy, en este caso practicaremos como acceder a distintos elementos de nuestros arrays y como cambiar su forma para poder hacer operaciones entre varios arrays.\n",
    "# Cread un array de dos dimensiones de 5 filas y 3 columnas. Sobre el array creado anteriormente, extraed:\n",
    "# El valor de la primera fila y la segunda columna.\n",
    "# Los valores de la segunda fila y las dos primeras columnas.\n",
    "# Extraed las filas pares (incluyendo la 0) y todas las columnas.\n",
    "# Extraed los valores que sean mayores que 0.5.\n",
    "# Extraed los valores menores que 0.2 o mayores que 0.5\n",
    "# Cread dos array de tres dimensiones:\n",
    "# El primero de 2 matrices, 5 filas y 3 columnas.\n",
    "# El segundo de 3 matrices, 2 filas y 5 columnas\n",
    "# Haced un análisis exploratorio de los array creados. Recordad que en el ejercicio de ayer nos creamos una función para esto.\n",
    "# Sumad los dos arrays. ¿Podéis? ¿Por qué?\n",
    "# Para cambiar la forma de un array y poder hacer operaciones entre arrays que tienen distintas formas hemos aprendido dos métodos:\n",
    "# .reshape()\n",
    "# .transpose()\n",
    "# Utiliza estas dos funciones para cambiar la forma de los array y hacer operaciones entre ellos."
   ]
  }
 ],
 "metadata": {
  "language_info": {
   "name": "python"
  },
  "orig_nbformat": 4
 },
 "nbformat": 4,
 "nbformat_minor": 2
}
