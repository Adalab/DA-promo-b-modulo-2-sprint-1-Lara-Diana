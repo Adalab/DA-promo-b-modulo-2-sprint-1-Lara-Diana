{
 "cells": [
  {
   "cell_type": "code",
   "execution_count": 1,
   "metadata": {},
   "outputs": [],
   "source": [
    "# En esta lección hemos aprendido algunas de las operaciones matemáticas más importantes que podemos aplicar a un array. \n",
    "# Hoy pondremos en práctica algunas de estas operaciones, además de recordar algunas de los métodos aprendidos en otras lecciones \n",
    "# y recordar como podemos iterar por un array."
   ]
  },
  {
   "cell_type": "code",
   "execution_count": 2,
   "metadata": {},
   "outputs": [],
   "source": [
    "import numpy as np\n",
    "import random"
   ]
  },
  {
   "cell_type": "code",
   "execution_count": 3,
   "metadata": {},
   "outputs": [
    {
     "data": {
      "text/plain": [
       "array([[[0.9, 0.3, 0.6, 0.5, 0.1],\n",
       "        [0.4, 0.7, 0.3, 0.6, 0.5],\n",
       "        [0.8, 0. , 0.2, 0.4, 0.3]],\n",
       "\n",
       "       [[0.3, 0.8, 0.3, 0.9, 0.6],\n",
       "        [0. , 0.3, 0.2, 1. , 0.8],\n",
       "        [0.7, 0.9, 0.2, 0.4, 0.4]]])"
      ]
     },
     "execution_count": 3,
     "metadata": {},
     "output_type": "execute_result"
    }
   ],
   "source": [
    "# Cread un array de tres dimensiones de 2 matrices, 3 filas y 5 columnas cuyos valores solo tengan 1 decimales. \n",
    "np.set_printoptions(precision=1, suppress=True)\n",
    "\n",
    "array=np.random.rand(2,3,5)\n",
    "array"
   ]
  },
  {
   "cell_type": "code",
   "execution_count": 4,
   "metadata": {},
   "outputs": [
    {
     "data": {
      "text/plain": [
       "0.5"
      ]
     },
     "execution_count": 4,
     "metadata": {},
     "output_type": "execute_result"
    }
   ],
   "source": [
    "# Sobre el array creado anteriormente, extraed:\n",
    "# Calculad la media del array y almacenarlos en una variable. Redondead a un decimal.\n",
    "\n",
    "media= round((np.mean(array)),1)\n",
    "media"
   ]
  },
  {
   "cell_type": "code",
   "execution_count": 5,
   "metadata": {},
   "outputs": [
    {
     "data": {
      "text/plain": [
       "(array([], dtype=int64), array([], dtype=int64), array([], dtype=int64))"
      ]
     },
     "execution_count": 5,
     "metadata": {},
     "output_type": "execute_result"
    }
   ],
   "source": [
    "np.where(array == 0.5)"
   ]
  },
  {
   "cell_type": "code",
   "execution_count": 6,
   "metadata": {},
   "outputs": [
    {
     "data": {
      "text/plain": [
       "1.0"
      ]
     },
     "execution_count": 6,
     "metadata": {},
     "output_type": "execute_result"
    }
   ],
   "source": [
    "# Calculad el valor máximo del array y almacenarlos en una variable. Redondead a un decimal.\n",
    "\n",
    "maximo=round((np.max(array)),1)\n",
    "maximo"
   ]
  },
  {
   "cell_type": "code",
   "execution_count": 7,
   "metadata": {},
   "outputs": [
    {
     "data": {
      "text/plain": [
       "0.0"
      ]
     },
     "execution_count": 7,
     "metadata": {},
     "output_type": "execute_result"
    }
   ],
   "source": [
    "# Calculad el valor mínimo del array y almacenarlos en una variable. Redondead a un decimal.\n",
    "\n",
    "minimo=round((np.min(array)),1)\n",
    "minimo"
   ]
  },
  {
   "cell_type": "code",
   "execution_count": 8,
   "metadata": {},
   "outputs": [
    {
     "data": {
      "text/plain": [
       "array([[['', '', '', '', ''],\n",
       "        ['', '', '', '', ''],\n",
       "        ['', '', '', '', '']],\n",
       "\n",
       "       [['', '', '', '', ''],\n",
       "        ['', '', '', '', ''],\n",
       "        ['', '', '', '', '']]], dtype='<U1')"
      ]
     },
     "execution_count": 8,
     "metadata": {},
     "output_type": "execute_result"
    }
   ],
   "source": [
    "# Cread un array vacío con la misma forma y dimensiones que el array creado anteriormente.\n",
    "\n",
    "array_vacio= np.empty((array.shape), str)\n",
    "array_vacio"
   ]
  },
  {
   "cell_type": "code",
   "execution_count": 24,
   "metadata": {},
   "outputs": [
    {
     "name": "stdout",
     "output_type": "stream",
     "text": [
      "[[['B' 'C' 'B' 'B' 'C']\n",
      "  ['C' 'B' 'C' 'B' 'B']\n",
      "  ['B' 'C' 'C' 'C' 'C']]\n",
      "\n",
      " [['C' 'B' 'C' 'B' 'B']\n",
      "  ['C' 'C' 'C' 'B' 'B']\n",
      "  ['B' 'B' 'C' 'C' 'C']]]\n"
     ]
    }
   ],
   "source": [
    "# Vamos a reemplazar los valores de la matriz vacía que nos acabamos de crear pero basándonos en los valores \n",
    "# del primer array bajo las siguientes condiciones:\n",
    "# Si el valor del array es igual que la media, se reemplaza por \"A\".\n",
    "# Si el valor del array es mayor que la media, se reemplaza por \"B\".\n",
    "# Si el valor del array es menor que la media, se reemplaza por \"C\".\n",
    "# Si el valor es igual que el máximo, se reemplaza por \"D\".\n",
    "# Si el valor es igual que el mínimo, se reemplaza por \"E\".\n",
    "\n",
    "\n",
    "\n",
    "for x in range(0,2):\n",
    "    for y in range(0,3):\n",
    "        for z in range(0,5):\n",
    "            if array[x][y][z]== media:\n",
    "                array_vacio[x][y][z]= \"A\"\n",
    "            elif array[x][y][z] > media:\n",
    "                array_vacio[x][y][z]= \"B\"\n",
    "            elif array[x][y][z] < media:\n",
    "                array_vacio[x][y][z] = \"C\"\n",
    "            elif array[x][y][z]== maximo:\n",
    "                array_vacio[x][y][z] = \"D\"\n",
    "            elif array[x][y][z]== minimo:\n",
    "                array_vacio[x][y][z] = \"E\"\n",
    "print(array_vacio)\n",
    "        "
   ]
  },
  {
   "cell_type": "code",
   "execution_count": 10,
   "metadata": {},
   "outputs": [],
   "source": [
    "# Estupendo, tenemos un array con strings. Ahora realizaremos un ejercicio similar al anterior, pero en este caso nos crearemos un array vacío unidimensional de 30 elementos. \n",
    "# Al final de este ejercicio acabaremos teniendo un array de tres dimensiones con la misma forma que el primero que nos creamos.\n",
    "# En este caso:\n",
    "# Si el valor del array creado en el ejercicio anterior es \"A\" o \"B\" lo reemplazaremos por 1\n",
    "# Si el valor del array creado en el ejercicio anterior es \"C\" o \"D\" lo reemplazaremos por 2\n",
    "# Si el valor del array creado en el ejercicio anterior es \"E\" lo reemplazaremos por 3.\n"
   ]
  },
  {
   "cell_type": "code",
   "execution_count": 25,
   "metadata": {},
   "outputs": [
    {
     "data": {
      "text/plain": [
       "array(['B', 'C', 'B', 'B', 'C', 'C', 'B', 'C', 'B', 'B', 'B', 'C', 'C',\n",
       "       'C', 'C', 'C', 'B', 'C', 'B', 'B', 'C', 'C', 'C', 'B', 'B', 'B',\n",
       "       'B', 'C', 'C', 'C'], dtype='<U1')"
      ]
     },
     "execution_count": 25,
     "metadata": {},
     "output_type": "execute_result"
    }
   ],
   "source": [
    "array_vacio_1 = array_vacio.reshape(30,)\n",
    "array_vacio_1"
   ]
  },
  {
   "cell_type": "code",
   "execution_count": 23,
   "metadata": {},
   "outputs": [
    {
     "data": {
      "text/plain": [
       "array([0.9, 2. , 0.6, 0.5, 0.1, 0.4, 0.7, 0.3, 0.6, 0.5, 0.8, 0. , 0.2,\n",
       "       0.4, 0.3, 0.3, 0.8, 0.3, 0.9, 0.6, 0. , 0.3, 0.2, 1. , 0.8, 0.7,\n",
       "       0.9, 0.2, 0.4, 0.4])"
      ]
     },
     "execution_count": 23,
     "metadata": {},
     "output_type": "execute_result"
    }
   ],
   "source": [
    "array_vacio_2=  np.empty(30)\n",
    "array_vacio_2"
   ]
  },
  {
   "cell_type": "code",
   "execution_count": 31,
   "metadata": {},
   "outputs": [
    {
     "name": "stdout",
     "output_type": "stream",
     "text": [
      "[1. 2. 1. 1. 2. 2. 1. 2. 1. 1. 1. 2. 2. 2. 2. 2. 1. 2. 1. 1. 2. 2. 2. 1.\n",
      " 1. 1. 1. 2. 2. 2.]\n"
     ]
    }
   ],
   "source": [
    "for x in range(30):\n",
    "    if (array_vacio_1[x] == \"A\") or (array_vacio_1[x] == \"B\"):\n",
    "        array_vacio_2[x] = 1\n",
    "    elif (array_vacio_1[x] == \"C\") or (array_vacio_1[x] == \"D\"):\n",
    "        array_vacio_2[x] = 2\n",
    "    elif array_vacio_1[x] == \"E\":\n",
    "        array_vacio_2[x] = 3\n",
    "print(array_vacio_2)"
   ]
  },
  {
   "cell_type": "code",
   "execution_count": 34,
   "metadata": {},
   "outputs": [],
   "source": [
    "# Una vez que hayas reemplazado todos los valores cambiad la forma del array para que sea de tres dimensiones, con 2 matrices, 3 filas y 5 columnas."
   ]
  },
  {
   "cell_type": "code",
   "execution_count": 33,
   "metadata": {},
   "outputs": [
    {
     "data": {
      "text/plain": [
       "array([[[1., 2., 1., 1., 2.],\n",
       "        [2., 1., 2., 1., 1.],\n",
       "        [1., 2., 2., 2., 2.]],\n",
       "\n",
       "       [[2., 1., 2., 1., 1.],\n",
       "        [2., 2., 2., 1., 1.],\n",
       "        [1., 1., 2., 2., 2.]]])"
      ]
     },
     "execution_count": 33,
     "metadata": {},
     "output_type": "execute_result"
    }
   ],
   "source": [
    "array_numero = array_vacio_2.reshape(2,3,5)\n",
    "array_numero"
   ]
  }
 ],
 "metadata": {
  "kernelspec": {
   "display_name": "Python 3.9.7 ('base')",
   "language": "python",
   "name": "python3"
  },
  "language_info": {
   "codemirror_mode": {
    "name": "ipython",
    "version": 3
   },
   "file_extension": ".py",
   "mimetype": "text/x-python",
   "name": "python",
   "nbconvert_exporter": "python",
   "pygments_lexer": "ipython3",
   "version": "3.9.7"
  },
  "orig_nbformat": 4,
  "vscode": {
   "interpreter": {
    "hash": "bab9de067d915f107d1ee2ee6fc66eaa4419a4d622bcbfdabd1c6ae75445c121"
   }
  }
 },
 "nbformat": 4,
 "nbformat_minor": 2
}
