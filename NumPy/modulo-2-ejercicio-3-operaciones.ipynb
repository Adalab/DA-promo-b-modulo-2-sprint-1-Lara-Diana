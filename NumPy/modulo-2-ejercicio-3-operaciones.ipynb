{
 "cells": [
  {
   "cell_type": "code",
   "execution_count": null,
   "metadata": {},
   "outputs": [],
   "source": [
    "# En esta lección hemos aprendido algunas de las operaciones matemáticas más importantes que podemos aplicar a un array. \n",
    "# Hoy pondremos en práctica algunas de estas operaciones, además de recordar algunas de los métodos aprendidos en otras lecciones \n",
    "# y recordar como podemos iterar por un array.\n",
    "\n",
    "\n",
    "\n",
    "\n",
    "\n"
   ]
  },
  {
   "cell_type": "code",
   "execution_count": null,
   "metadata": {},
   "outputs": [],
   "source": [
    "# a modo de ejemplo. Si tenemos el siguiente array\n",
    "[[[0.4, 0.7, 0.2, 0.9, 0.2],\n",
    "    [0.1, 0.9, 0.6, 0.1, 0.2],\n",
    "    [1. , 0.2, 0.1, 0.8, 0.3]],\n",
    "\n",
    "   [[0. , 0.3, 0.4, 0.5, 0.1],\n",
    "    [0.5, 0.7, 0.9, 0. , 0.8],\n",
    "    [0.5, 0.3, 0.5, 0.8, 0.1]]])\n",
    "\n",
    "# sabiendo que la media es 0.4 y el máximo es 1.0 y el mínimo es 0.0\n",
    "\n",
    "# nuestro array vacío debería quedar como este: \n",
    "[[[\"A\", \"B\", \"C\", \"B\", \"C\"],\n",
    "    [\"C\", \"B\", \"B\", \"C\", \"C\"],\n",
    "    [\"D\" , \"C\", \"C\", \"B\", \"C\"]],\n",
    "\n",
    "   [[\"E\" , \"C\", \"A\", \"B\", \"C\"],\n",
    "    [\"B\", \"B\",\"B\", \"E\" , \"B\"],\n",
    "    [\"B\", \"C\", \"B\", \"B\", \"C\"]]])"
   ]
  },
  {
   "cell_type": "code",
   "execution_count": null,
   "metadata": {},
   "outputs": [],
   "source": [
    "# 💡 Pista 💡 Tendréis que iterar por el array y cambiar los valores de la matriz vacía. Para eso tendremos que usar distintos condicionales.\n",
    "# Estupendo, tenemos un array con strings. Ahora realizaremos un ejercicio similar al anterior, pero en este caso nos crearemos un array vacío unidimensional de 30 elementos. Al final de este ejercicio acabaremos teniendo un array de tres dimensiones con la misma forma que el primero que nos creamos.\n",
    "# En este caso:\n",
    "# Si el valor del array creado en el ejercicio anterior es \"A\" o \"B\" lo reemplazaremos por 1\n",
    "# Si el valor del array creado en el ejercicio anterior es \"C\" o \"D\" lo reemplazaremos por 2\n",
    "# Si el valor del array creado en el ejercicio anterior es \"E\" lo reemplazaremos por 3.\n",
    "# Una vez que hayas reemplazado todos los valores cambiad la forma del array para que sea de tres dimensiones, con 2 matrices, 3 filas y 5 columnas."
   ]
  },
  {
   "cell_type": "code",
   "execution_count": 1,
   "metadata": {},
   "outputs": [],
   "source": [
    "import numpy as np\n",
    "import random"
   ]
  },
  {
   "cell_type": "code",
   "execution_count": 8,
   "metadata": {},
   "outputs": [
    {
     "data": {
      "text/plain": [
       "array([[[0.2, 0.3, 0.4, 1. , 0.6],\n",
       "        [0.6, 0.5, 0.9, 0.6, 1. ],\n",
       "        [0.9, 0.9, 0.2, 0. , 0.1]],\n",
       "\n",
       "       [[0.8, 0.4, 0.9, 0.4, 0.2],\n",
       "        [0.4, 0.3, 0.5, 0.3, 0.4],\n",
       "        [0.6, 0.4, 0.8, 0.8, 0.8]]])"
      ]
     },
     "execution_count": 8,
     "metadata": {},
     "output_type": "execute_result"
    }
   ],
   "source": [
    "# Cread un array de tres dimensiones de 2 matrices, 3 filas y 5 columnas cuyos valores solo tengan 1 decimales. \n",
    "np.set_printoptions(precision=1, suppress=True)\n",
    "\n",
    "array=np.random.rand(2,3,5)\n",
    "array"
   ]
  },
  {
   "cell_type": "code",
   "execution_count": 15,
   "metadata": {},
   "outputs": [
    {
     "data": {
      "text/plain": [
       "0.5"
      ]
     },
     "execution_count": 15,
     "metadata": {},
     "output_type": "execute_result"
    }
   ],
   "source": [
    "# Sobre el array creado anteriormente, extraed:\n",
    "# Calculad la media del array y almacenarlos en una variable. Redondead a un decimal.\n",
    "\n",
    "media= round((np.mean(array)),1)\n",
    "media"
   ]
  },
  {
   "cell_type": "code",
   "execution_count": 68,
   "metadata": {},
   "outputs": [
    {
     "data": {
      "text/plain": [
       "(array([], dtype=int64), array([], dtype=int64), array([], dtype=int64))"
      ]
     },
     "execution_count": 68,
     "metadata": {},
     "output_type": "execute_result"
    }
   ],
   "source": [
    "np.where(array == 0.5)"
   ]
  },
  {
   "cell_type": "code",
   "execution_count": 16,
   "metadata": {},
   "outputs": [
    {
     "data": {
      "text/plain": [
       "1.0"
      ]
     },
     "execution_count": 16,
     "metadata": {},
     "output_type": "execute_result"
    }
   ],
   "source": [
    "# Calculad el valor máximo del array y almacenarlos en una variable. Redondead a un decimal.\n",
    "\n",
    "maximo=round((np.max(array)),1)\n",
    "maximo"
   ]
  },
  {
   "cell_type": "code",
   "execution_count": 17,
   "metadata": {},
   "outputs": [
    {
     "data": {
      "text/plain": [
       "0.0"
      ]
     },
     "execution_count": 17,
     "metadata": {},
     "output_type": "execute_result"
    }
   ],
   "source": [
    "# Calculad el valor mínimo del array y almacenarlos en una variable. Redondead a un decimal.\n",
    "\n",
    "minimo=round((np.min(array)),1)\n",
    "minimo"
   ]
  },
  {
   "cell_type": "code",
   "execution_count": 70,
   "metadata": {},
   "outputs": [
    {
     "data": {
      "text/plain": [
       "array([[[0.2, 0.3, 0.4, 1. , 0.6],\n",
       "        [0.6, 0.5, 0.9, 0.6, 1. ],\n",
       "        [0.9, 0.9, 0.2, 0. , 0.1]],\n",
       "\n",
       "       [[0.8, 0.4, 0.9, 0.4, 0.2],\n",
       "        [0.4, 0.3, 0.5, 0.3, 0.4],\n",
       "        [0.6, 0.4, 0.8, 0.8, 0.8]]])"
      ]
     },
     "execution_count": 70,
     "metadata": {},
     "output_type": "execute_result"
    }
   ],
   "source": [
    "# Cread un array vacío con la misma forma y dimensiones que el array creado anteriormente.\n",
    "\n",
    "array_vacio= np.empty((array.shape))\n",
    "array_vacio"
   ]
  },
  {
   "cell_type": "code",
   "execution_count": 71,
   "metadata": {},
   "outputs": [
    {
     "name": "stdout",
     "output_type": "stream",
     "text": [
      "0.5\n",
      "0.5\n"
     ]
    }
   ],
   "source": [
    "# Vamos a reemplazar los valores de la matriz vacía que nos acabamos de crear pero basándonos en los valores \n",
    "# del primer array bajo las siguientes condiciones:\n",
    "# Si el valor del array es igual que la media, se reemplaza por \"A\".\n",
    "# Si el valor del array es mayor que la media, se reemplaza por \"B\".\n",
    "# Si el valor del array es menor que la media, se reemplaza por \"C\".\n",
    "# Si el valor es igual que el máximo, se reemplaza por \"D\".\n",
    "# Si el valor es igual que el mínimo, se reemplaza por \"E\".\n",
    "\n",
    "\n",
    "\n",
    "for i in array_vacio:\n",
    "    for e in i:\n",
    "        for o in e:\n",
    "            o= round(o, 1)\n",
    "            if o == media:\n",
    "                print()\n",
    "                \n",
    "                \n",
    "            \n",
    "       \n",
    "\n",
    "        "
   ]
  },
  {
   "cell_type": "code",
   "execution_count": null,
   "metadata": {},
   "outputs": [],
   "source": [
    "a[x][y][z]= \"A\", \"B\", \"C\""
   ]
  },
  {
   "cell_type": "code",
   "execution_count": null,
   "metadata": {},
   "outputs": [],
   "source": []
  },
  {
   "cell_type": "code",
   "execution_count": 76,
   "metadata": {},
   "outputs": [
    {
     "name": "stdout",
     "output_type": "stream",
     "text": [
      "0\n",
      "0\n",
      "1\n",
      "2\n",
      "1\n",
      "0\n",
      "1\n",
      "2\n"
     ]
    }
   ],
   "source": [
    "for x in range(0,2):\n",
    "    print(x)\n",
    "    for y in range(0,3):\n",
    "        print(y)\n",
    "        for z in range(0,5):\n",
    "            print(z)\n",
    "            if a[x][y][z]== media:\n",
    "                a[x][y][z]= \"A\"\n",
    "            elif a[x][y][z] > media:\n",
    "                a[x][y][z]= \"B\"\n",
    "        "
   ]
  },
  {
   "cell_type": "code",
   "execution_count": null,
   "metadata": {},
   "outputs": [],
   "source": [
    "if a[x][y][z]== media:\n",
    "    a[x][y][z]= \"A\"\n",
    "elif a[x][y][z] > media:\n",
    "    a[x][y][z]= \"B\""
   ]
  },
  {
   "cell_type": "code",
   "execution_count": null,
   "metadata": {},
   "outputs": [],
   "source": [
    "a[x,y,z]= elemento a sustituir   #para sustituir "
   ]
  },
  {
   "cell_type": "code",
   "execution_count": 73,
   "metadata": {},
   "outputs": [
    {
     "name": "stdout",
     "output_type": "stream",
     "text": [
      "[[0.2 0.3 0.4 1.  0.6]\n",
      " [0.6 0.5 0.9 0.6 1. ]\n",
      " [0.9 0.9 0.2 0.  0.1]]\n",
      "[[0.8 0.4 0.9 0.4 0.2]\n",
      " [0.4 0.3 0.5 0.3 0.4]\n",
      " [0.6 0.4 0.8 0.8 0.8]]\n"
     ]
    }
   ],
   "source": [
    "for i in array_vacio:\n",
    "    print(i)"
   ]
  },
  {
   "cell_type": "code",
   "execution_count": 74,
   "metadata": {},
   "outputs": [
    {
     "name": "stdout",
     "output_type": "stream",
     "text": [
      "[0.2 0.3 0.4 1.  0.6]\n",
      "[0.6 0.5 0.9 0.6 1. ]\n",
      "[0.9 0.9 0.2 0.  0.1]\n",
      "[0.8 0.4 0.9 0.4 0.2]\n",
      "[0.4 0.3 0.5 0.3 0.4]\n",
      "[0.6 0.4 0.8 0.8 0.8]\n"
     ]
    }
   ],
   "source": [
    "for i in array_vacio:\n",
    "    for e in i:\n",
    "        print(e)"
   ]
  },
  {
   "cell_type": "code",
   "execution_count": null,
   "metadata": {},
   "outputs": [],
   "source": [
    "for i in array_vacio:\n",
    "    for e in i:\n",
    "        for o in e:"
   ]
  },
  {
   "cell_type": "code",
   "execution_count": null,
   "metadata": {},
   "outputs": [],
   "source": [
    "array [0][0][1]"
   ]
  },
  {
   "cell_type": "code",
   "execution_count": 64,
   "metadata": {},
   "outputs": [],
   "source": [
    "if media in array:\n",
    "    print('yes')\n",
    "    "
   ]
  }
 ],
 "metadata": {
  "kernelspec": {
   "display_name": "Python 3.9.7 ('base')",
   "language": "python",
   "name": "python3"
  },
  "language_info": {
   "codemirror_mode": {
    "name": "ipython",
    "version": 3
   },
   "file_extension": ".py",
   "mimetype": "text/x-python",
   "name": "python",
   "nbconvert_exporter": "python",
   "pygments_lexer": "ipython3",
   "version": "3.9.7"
  },
  "orig_nbformat": 4,
  "vscode": {
   "interpreter": {
    "hash": "bab9de067d915f107d1ee2ee6fc66eaa4419a4d622bcbfdabd1c6ae75445c121"
   }
  }
 },
 "nbformat": 4,
 "nbformat_minor": 2
}
