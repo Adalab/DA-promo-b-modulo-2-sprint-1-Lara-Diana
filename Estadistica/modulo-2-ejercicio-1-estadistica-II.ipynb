{
 "cells": [
  {
   "cell_type": "code",
   "execution_count": null,
   "metadata": {},
   "outputs": [],
   "source": [
    "# 1- Extraer los siguentes estadísiticos del conjunto de datos para varias de las varibles disponibles:\n",
    "# Utilizando métodos de pandas: media, mediana, moda, máximo y mínimo\n",
    "# Percentiles 25, 75\n",
    "# Rango Intercualtílico\n",
    "# Boxplot de algunas variables\n",
    "# Tabla de frecuencias\n",
    "#      Variables cualitativas\n",
    "#      Variables cuantitativas\n",
    "#      Frecuencia acumulada\n",
    "#      Representación de al menos una tabla de frecuencias\n",
    "# 2- Interpretación de los resultados.\n",
    "# Ahora interpreta los resultados obtenidos de los diferentes estadísticos estudiados haciendo hincapié en aspectos interesantes de tus datos y explica lo mejor posible la naturaleza de los mismos.\n"
   ]
  },
  {
   "cell_type": "code",
   "execution_count": 1,
   "metadata": {},
   "outputs": [
    {
     "ename": "ModuleNotFoundError",
     "evalue": "No module named 'scipy'",
     "output_type": "error",
     "traceback": [
      "\u001b[1;31m---------------------------------------------------------------------------\u001b[0m",
      "\u001b[1;31mModuleNotFoundError\u001b[0m                       Traceback (most recent call last)",
      "\u001b[1;32mc:\\Users\\LARA\\Desktop\\adalab\\DA-promo-b-modulo-2-sprint-1-Lara-Diana\\Estadistica\\modulo-2-ejercicio-1-estadistica-II.ipynb Celda 2\u001b[0m in \u001b[0;36m<cell line: 1>\u001b[1;34m()\u001b[0m\n\u001b[1;32m----> <a href='vscode-notebook-cell:/c%3A/Users/LARA/Desktop/adalab/DA-promo-b-modulo-2-sprint-1-Lara-Diana/Estadistica/modulo-2-ejercicio-1-estadistica-II.ipynb#W0sZmlsZQ%3D%3D?line=0'>1</a>\u001b[0m \u001b[39mfrom\u001b[39;00m \u001b[39mscipy\u001b[39;00m \u001b[39mimport\u001b[39;00m stats \n\u001b[0;32m      <a href='vscode-notebook-cell:/c%3A/Users/LARA/Desktop/adalab/DA-promo-b-modulo-2-sprint-1-Lara-Diana/Estadistica/modulo-2-ejercicio-1-estadistica-II.ipynb#W0sZmlsZQ%3D%3D?line=1'>2</a>\u001b[0m \u001b[39mimport\u001b[39;00m \u001b[39mseaborn\u001b[39;00m \u001b[39mas\u001b[39;00m \u001b[39msns\u001b[39;00m\n\u001b[0;32m      <a href='vscode-notebook-cell:/c%3A/Users/LARA/Desktop/adalab/DA-promo-b-modulo-2-sprint-1-Lara-Diana/Estadistica/modulo-2-ejercicio-1-estadistica-II.ipynb#W0sZmlsZQ%3D%3D?line=2'>3</a>\u001b[0m \u001b[39mimport\u001b[39;00m \u001b[39mnumpy\u001b[39;00m \u001b[39mas\u001b[39;00m \u001b[39mnp\u001b[39;00m \n",
      "\u001b[1;31mModuleNotFoundError\u001b[0m: No module named 'scipy'"
     ]
    }
   ],
   "source": [
    "\n",
    "from scipy import stats \n",
    "import seaborn as sns\n",
    "import numpy as np \n",
    "import pandas as pd\n",
    "df= pd.read_csv('./datos/India_Menu.csv')\n",
    "df= pd.read_csv('./datos/India_Menu.csv')"
   ]
  },
  {
   "cell_type": "code",
   "execution_count": null,
   "metadata": {},
   "outputs": [],
   "source": [
    "# 1- Extraer los siguentes estadísiticos del conjunto de datos para varias de las varibles disponibles:\n",
    "# Utilizando métodos de pandas: media, mediana, moda, máximo y mínimo\n",
    "# Percentiles 25, 75\n",
    "# Rango Intercualtílico\n",
    "# Boxplot de algunas variables\n",
    "# Tabla de frecuencias\n",
    "#      Variables cualitativas\n",
    "#      Variables cuantitativas\n",
    "#      Frecuencia acumulada\n",
    "#      Representación de al menos una tabla de frecuencias"
   ]
  }
 ],
 "metadata": {
  "kernelspec": {
   "display_name": "Python 3.10.5 64-bit",
   "language": "python",
   "name": "python3"
  },
  "language_info": {
   "codemirror_mode": {
    "name": "ipython",
    "version": 3
   },
   "file_extension": ".py",
   "mimetype": "text/x-python",
   "name": "python",
   "nbconvert_exporter": "python",
   "pygments_lexer": "ipython3",
   "version": "3.10.5"
  },
  "orig_nbformat": 4,
  "vscode": {
   "interpreter": {
    "hash": "0adb82060a9e8277a0ab7cf318d2b014ae15a0943de91cc19dddffdec6eb64ba"
   }
  }
 },
 "nbformat": 4,
 "nbformat_minor": 2
}
