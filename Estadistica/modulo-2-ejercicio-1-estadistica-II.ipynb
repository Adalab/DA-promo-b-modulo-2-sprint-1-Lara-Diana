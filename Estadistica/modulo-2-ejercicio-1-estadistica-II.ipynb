{
 "cells": [
  {
   "cell_type": "code",
   "execution_count": 8,
   "metadata": {},
   "outputs": [],
   "source": [
    "\n",
    "from scipy import stats \n",
    "import seaborn as sns\n",
    "import numpy as np \n",
    "import pandas as pd\n",
    "from statistics import median\n",
    "import matplotlib.pyplot as plt\n",
    "df= pd.read_csv('./datos/India_Menu.csv')\n"
   ]
  },
  {
   "cell_type": "code",
   "execution_count": 9,
   "metadata": {},
   "outputs": [],
   "source": [
    "# 1- Extraer los siguentes estadísiticos del conjunto de datos para varias de las varibles disponibles:\n",
    "# Utilizando métodos de pandas: media, mediana, moda, máximo y mínimo\n",
    "# Percentiles 25, 75\n",
    "# Rango Intercualtílico\n",
    "# Boxplot de algunas variables\n",
    "# Tabla de frecuencias\n",
    "#      Variables cualitativas\n",
    "#      Variables cuantitativas\n",
    "#      Frecuencia acumulada\n",
    "#      Representación de al menos una tabla de frecuencias"
   ]
  },
  {
   "cell_type": "code",
   "execution_count": 10,
   "metadata": {},
   "outputs": [
    {
     "data": {
      "text/plain": [
       "Index(['Menu Category', 'Menu Items', 'Per Serve Size', 'Energy (kCal)',\n",
       "       'Protein (g)', 'Total fat (g)', 'Sat Fat (g)', 'Trans fat (g)',\n",
       "       'Cholesterols (mg)', 'Total carbohydrate (g)', 'Total Sugars (g)',\n",
       "       'Added Sugars (g)', 'Sodium (mg)'],\n",
       "      dtype='object')"
      ]
     },
     "execution_count": 10,
     "metadata": {},
     "output_type": "execute_result"
    }
   ],
   "source": [
    "df.columns"
   ]
  },
  {
   "cell_type": "code",
   "execution_count": 11,
   "metadata": {},
   "outputs": [
    {
     "data": {
      "text/plain": [
       "Sat Fat (g)      4.997589\n",
       "Trans fat (g)    0.687163\n",
       "dtype: float64"
      ]
     },
     "execution_count": 11,
     "metadata": {},
     "output_type": "execute_result"
    }
   ],
   "source": [
    "#media \n",
    "df[['Sat Fat (g)', 'Trans fat (g)']].mean()\n",
    "\n",
    "#Al realizar el cálculo de la media entre dos columnas podemos evaluar mejor los resultados, es decir, \n",
    "# podemos identificar que la grasa saturada tiene una media más alta con respecto a las grasas trans\n",
    "#Teniendo un valor de 4.99 para grasas saturadas y de 0.68 para grasas trans"
   ]
  },
  {
   "cell_type": "code",
   "execution_count": 12,
   "metadata": {},
   "outputs": [
    {
     "data": {
      "text/plain": [
       "Sat Fat (g)      4.27\n",
       "Trans fat (g)    0.15\n",
       "dtype: float64"
      ]
     },
     "execution_count": 12,
     "metadata": {},
     "output_type": "execute_result"
    }
   ],
   "source": [
    "#mediana\n",
    "df[['Sat Fat (g)', 'Trans fat (g)']].median()\n",
    "\n",
    "#Cuando analizamos la mediana, es decir el valor central, podemos ver que también las grasas saturadas siguen teniendo un valor más alto."
   ]
  },
  {
   "cell_type": "code",
   "execution_count": 13,
   "metadata": {},
   "outputs": [
    {
     "data": {
      "text/html": [
       "<div>\n",
       "<style scoped>\n",
       "    .dataframe tbody tr th:only-of-type {\n",
       "        vertical-align: middle;\n",
       "    }\n",
       "\n",
       "    .dataframe tbody tr th {\n",
       "        vertical-align: top;\n",
       "    }\n",
       "\n",
       "    .dataframe thead th {\n",
       "        text-align: right;\n",
       "    }\n",
       "</style>\n",
       "<table border=\"1\" class=\"dataframe\">\n",
       "  <thead>\n",
       "    <tr style=\"text-align: right;\">\n",
       "      <th></th>\n",
       "      <th>Sat Fat (g)</th>\n",
       "      <th>Trans fat (g)</th>\n",
       "    </tr>\n",
       "  </thead>\n",
       "  <tbody>\n",
       "    <tr>\n",
       "      <th>0</th>\n",
       "      <td>0.0</td>\n",
       "      <td>0.0</td>\n",
       "    </tr>\n",
       "  </tbody>\n",
       "</table>\n",
       "</div>"
      ],
      "text/plain": [
       "   Sat Fat (g)  Trans fat (g)\n",
       "0          0.0            0.0"
      ]
     },
     "execution_count": 13,
     "metadata": {},
     "output_type": "execute_result"
    }
   ],
   "source": [
    "#moda \n",
    "\n",
    "df[['Sat Fat (g)', 'Trans fat (g)']].mode()\n",
    "\n",
    "#el valor que más se repite en el conjunto es 0, ya que muchos productos del menú no cuentan con este tipo de grasas."
   ]
  },
  {
   "cell_type": "code",
   "execution_count": 14,
   "metadata": {},
   "outputs": [
    {
     "data": {
      "text/plain": [
       "Sat Fat (g)      0.0\n",
       "Trans fat (g)    0.0\n",
       "dtype: float64"
      ]
     },
     "execution_count": 14,
     "metadata": {},
     "output_type": "execute_result"
    }
   ],
   "source": [
    "#minimo\n",
    "df[['Sat Fat (g)', 'Trans fat (g)']].min() \n",
    "\n",
    "#siguiendo el comentario anterior, el valor mínimo de ambas columnas es cero debido a que distintos productos \n",
    "# no tienen estos rubros en su información nutrimental."
   ]
  },
  {
   "cell_type": "code",
   "execution_count": 15,
   "metadata": {},
   "outputs": [
    {
     "data": {
      "text/plain": [
       "Sat Fat (g)      20.46\n",
       "Trans fat (g)    75.26\n",
       "dtype: float64"
      ]
     },
     "execution_count": 15,
     "metadata": {},
     "output_type": "execute_result"
    }
   ],
   "source": [
    "#max\n",
    "df[['Sat Fat (g)', 'Trans fat (g)']].max()\n",
    "\n",
    "#Analizando los valores máximos podemos observar que la columna de grasas trans tiene un valor de 75.26 gramos en \n",
    "# comparación de los 20.46 de grasas saturadas, una diferencia muy amplia entre ambos."
   ]
  },
  {
   "cell_type": "code",
   "execution_count": 16,
   "metadata": {},
   "outputs": [
    {
     "name": "stdout",
     "output_type": "stream",
     "text": [
      "El percentil 75 es 4.27 y el percentil 25 es 0.08 \n"
     ]
    }
   ],
   "source": [
    "# Percentiles 25, 75\n",
    "\n",
    "q3, q1 = np.percentile(df[['Sat Fat (g)', 'Trans fat (g)']], [75, 25])\n",
    "print(f\"El percentil 75 es {q3} y el percentil 25 es {q1} \")\n"
   ]
  },
  {
   "cell_type": "code",
   "execution_count": 17,
   "metadata": {},
   "outputs": [
    {
     "name": "stdout",
     "output_type": "stream",
     "text": [
      "El rango intercuartílico es: 4.1899999999999995\n"
     ]
    }
   ],
   "source": [
    "# Rango Intercualtílico\n",
    "\n",
    "riq = q3 - q1\n",
    "print(\"El rango intercuartílico es:\", riq)\n",
    "\n",
    "\n",
    "#Los cuartiles nos ayudan a ejemplificar que debajo del primer cuartil, 0.08 gramos se encuentra como máximo el 25% de los registros.\n",
    "# Mientras que por debajo del tercer cuartil, es decir 4.27 gramos, se encentran como máximo el 75%."
   ]
  },
  {
   "cell_type": "code",
   "execution_count": 28,
   "metadata": {},
   "outputs": [
    {
     "data": {
      "image/png": "[encoded data removed]",
      "text/plain": [
       "<Figure size 648x648 with 1 Axes>"
      ]
     },
     "metadata": {
      "needs_background": "light"
     },
     "output_type": "display_data"
    }
   ],
   "source": [
    "# Boxplot de algunas variables\n",
    "\n",
    "datos_1 = df['Sat Fat (g)']\n",
    "datos_2 = df['Trans fat (g)']\n",
    "\n",
    "\n",
    "# Juntamos las matrices de datos para mostrarlas todas en un gráfico\n",
    "datos_graf = [datos_1, datos_2]\n",
    "\n",
    "# Creando el objeto figura con matplotlib\n",
    "fig = plt.figure(1, figsize=(9, 9))\n",
    "\n",
    "# Creando el subgrafico al que añadiremos el grafico de cajas\n",
    "ax = fig.add_subplot(111)\n",
    "\n",
    "# Creando el grafico de cajas\n",
    "bp = ax.boxplot(datos_graf)\n"
   ]
  },
  {
   "cell_type": "code",
   "execution_count": null,
   "metadata": {},
   "outputs": [],
   "source": [
    "#Lo que podemos observar en la gráfica anterior es una comparativa entre la columna grasas saturadas (1) y grasas trans (2)\n",
    "#Con respecto a grasas saturadas podemos ver que tiene solo dos valores atípicos que superan los 20 gramos, un valor de media de 4.99 representado\n",
    "#con una línea naranja.\n",
    "#Caso contrario con grasas trans, contiene solo 1 dato atípico muy por encima del resto de los valores del conjunto, situándose en 75 gramos\n",
    "# lo que podría deberse a solo 1 producto del menú o inclusive a un error.\n",
    "# Afortunadamente por ser grasas altamente dañinas, el boxplot quedó 'aplastado' debido a que su conjunto de datos se mantiene en números extremadamente bajos."
   ]
  },
  {
   "cell_type": "code",
   "execution_count": null,
   "metadata": {},
   "outputs": [],
   "source": [
    "# 2- Interpretación de los resultados.\n",
    "# Ahora interpreta los resultados obtenidos de los diferentes estadísticos estudiados haciendo hincapié en aspectos interesantes de tus datos y explica lo mejor posible la naturaleza de los mismos.\n"
   ]
  }
 ],
 "metadata": {
  "kernelspec": {
   "display_name": "Python 3.9.7 ('base')",
   "language": "python",
   "name": "python3"
  },
  "language_info": {
   "codemirror_mode": {
    "name": "ipython",
    "version": 3
   },
   "file_extension": ".py",
   "mimetype": "text/x-python",
   "name": "python",
   "nbconvert_exporter": "python",
   "pygments_lexer": "ipython3",
   "version": "3.9.7"
  },
  "orig_nbformat": 4,
  "vscode": {
   "interpreter": {
    "hash": "bab9de067d915f107d1ee2ee6fc66eaa4419a4d622bcbfdabd1c6ae75445c121"
   }
  }
 },
 "nbformat": 4,
 "nbformat_minor": 2
}
