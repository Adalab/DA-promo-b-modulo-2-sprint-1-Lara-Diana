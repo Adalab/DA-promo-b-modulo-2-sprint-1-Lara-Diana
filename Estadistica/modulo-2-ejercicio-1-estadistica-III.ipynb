{
 "cells": [
  {
   "cell_type": "code",
   "execution_count": 69,
   "metadata": {},
   "outputs": [],
   "source": [
    "# Vamos ahora a tomar de nuevo el conjunto de datos con el que estuvimos trabajando en los últimos días y vamos a continuar con el análisis de las estadísitcas de los contenidos del conjunto de datos.\n",
    "# Para todas los ejercicios de pair programming de Estadística I, II y III usaremos el dataframe que se tome para el desarrollo de este ejercicio de pair programming.\n",
    "# Se ruega a la hora de realizar la entrega que incluyais el conjunto de datos que hayais decidido emplear para estos ejercicios."
   ]
  },
  {
   "cell_type": "code",
   "execution_count": 70,
   "metadata": {},
   "outputs": [],
   "source": [
    "\n",
    "from scipy import stats \n",
    "import seaborn as sns\n",
    "import numpy as np \n",
    "import pandas as pd\n",
    "from statistics import median\n",
    "import matplotlib.pyplot as plt\n",
    "from scipy.stats import skew\n",
    "import scipy.stats as st\n",
    "\n",
    "df= pd.read_csv('./datos/India_Menu.csv')"
   ]
  },
  {
   "cell_type": "code",
   "execution_count": 99,
   "metadata": {},
   "outputs": [
    {
     "data": {
      "text/html": [
       "<div>\n",
       "<style scoped>\n",
       "    .dataframe tbody tr th:only-of-type {\n",
       "        vertical-align: middle;\n",
       "    }\n",
       "\n",
       "    .dataframe tbody tr th {\n",
       "        vertical-align: top;\n",
       "    }\n",
       "\n",
       "    .dataframe thead th {\n",
       "        text-align: right;\n",
       "    }\n",
       "</style>\n",
       "<table border=\"1\" class=\"dataframe\">\n",
       "  <thead>\n",
       "    <tr style=\"text-align: right;\">\n",
       "      <th>Total carbohydrate (g)</th>\n",
       "      <th>0.00</th>\n",
       "      <th>0.28</th>\n",
       "      <th>0.33</th>\n",
       "      <th>0.46</th>\n",
       "      <th>0.72</th>\n",
       "      <th>0.73</th>\n",
       "      <th>1.60</th>\n",
       "      <th>1.70</th>\n",
       "      <th>1.99</th>\n",
       "      <th>2.50</th>\n",
       "      <th>...</th>\n",
       "      <th>60.93</th>\n",
       "      <th>64.22</th>\n",
       "      <th>64.75</th>\n",
       "      <th>68.01</th>\n",
       "      <th>72.51</th>\n",
       "      <th>74.25</th>\n",
       "      <th>76.03</th>\n",
       "      <th>77.47</th>\n",
       "      <th>79.04</th>\n",
       "      <th>93.84</th>\n",
       "    </tr>\n",
       "    <tr>\n",
       "      <th>Menu Category</th>\n",
       "      <th></th>\n",
       "      <th></th>\n",
       "      <th></th>\n",
       "      <th></th>\n",
       "      <th></th>\n",
       "      <th></th>\n",
       "      <th></th>\n",
       "      <th></th>\n",
       "      <th></th>\n",
       "      <th></th>\n",
       "      <th></th>\n",
       "      <th></th>\n",
       "      <th></th>\n",
       "      <th></th>\n",
       "      <th></th>\n",
       "      <th></th>\n",
       "      <th></th>\n",
       "      <th></th>\n",
       "      <th></th>\n",
       "      <th></th>\n",
       "      <th></th>\n",
       "    </tr>\n",
       "  </thead>\n",
       "  <tbody>\n",
       "    <tr>\n",
       "      <th>Beverages Menu</th>\n",
       "      <td>2</td>\n",
       "      <td>0</td>\n",
       "      <td>0</td>\n",
       "      <td>0</td>\n",
       "      <td>0</td>\n",
       "      <td>0</td>\n",
       "      <td>0</td>\n",
       "      <td>0</td>\n",
       "      <td>0</td>\n",
       "      <td>0</td>\n",
       "      <td>...</td>\n",
       "      <td>0</td>\n",
       "      <td>1</td>\n",
       "      <td>0</td>\n",
       "      <td>0</td>\n",
       "      <td>0</td>\n",
       "      <td>0</td>\n",
       "      <td>0</td>\n",
       "      <td>0</td>\n",
       "      <td>0</td>\n",
       "      <td>0</td>\n",
       "    </tr>\n",
       "    <tr>\n",
       "      <th>Breakfast Menu</th>\n",
       "      <td>0</td>\n",
       "      <td>0</td>\n",
       "      <td>0</td>\n",
       "      <td>0</td>\n",
       "      <td>0</td>\n",
       "      <td>0</td>\n",
       "      <td>0</td>\n",
       "      <td>0</td>\n",
       "      <td>0</td>\n",
       "      <td>0</td>\n",
       "      <td>...</td>\n",
       "      <td>0</td>\n",
       "      <td>0</td>\n",
       "      <td>0</td>\n",
       "      <td>1</td>\n",
       "      <td>0</td>\n",
       "      <td>0</td>\n",
       "      <td>0</td>\n",
       "      <td>0</td>\n",
       "      <td>0</td>\n",
       "      <td>0</td>\n",
       "    </tr>\n",
       "    <tr>\n",
       "      <th>Condiments Menu</th>\n",
       "      <td>0</td>\n",
       "      <td>0</td>\n",
       "      <td>0</td>\n",
       "      <td>0</td>\n",
       "      <td>1</td>\n",
       "      <td>0</td>\n",
       "      <td>0</td>\n",
       "      <td>0</td>\n",
       "      <td>1</td>\n",
       "      <td>1</td>\n",
       "      <td>...</td>\n",
       "      <td>0</td>\n",
       "      <td>0</td>\n",
       "      <td>0</td>\n",
       "      <td>0</td>\n",
       "      <td>0</td>\n",
       "      <td>0</td>\n",
       "      <td>0</td>\n",
       "      <td>0</td>\n",
       "      <td>0</td>\n",
       "      <td>0</td>\n",
       "    </tr>\n",
       "    <tr>\n",
       "      <th>Desserts Menu</th>\n",
       "      <td>0</td>\n",
       "      <td>0</td>\n",
       "      <td>0</td>\n",
       "      <td>0</td>\n",
       "      <td>0</td>\n",
       "      <td>0</td>\n",
       "      <td>0</td>\n",
       "      <td>0</td>\n",
       "      <td>0</td>\n",
       "      <td>0</td>\n",
       "      <td>...</td>\n",
       "      <td>0</td>\n",
       "      <td>0</td>\n",
       "      <td>0</td>\n",
       "      <td>0</td>\n",
       "      <td>0</td>\n",
       "      <td>0</td>\n",
       "      <td>0</td>\n",
       "      <td>0</td>\n",
       "      <td>0</td>\n",
       "      <td>0</td>\n",
       "    </tr>\n",
       "    <tr>\n",
       "      <th>Gourmet Menu</th>\n",
       "      <td>0</td>\n",
       "      <td>0</td>\n",
       "      <td>0</td>\n",
       "      <td>0</td>\n",
       "      <td>0</td>\n",
       "      <td>0</td>\n",
       "      <td>0</td>\n",
       "      <td>0</td>\n",
       "      <td>0</td>\n",
       "      <td>0</td>\n",
       "      <td>...</td>\n",
       "      <td>0</td>\n",
       "      <td>0</td>\n",
       "      <td>0</td>\n",
       "      <td>0</td>\n",
       "      <td>0</td>\n",
       "      <td>1</td>\n",
       "      <td>1</td>\n",
       "      <td>0</td>\n",
       "      <td>0</td>\n",
       "      <td>0</td>\n",
       "    </tr>\n",
       "    <tr>\n",
       "      <th>McCafe Menu</th>\n",
       "      <td>0</td>\n",
       "      <td>1</td>\n",
       "      <td>1</td>\n",
       "      <td>1</td>\n",
       "      <td>0</td>\n",
       "      <td>0</td>\n",
       "      <td>0</td>\n",
       "      <td>0</td>\n",
       "      <td>0</td>\n",
       "      <td>0</td>\n",
       "      <td>...</td>\n",
       "      <td>1</td>\n",
       "      <td>0</td>\n",
       "      <td>1</td>\n",
       "      <td>0</td>\n",
       "      <td>1</td>\n",
       "      <td>0</td>\n",
       "      <td>0</td>\n",
       "      <td>0</td>\n",
       "      <td>1</td>\n",
       "      <td>0</td>\n",
       "    </tr>\n",
       "    <tr>\n",
       "      <th>Regular Menu</th>\n",
       "      <td>0</td>\n",
       "      <td>0</td>\n",
       "      <td>0</td>\n",
       "      <td>0</td>\n",
       "      <td>0</td>\n",
       "      <td>1</td>\n",
       "      <td>1</td>\n",
       "      <td>1</td>\n",
       "      <td>0</td>\n",
       "      <td>0</td>\n",
       "      <td>...</td>\n",
       "      <td>0</td>\n",
       "      <td>0</td>\n",
       "      <td>0</td>\n",
       "      <td>0</td>\n",
       "      <td>0</td>\n",
       "      <td>0</td>\n",
       "      <td>0</td>\n",
       "      <td>1</td>\n",
       "      <td>0</td>\n",
       "      <td>1</td>\n",
       "    </tr>\n",
       "  </tbody>\n",
       "</table>\n",
       "<p>7 rows × 133 columns</p>\n",
       "</div>"
      ],
      "text/plain": [
       "Total carbohydrate (g)  0.00   0.28   0.33   0.46   0.72   0.73   1.60   \\\n",
       "Menu Category                                                             \n",
       "Beverages Menu              2      0      0      0      0      0      0   \n",
       "Breakfast Menu              0      0      0      0      0      0      0   \n",
       "Condiments Menu             0      0      0      0      1      0      0   \n",
       "Desserts Menu               0      0      0      0      0      0      0   \n",
       "Gourmet Menu                0      0      0      0      0      0      0   \n",
       "McCafe Menu                 0      1      1      1      0      0      0   \n",
       "Regular Menu                0      0      0      0      0      1      1   \n",
       "\n",
       "Total carbohydrate (g)  1.70   1.99   2.50   ...  60.93  64.22  64.75  68.01  \\\n",
       "Menu Category                                ...                               \n",
       "Beverages Menu              0      0      0  ...      0      1      0      0   \n",
       "Breakfast Menu              0      0      0  ...      0      0      0      1   \n",
       "Condiments Menu             0      1      1  ...      0      0      0      0   \n",
       "Desserts Menu               0      0      0  ...      0      0      0      0   \n",
       "Gourmet Menu                0      0      0  ...      0      0      0      0   \n",
       "McCafe Menu                 0      0      0  ...      1      0      1      0   \n",
       "Regular Menu                1      0      0  ...      0      0      0      0   \n",
       "\n",
       "Total carbohydrate (g)  72.51  74.25  76.03  77.47  79.04  93.84  \n",
       "Menu Category                                                     \n",
       "Beverages Menu              0      0      0      0      0      0  \n",
       "Breakfast Menu              0      0      0      0      0      0  \n",
       "Condiments Menu             0      0      0      0      0      0  \n",
       "Desserts Menu               0      0      0      0      0      0  \n",
       "Gourmet Menu                0      1      1      0      0      0  \n",
       "McCafe Menu                 1      0      0      0      1      0  \n",
       "Regular Menu                0      0      0      1      0      1  \n",
       "\n",
       "[7 rows x 133 columns]"
      ]
     },
     "execution_count": 99,
     "metadata": {},
     "output_type": "execute_result"
    }
   ],
   "source": [
    "# Extraer los siguentes estadísiticos del conjunto de datos para varias de las varibles disponibles:\n",
    "# Tabla de contingencia\n",
    "\n",
    " \n",
    "pd.crosstab(df['Total carbohydrate (g)'] ,df['Menu Category']).T"
   ]
  },
  {
   "cell_type": "code",
   "execution_count": null,
   "metadata": {},
   "outputs": [],
   "source": [
    "#La tabla de contingencia nos muestra la frecuencia entre dos variables, en este caso el total de carbohidratos representados en gramos, \n",
    "# con respecto a la categoría del menú al que pertenecen, \n",
    "# para mejorar la visibilidad preferimos representar los productos por categoría y no producto por producto.\n",
    "#Podemos ver por ejemplo que en la categoría Beverages hay dos productos con 0.0 carbohidratos totales."
   ]
  },
  {
   "cell_type": "code",
   "execution_count": 102,
   "metadata": {},
   "outputs": [
    {
     "name": "stdout",
     "output_type": "stream",
     "text": [
      "[[1.         0.50870732]\n",
      " [0.50870732 1.        ]]\n"
     ]
    }
   ],
   "source": [
    "# Coeficiente de correlación de las variables numéricas del dataset.\n",
    "\n",
    "matriz_correlacion = np.corrcoef(df['Total carbohydrate (g)'], df['Total Sugars (g)'])\n",
    "print(matriz_correlacion) "
   ]
  },
  {
   "cell_type": "code",
   "execution_count": 103,
   "metadata": {},
   "outputs": [
    {
     "data": {
      "image/png": "[encoded data removed]",
      "text/plain": [
       "<Figure size 1080x576 with 2 Axes>"
      ]
     },
     "metadata": {
      "needs_background": "light"
     },
     "output_type": "display_data"
    }
   ],
   "source": [
    "plt.figure (figsize = (15,8))\n",
    "\n",
    "fig = sns.heatmap(np.corrcoef(df['Total carbohydrate (g)'],df['Total Sugars (g)']), annot = True)"
   ]
  },
  {
   "cell_type": "code",
   "execution_count": 79,
   "metadata": {},
   "outputs": [],
   "source": [
    "#El coeficiente de correlación entre 'Total carbohydrate (g)' y 'Total Sugars (g)' resultó 0.51, \n",
    "# lo que nos indica que no existe una relación líneal entre las dos variables."
   ]
  },
  {
   "cell_type": "code",
   "execution_count": 80,
   "metadata": {},
   "outputs": [
    {
     "data": {
      "text/plain": [
       "0.36093135285828754"
      ]
     },
     "execution_count": 80,
     "metadata": {},
     "output_type": "execute_result"
    }
   ],
   "source": [
    "# Sesgos de alguna de las variables numéricas del dataset.\n",
    "skew(df['Total carbohydrate (g)'])"
   ]
  },
  {
   "cell_type": "code",
   "execution_count": null,
   "metadata": {},
   "outputs": [],
   "source": [
    "#Al resultar el sesgo 0.36 nos indica que la distribución de los valores es simétrica respecto a la media. \n",
    "# Lo cual podremos observar en la siguiente gráfica"
   ]
  },
  {
   "cell_type": "code",
   "execution_count": 88,
   "metadata": {},
   "outputs": [
    {
     "data": {
      "image/png": "[encoded data removed]",
      "text/plain": [
       "<Figure size 1080x576 with 1 Axes>"
      ]
     },
     "metadata": {
      "needs_background": "light"
     },
     "output_type": "display_data"
    }
   ],
   "source": [
    "fig, ax = plt.subplots(figsize = (15,8))\n",
    "sns.histplot(x = 'Total carbohydrate (g)', data = df);\n",
    "\n",
    "media = np.mean(df['Total carbohydrate (g)'])\n",
    "mediana = np.median(df['Total carbohydrate (g)'])\n",
    "plt.axvline(media, color='red')\n",
    "plt.axvline(mediana, color='orange')\n",
    "plt.show()"
   ]
  },
  {
   "cell_type": "code",
   "execution_count": 104,
   "metadata": {},
   "outputs": [
    {
     "name": "stdout",
     "output_type": "stream",
     "text": [
      "(27.760085356668956, 34.62048201921757)\n",
      "31.19028368794326\n"
     ]
    }
   ],
   "source": [
    "#intervalo de confianza\n",
    "data = df['Total carbohydrate (g)']\n",
    "\n",
    "# Utilizamos Scipy para calcular el intervalo de confianza del 95% de la media de los datos.\n",
    "# Dicho intervalo nos indica donde está la media de los valores de longitud de los sépalos con un 95 de probabilidad.\n",
    "print(st.t.interval(alpha=0.95, df=len(data)-1, loc=np.mean(data), scale=st.sem(data)))\n",
    "\n",
    "# Lo comparamos con la media obtenido de los datos disponibles hasta el momento\n",
    "print(np.mean(data))"
   ]
  },
  {
   "cell_type": "code",
   "execution_count": 106,
   "metadata": {},
   "outputs": [
    {
     "name": "stdout",
     "output_type": "stream",
     "text": [
      "(8.270194656247632, 11.713209599071519)\n",
      "9.991702127659575\n"
     ]
    }
   ],
   "source": [
    "data = df['Total fat (g)']\n",
    "\n",
    "# Utilizamos Scipy para calcular el intervalo de confianza del 95% de la media de los datos.\n",
    "# Dicho intervalo nos indica donde está la media de los valores de longitud de los sépalos con un 95 de probabilidad.\n",
    "print(st.t.interval(alpha=0.95, df=len(data)-1, loc=np.mean(data), scale=st.sem(data)))\n",
    "\n",
    "# Lo comparamos con la media obtenido de los datos disponibles hasta el momento\n",
    "print(np.mean(data))"
   ]
  },
  {
   "cell_type": "code",
   "execution_count": 107,
   "metadata": {},
   "outputs": [
    {
     "name": "stdout",
     "output_type": "stream",
     "text": [
      "(12.85250694668664, 18.077280287355904)\n",
      "15.464893617021271\n"
     ]
    }
   ],
   "source": [
    "\n",
    "data = df['Total Sugars (g)']\n",
    "\n",
    "# Utilizamos Scipy para calcular el intervalo de confianza del 95% de la media de los datos.\n",
    "# Dicho intervalo nos indica donde está la media de los valores de longitud de los sépalos con un 95 de probabilidad.\n",
    "print(st.t.interval(alpha=0.95, df=len(data)-1, loc=np.mean(data), scale=st.sem(data)))\n",
    "\n",
    "# Lo comparamos con la media obtenido de los datos disponibles hasta el momento\n",
    "print(np.mean(data))"
   ]
  },
  {
   "cell_type": "code",
   "execution_count": null,
   "metadata": {},
   "outputs": [],
   "source": [
    "#se generaron los intervalos de confianza para 3 de las columnas para poder observar el par de números entre los cuales se estima qeu estará cierto valor, \n",
    "#en nuestro caso la media. Estipulamos un porcentaje del 95% de probabilidad de que la media real se encuentre en el intervalo calculado."
   ]
  }
 ],
 "metadata": {
  "kernelspec": {
   "display_name": "Python 3.8.9 64-bit",
   "language": "python",
   "name": "python3"
  },
  "language_info": {
   "codemirror_mode": {
    "name": "ipython",
    "version": 3
   },
   "file_extension": ".py",
   "mimetype": "text/x-python",
   "name": "python",
   "nbconvert_exporter": "python",
   "pygments_lexer": "ipython3",
   "version": "3.8.9"
  },
  "orig_nbformat": 4,
  "vscode": {
   "interpreter": {
    "hash": "31f2aee4e71d21fbe5cf8b01ff0e069b9275f58929596ceb00d14d90e3e16cd6"
   }
  }
 },
 "nbformat": 4,
 "nbformat_minor": 2
}
