{
 "cells": [
  {
   "cell_type": "code",
   "execution_count": 6,
   "metadata": {},
   "outputs": [],
   "source": [
    "# Los objetivos de hoy son:\n",
    "# Buscar un conjunto de datos a analizar:\n",
    "# Se recomienda que el conjunto de datos a analizar tenga variables numéricas y categóricas. Ya que también se analizarán.\n",
    "\n",
    "\n",
    "from scipy import stats \n",
    "import seaborn as sns\n",
    "import numpy as np \n",
    "import pandas as pd\n",
    "df= pd.read_csv('./datos/India_Menu.csv')"
   ]
  },
  {
   "cell_type": "code",
   "execution_count": 7,
   "metadata": {},
   "outputs": [
    {
     "data": {
      "text/html": [
       "<div>\n",
       "<style scoped>\n",
       "    .dataframe tbody tr th:only-of-type {\n",
       "        vertical-align: middle;\n",
       "    }\n",
       "\n",
       "    .dataframe tbody tr th {\n",
       "        vertical-align: top;\n",
       "    }\n",
       "\n",
       "    .dataframe thead th {\n",
       "        text-align: right;\n",
       "    }\n",
       "</style>\n",
       "<table border=\"1\" class=\"dataframe\">\n",
       "  <thead>\n",
       "    <tr style=\"text-align: right;\">\n",
       "      <th></th>\n",
       "      <th>Menu Category</th>\n",
       "      <th>Menu Items</th>\n",
       "      <th>Per Serve Size</th>\n",
       "      <th>Energy (kCal)</th>\n",
       "      <th>Protein (g)</th>\n",
       "      <th>Total fat (g)</th>\n",
       "      <th>Sat Fat (g)</th>\n",
       "      <th>Trans fat (g)</th>\n",
       "      <th>Cholesterols (mg)</th>\n",
       "      <th>Total carbohydrate (g)</th>\n",
       "      <th>Total Sugars (g)</th>\n",
       "      <th>Added Sugars (g)</th>\n",
       "      <th>Sodium (mg)</th>\n",
       "    </tr>\n",
       "  </thead>\n",
       "  <tbody>\n",
       "    <tr>\n",
       "      <th>0</th>\n",
       "      <td>Regular Menu</td>\n",
       "      <td>McVeggie™ Burger</td>\n",
       "      <td>168 g</td>\n",
       "      <td>402.05</td>\n",
       "      <td>10.24</td>\n",
       "      <td>13.83</td>\n",
       "      <td>5.34</td>\n",
       "      <td>0.16</td>\n",
       "      <td>2.49</td>\n",
       "      <td>56.54</td>\n",
       "      <td>7.90</td>\n",
       "      <td>4.49</td>\n",
       "      <td>706.13</td>\n",
       "    </tr>\n",
       "    <tr>\n",
       "      <th>1</th>\n",
       "      <td>Regular Menu</td>\n",
       "      <td>McAloo Tikki Burger®</td>\n",
       "      <td>146 g</td>\n",
       "      <td>339.52</td>\n",
       "      <td>8.50</td>\n",
       "      <td>11.31</td>\n",
       "      <td>4.27</td>\n",
       "      <td>0.20</td>\n",
       "      <td>1.47</td>\n",
       "      <td>50.27</td>\n",
       "      <td>7.05</td>\n",
       "      <td>4.07</td>\n",
       "      <td>545.34</td>\n",
       "    </tr>\n",
       "    <tr>\n",
       "      <th>2</th>\n",
       "      <td>Regular Menu</td>\n",
       "      <td>McSpicy™ Paneer Burger</td>\n",
       "      <td>199 g</td>\n",
       "      <td>652.76</td>\n",
       "      <td>20.29</td>\n",
       "      <td>39.45</td>\n",
       "      <td>17.12</td>\n",
       "      <td>0.18</td>\n",
       "      <td>21.85</td>\n",
       "      <td>52.33</td>\n",
       "      <td>8.35</td>\n",
       "      <td>5.27</td>\n",
       "      <td>1074.58</td>\n",
       "    </tr>\n",
       "    <tr>\n",
       "      <th>3</th>\n",
       "      <td>Regular Menu</td>\n",
       "      <td>Spicy Paneer Wrap</td>\n",
       "      <td>250 g</td>\n",
       "      <td>674.68</td>\n",
       "      <td>20.96</td>\n",
       "      <td>39.10</td>\n",
       "      <td>19.73</td>\n",
       "      <td>0.26</td>\n",
       "      <td>40.93</td>\n",
       "      <td>59.27</td>\n",
       "      <td>3.50</td>\n",
       "      <td>1.08</td>\n",
       "      <td>1087.46</td>\n",
       "    </tr>\n",
       "    <tr>\n",
       "      <th>4</th>\n",
       "      <td>Regular Menu</td>\n",
       "      <td>American Veg Burger</td>\n",
       "      <td>177 g</td>\n",
       "      <td>512.17</td>\n",
       "      <td>15.30</td>\n",
       "      <td>23.45</td>\n",
       "      <td>10.51</td>\n",
       "      <td>0.17</td>\n",
       "      <td>25.24</td>\n",
       "      <td>56.96</td>\n",
       "      <td>7.85</td>\n",
       "      <td>4.76</td>\n",
       "      <td>1051.24</td>\n",
       "    </tr>\n",
       "  </tbody>\n",
       "</table>\n",
       "</div>"
      ],
      "text/plain": [
       "  Menu Category              Menu Items Per Serve Size  Energy (kCal)  \\\n",
       "0  Regular Menu        McVeggie™ Burger          168 g         402.05   \n",
       "1  Regular Menu    McAloo Tikki Burger®          146 g         339.52   \n",
       "2  Regular Menu  McSpicy™ Paneer Burger          199 g         652.76   \n",
       "3  Regular Menu       Spicy Paneer Wrap          250 g         674.68   \n",
       "4  Regular Menu     American Veg Burger          177 g         512.17   \n",
       "\n",
       "   Protein (g)  Total fat (g)  Sat Fat (g)  Trans fat (g)  Cholesterols (mg)  \\\n",
       "0        10.24          13.83         5.34           0.16               2.49   \n",
       "1         8.50          11.31         4.27           0.20               1.47   \n",
       "2        20.29          39.45        17.12           0.18              21.85   \n",
       "3        20.96          39.10        19.73           0.26              40.93   \n",
       "4        15.30          23.45        10.51           0.17              25.24   \n",
       "\n",
       "   Total carbohydrate (g)  Total Sugars (g)  Added Sugars (g)  Sodium (mg)  \n",
       "0                   56.54              7.90              4.49       706.13  \n",
       "1                   50.27              7.05              4.07       545.34  \n",
       "2                   52.33              8.35              5.27      1074.58  \n",
       "3                   59.27              3.50              1.08      1087.46  \n",
       "4                   56.96              7.85              4.76      1051.24  "
      ]
     },
     "execution_count": 7,
     "metadata": {},
     "output_type": "execute_result"
    }
   ],
   "source": [
    "df.head()"
   ]
  },
  {
   "cell_type": "code",
   "execution_count": 13,
   "metadata": {},
   "outputs": [
    {
     "name": "stderr",
     "output_type": "stream",
     "text": [
      "/var/folders/0b/r1tw2m0d04b5wkj6n99ypszr0000gn/T/ipykernel_5298/2494536468.py:3: FutureWarning: Dropping of nuisance columns in DataFrame reductions (with 'numeric_only=None') is deprecated; in a future version this will raise TypeError.  Select only valid columns before calling the reduction.\n",
      "  media=df.mean(skipna=True)\n"
     ]
    },
    {
     "data": {
      "text/plain": [
       "Energy (kCal)             244.635461\n",
       "Protein (g)                 7.493546\n",
       "Total fat (g)               9.991702\n",
       "Sat Fat (g)                 4.997589\n",
       "Trans fat (g)               0.687163\n",
       "Cholesterols (mg)          26.350071\n",
       "Total carbohydrate (g)     31.190284\n",
       "Total Sugars (g)           15.464894\n",
       "Added Sugars (g)           10.336950\n",
       "Sodium (mg)               362.064143\n",
       "dtype: float64"
      ]
     },
     "execution_count": 13,
     "metadata": {},
     "output_type": "execute_result"
    }
   ],
   "source": [
    "# Extraer los siguentes estadísiticos del conjunto de datos para varias de las variables disponibles:\n",
    "# Media\n",
    "media=df.mean(skipna=True)\n",
    "media"
   ]
  },
  {
   "cell_type": "code",
   "execution_count": 14,
   "metadata": {},
   "outputs": [
    {
     "data": {
      "text/html": [
       "<div>\n",
       "<style scoped>\n",
       "    .dataframe tbody tr th:only-of-type {\n",
       "        vertical-align: middle;\n",
       "    }\n",
       "\n",
       "    .dataframe tbody tr th {\n",
       "        vertical-align: top;\n",
       "    }\n",
       "\n",
       "    .dataframe thead th {\n",
       "        text-align: right;\n",
       "    }\n",
       "</style>\n",
       "<table border=\"1\" class=\"dataframe\">\n",
       "  <thead>\n",
       "    <tr style=\"text-align: right;\">\n",
       "      <th></th>\n",
       "      <th>Added Sugars (g)</th>\n",
       "      <th>Cholesterols (mg)</th>\n",
       "      <th>Energy (kCal)</th>\n",
       "      <th>Menu Category</th>\n",
       "      <th>Menu Items</th>\n",
       "      <th>Per Serve Size</th>\n",
       "      <th>Protein (g)</th>\n",
       "      <th>Sat Fat (g)</th>\n",
       "      <th>Sodium (mg)</th>\n",
       "      <th>Total Sugars (g)</th>\n",
       "      <th>Total carbohydrate (g)</th>\n",
       "      <th>Total fat (g)</th>\n",
       "      <th>Trans fat (g)</th>\n",
       "    </tr>\n",
       "  </thead>\n",
       "  <tbody>\n",
       "    <tr>\n",
       "      <th>0</th>\n",
       "      <td>5.84695</td>\n",
       "      <td>23.860071</td>\n",
       "      <td>157.414539</td>\n",
       "      <td>NaN</td>\n",
       "      <td>NaN</td>\n",
       "      <td>NaN</td>\n",
       "      <td>2.746454</td>\n",
       "      <td>0.342411</td>\n",
       "      <td>344.065857</td>\n",
       "      <td>7.564894</td>\n",
       "      <td>25.349716</td>\n",
       "      <td>3.838298</td>\n",
       "      <td>0.527163</td>\n",
       "    </tr>\n",
       "    <tr>\n",
       "      <th>1</th>\n",
       "      <td>6.26695</td>\n",
       "      <td>24.880071</td>\n",
       "      <td>94.884539</td>\n",
       "      <td>NaN</td>\n",
       "      <td>NaN</td>\n",
       "      <td>NaN</td>\n",
       "      <td>1.006454</td>\n",
       "      <td>0.727589</td>\n",
       "      <td>183.275857</td>\n",
       "      <td>8.414894</td>\n",
       "      <td>19.079716</td>\n",
       "      <td>1.318298</td>\n",
       "      <td>0.487163</td>\n",
       "    </tr>\n",
       "    <tr>\n",
       "      <th>2</th>\n",
       "      <td>5.06695</td>\n",
       "      <td>4.500071</td>\n",
       "      <td>408.124539</td>\n",
       "      <td>NaN</td>\n",
       "      <td>NaN</td>\n",
       "      <td>NaN</td>\n",
       "      <td>12.796454</td>\n",
       "      <td>12.122411</td>\n",
       "      <td>712.515857</td>\n",
       "      <td>7.114894</td>\n",
       "      <td>21.139716</td>\n",
       "      <td>29.458298</td>\n",
       "      <td>0.507163</td>\n",
       "    </tr>\n",
       "    <tr>\n",
       "      <th>3</th>\n",
       "      <td>9.25695</td>\n",
       "      <td>14.579929</td>\n",
       "      <td>430.044539</td>\n",
       "      <td>NaN</td>\n",
       "      <td>NaN</td>\n",
       "      <td>NaN</td>\n",
       "      <td>13.466454</td>\n",
       "      <td>14.732411</td>\n",
       "      <td>725.395857</td>\n",
       "      <td>11.964894</td>\n",
       "      <td>28.079716</td>\n",
       "      <td>29.108298</td>\n",
       "      <td>0.427163</td>\n",
       "    </tr>\n",
       "    <tr>\n",
       "      <th>4</th>\n",
       "      <td>5.57695</td>\n",
       "      <td>1.110071</td>\n",
       "      <td>267.534539</td>\n",
       "      <td>NaN</td>\n",
       "      <td>NaN</td>\n",
       "      <td>NaN</td>\n",
       "      <td>7.806454</td>\n",
       "      <td>5.512411</td>\n",
       "      <td>689.175857</td>\n",
       "      <td>7.614894</td>\n",
       "      <td>25.769716</td>\n",
       "      <td>13.458298</td>\n",
       "      <td>0.517163</td>\n",
       "    </tr>\n",
       "    <tr>\n",
       "      <th>...</th>\n",
       "      <td>...</td>\n",
       "      <td>...</td>\n",
       "      <td>...</td>\n",
       "      <td>...</td>\n",
       "      <td>...</td>\n",
       "      <td>...</td>\n",
       "      <td>...</td>\n",
       "      <td>...</td>\n",
       "      <td>...</td>\n",
       "      <td>...</td>\n",
       "      <td>...</td>\n",
       "      <td>...</td>\n",
       "      <td>...</td>\n",
       "    </tr>\n",
       "    <tr>\n",
       "      <th>136</th>\n",
       "      <td>8.69695</td>\n",
       "      <td>26.270071</td>\n",
       "      <td>233.405461</td>\n",
       "      <td>NaN</td>\n",
       "      <td>NaN</td>\n",
       "      <td>NaN</td>\n",
       "      <td>7.413546</td>\n",
       "      <td>4.997589</td>\n",
       "      <td>291.014143</td>\n",
       "      <td>13.134894</td>\n",
       "      <td>28.560284</td>\n",
       "      <td>13.458298</td>\n",
       "      <td>0.677163</td>\n",
       "    </tr>\n",
       "    <tr>\n",
       "      <th>137</th>\n",
       "      <td>4.99695</td>\n",
       "      <td>26.050071</td>\n",
       "      <td>158.235461</td>\n",
       "      <td>NaN</td>\n",
       "      <td>NaN</td>\n",
       "      <td>NaN</td>\n",
       "      <td>7.493546</td>\n",
       "      <td>4.997589</td>\n",
       "      <td>347.064143</td>\n",
       "      <td>0.735106</td>\n",
       "      <td>9.590284</td>\n",
       "      <td>9.991702</td>\n",
       "      <td>0.687163</td>\n",
       "    </tr>\n",
       "    <tr>\n",
       "      <th>138</th>\n",
       "      <td>10.33695</td>\n",
       "      <td>12.920071</td>\n",
       "      <td>193.605461</td>\n",
       "      <td>NaN</td>\n",
       "      <td>NaN</td>\n",
       "      <td>NaN</td>\n",
       "      <td>4.433546</td>\n",
       "      <td>2.107589</td>\n",
       "      <td>183.114143</td>\n",
       "      <td>14.924894</td>\n",
       "      <td>30.470284</td>\n",
       "      <td>6.001702</td>\n",
       "      <td>0.677163</td>\n",
       "    </tr>\n",
       "    <tr>\n",
       "      <th>139</th>\n",
       "      <td>10.33695</td>\n",
       "      <td>24.350071</td>\n",
       "      <td>199.555461</td>\n",
       "      <td>NaN</td>\n",
       "      <td>NaN</td>\n",
       "      <td>NaN</td>\n",
       "      <td>6.023546</td>\n",
       "      <td>4.777589</td>\n",
       "      <td>362.024143</td>\n",
       "      <td>12.924894</td>\n",
       "      <td>23.640284</td>\n",
       "      <td>8.991702</td>\n",
       "      <td>0.647163</td>\n",
       "    </tr>\n",
       "    <tr>\n",
       "      <th>140</th>\n",
       "      <td>10.33695</td>\n",
       "      <td>26.340071</td>\n",
       "      <td>172.385461</td>\n",
       "      <td>NaN</td>\n",
       "      <td>NaN</td>\n",
       "      <td>NaN</td>\n",
       "      <td>6.843546</td>\n",
       "      <td>4.977589</td>\n",
       "      <td>351.264143</td>\n",
       "      <td>1.365106</td>\n",
       "      <td>13.190284</td>\n",
       "      <td>9.971702</td>\n",
       "      <td>0.667163</td>\n",
       "    </tr>\n",
       "  </tbody>\n",
       "</table>\n",
       "<p>141 rows × 13 columns</p>\n",
       "</div>"
      ],
      "text/plain": [
       "     Added Sugars (g)  Cholesterols (mg)  Energy (kCal) Menu Category  \\\n",
       "0             5.84695          23.860071     157.414539           NaN   \n",
       "1             6.26695          24.880071      94.884539           NaN   \n",
       "2             5.06695           4.500071     408.124539           NaN   \n",
       "3             9.25695          14.579929     430.044539           NaN   \n",
       "4             5.57695           1.110071     267.534539           NaN   \n",
       "..                ...                ...            ...           ...   \n",
       "136           8.69695          26.270071     233.405461           NaN   \n",
       "137           4.99695          26.050071     158.235461           NaN   \n",
       "138          10.33695          12.920071     193.605461           NaN   \n",
       "139          10.33695          24.350071     199.555461           NaN   \n",
       "140          10.33695          26.340071     172.385461           NaN   \n",
       "\n",
       "    Menu Items Per Serve Size  Protein (g)  Sat Fat (g)  Sodium (mg)  \\\n",
       "0          NaN            NaN     2.746454     0.342411   344.065857   \n",
       "1          NaN            NaN     1.006454     0.727589   183.275857   \n",
       "2          NaN            NaN    12.796454    12.122411   712.515857   \n",
       "3          NaN            NaN    13.466454    14.732411   725.395857   \n",
       "4          NaN            NaN     7.806454     5.512411   689.175857   \n",
       "..         ...            ...          ...          ...          ...   \n",
       "136        NaN            NaN     7.413546     4.997589   291.014143   \n",
       "137        NaN            NaN     7.493546     4.997589   347.064143   \n",
       "138        NaN            NaN     4.433546     2.107589   183.114143   \n",
       "139        NaN            NaN     6.023546     4.777589   362.024143   \n",
       "140        NaN            NaN     6.843546     4.977589   351.264143   \n",
       "\n",
       "     Total Sugars (g)  Total carbohydrate (g)  Total fat (g)  Trans fat (g)  \n",
       "0            7.564894               25.349716       3.838298       0.527163  \n",
       "1            8.414894               19.079716       1.318298       0.487163  \n",
       "2            7.114894               21.139716      29.458298       0.507163  \n",
       "3           11.964894               28.079716      29.108298       0.427163  \n",
       "4            7.614894               25.769716      13.458298       0.517163  \n",
       "..                ...                     ...            ...            ...  \n",
       "136         13.134894               28.560284      13.458298       0.677163  \n",
       "137          0.735106                9.590284       9.991702       0.687163  \n",
       "138         14.924894               30.470284       6.001702       0.677163  \n",
       "139         12.924894               23.640284       8.991702       0.647163  \n",
       "140          1.365106               13.190284       9.971702       0.667163  \n",
       "\n",
       "[141 rows x 13 columns]"
      ]
     },
     "execution_count": 14,
     "metadata": {},
     "output_type": "execute_result"
    }
   ],
   "source": [
    "# Desviación con respecto de la media\n",
    "\n",
    "desviacion_media = np.abs(df-media)\n",
    "desviacion_media"
   ]
  },
  {
   "cell_type": "code",
   "execution_count": 15,
   "metadata": {},
   "outputs": [
    {
     "name": "stderr",
     "output_type": "stream",
     "text": [
      "/Users/feliciano/opt/anaconda3/lib/python3.9/site-packages/numpy/core/fromnumeric.py:3700: FutureWarning: Dropping of nuisance columns in DataFrame reductions (with 'numeric_only=None') is deprecated; in a future version this will raise TypeError.  Select only valid columns before calling the reduction.\n",
      "  return var(axis=axis, dtype=dtype, out=out, ddof=ddof, **kwargs)\n"
     ]
    },
    {
     "data": {
      "text/plain": [
       "Energy (kCal)              34186.408838\n",
       "Protein (g)                   69.010355\n",
       "Total fat (g)                106.147292\n",
       "Sat Fat (g)                   23.844105\n",
       "Trans fat (g)                 39.736165\n",
       "Cholesterols (mg)           2515.563425\n",
       "Total carbohydrate (g)       421.433989\n",
       "Total Sugars (g)             244.436476\n",
       "Added Sugars (g)             202.568267\n",
       "Sodium (mg)               222281.699963\n",
       "dtype: float64"
      ]
     },
     "execution_count": 15,
     "metadata": {},
     "output_type": "execute_result"
    }
   ],
   "source": [
    "# Varianza\n",
    "varianza= np.var(df) # varianza para todos los datos\n",
    "varianza"
   ]
  },
  {
   "cell_type": "code",
   "execution_count": 16,
   "metadata": {},
   "outputs": [
    {
     "name": "stderr",
     "output_type": "stream",
     "text": [
      "/Users/feliciano/opt/anaconda3/lib/python3.9/site-packages/numpy/core/fromnumeric.py:3700: FutureWarning: Dropping of nuisance columns in DataFrame reductions (with 'numeric_only=None') is deprecated; in a future version this will raise TypeError.  Select only valid columns before calling the reduction.\n",
      "  return var(axis=axis, dtype=dtype, out=out, ddof=ddof, **kwargs)\n"
     ]
    },
    {
     "data": {
      "text/plain": [
       "Energy (kCal)              34186.408838\n",
       "Protein (g)                   69.010355\n",
       "Total fat (g)                106.147292\n",
       "Sat Fat (g)                   23.844105\n",
       "Trans fat (g)                 39.736165\n",
       "Cholesterols (mg)           2515.563425\n",
       "Total carbohydrate (g)       421.433989\n",
       "Total Sugars (g)             244.436476\n",
       "Added Sugars (g)             202.568267\n",
       "Sodium (mg)               222281.699963\n",
       "dtype: float64"
      ]
     },
     "execution_count": 16,
     "metadata": {},
     "output_type": "execute_result"
    }
   ],
   "source": [
    "np.var(df, 0) # varianza de cada columna"
   ]
  },
  {
   "cell_type": "code",
   "execution_count": 17,
   "metadata": {},
   "outputs": [
    {
     "name": "stderr",
     "output_type": "stream",
     "text": [
      "/Users/feliciano/opt/anaconda3/lib/python3.9/site-packages/numpy/core/fromnumeric.py:3700: FutureWarning: Dropping of nuisance columns in DataFrame reductions (with 'numeric_only=None') is deprecated; in a future version this will raise TypeError.  Select only valid columns before calling the reduction.\n",
      "  return var(axis=axis, dtype=dtype, out=out, ddof=ddof, **kwargs)\n"
     ]
    },
    {
     "data": {
      "text/plain": [
       "0       51766.478001\n",
       "1       32100.508620\n",
       "2      122835.773896\n",
       "3      126625.222221\n",
       "4      108067.705505\n",
       "           ...      \n",
       "136       447.354120\n",
       "137       634.970304\n",
       "138      2835.883976\n",
       "139       174.359264\n",
       "140       453.777920\n",
       "Length: 141, dtype: float64"
      ]
     },
     "execution_count": 17,
     "metadata": {},
     "output_type": "execute_result"
    }
   ],
   "source": [
    "np.var(df, 1) #varianza de cada fila"
   ]
  },
  {
   "cell_type": "code",
   "execution_count": 18,
   "metadata": {},
   "outputs": [
    {
     "name": "stderr",
     "output_type": "stream",
     "text": [
      "/var/folders/0b/r1tw2m0d04b5wkj6n99ypszr0000gn/T/ipykernel_5298/89210321.py:3: DeprecationWarning: `np.str` is a deprecated alias for the builtin `str`. To silence this warning, use `str` by itself. Doing this will not modify any behavior and is safe. If you specifically wanted the numpy scalar type, use `np.str_` here.\n",
      "Deprecated in NumPy 1.20; for more details and guidance: https://numpy.org/devdocs/release/1.20.0-notes.html#deprecations\n",
      "  des_tipica= np.str(df) # varianza para todos los datos\n"
     ]
    },
    {
     "data": {
      "text/plain": [
       "'       Menu Category              Menu Items Per Serve Size  Energy (kCal)  \\\\\\n0       Regular Menu        McVeggie™ Burger          168 g         402.05   \\n1       Regular Menu    McAloo Tikki Burger®          146 g         339.52   \\n2       Regular Menu  McSpicy™ Paneer Burger          199 g         652.76   \\n3       Regular Menu       Spicy Paneer Wrap          250 g         674.68   \\n4       Regular Menu     American Veg Burger          177 g         512.17   \\n..               ...                     ...            ...            ...   \\n136  Condiments Menu  Tomato Ketchup Sachets            8 g          11.23   \\n137  Condiments Menu             Maple Syrup           30 g          86.40   \\n138  Condiments Menu            Cheese Slice           14 g          51.03   \\n139  Condiments Menu              Sweet Corn           40 g          45.08   \\n140  Condiments Menu    Mixed Fruit Beverage         180 ml          72.25   \\n\\n     Protein (g)  Total fat (g)  Sat Fat (g)  Trans fat (g)  \\\\\\n0          10.24          13.83         5.34           0.16   \\n1           8.50          11.31         4.27           0.20   \\n2          20.29          39.45        17.12           0.18   \\n3          20.96          39.10        19.73           0.26   \\n4          15.30          23.45        10.51           0.17   \\n..           ...            ...          ...            ...   \\n136         0.08          23.45         0.00           0.01   \\n137         0.00           0.00         0.00           0.00   \\n138         3.06           3.99         2.89           0.01   \\n139         1.47           1.00         0.22           0.04   \\n140         0.65           0.02         0.02           0.02   \\n\\n     Cholesterols (mg)  Total carbohydrate (g)  Total Sugars (g)  \\\\\\n0                 2.49                   56.54              7.90   \\n1                 1.47                   50.27              7.05   \\n2                21.85                   52.33              8.35   \\n3                40.93                   59.27              3.50   \\n4                25.24                   56.96              7.85   \\n..                 ...                     ...               ...   \\n136               0.08                    2.63              2.33   \\n137               0.30                   21.60             16.20   \\n138              13.43                    0.72              0.54   \\n139               2.00                    7.55              2.54   \\n140               0.01                   18.00             16.83   \\n\\n     Added Sugars (g)  Sodium (mg)  \\n0                4.49       706.13  \\n1                4.07       545.34  \\n2                5.27      1074.58  \\n3                1.08      1087.46  \\n4                4.76      1051.24  \\n..                ...          ...  \\n136              1.64        71.05  \\n137              5.34        15.00  \\n138              0.00       178.95  \\n139              0.00         0.04  \\n140              0.00        10.80  \\n\\n[141 rows x 13 columns]'"
      ]
     },
     "execution_count": 18,
     "metadata": {},
     "output_type": "execute_result"
    }
   ],
   "source": [
    "# Desviación típica\n",
    "\n",
    "des_tipica= np.str(df) # varianza para todos los datos\n",
    "des_tipica"
   ]
  },
  {
   "cell_type": "code",
   "execution_count": 19,
   "metadata": {},
   "outputs": [
    {
     "name": "stderr",
     "output_type": "stream",
     "text": [
      "/Users/feliciano/opt/anaconda3/lib/python3.9/site-packages/numpy/core/fromnumeric.py:3558: FutureWarning: Dropping of nuisance columns in DataFrame reductions (with 'numeric_only=None') is deprecated; in a future version this will raise TypeError.  Select only valid columns before calling the reduction.\n",
      "  return std(axis=axis, dtype=dtype, out=out, ddof=ddof, **kwargs)\n"
     ]
    },
    {
     "data": {
      "text/plain": [
       "Energy (kCal)             184.895670\n",
       "Protein (g)                 8.307247\n",
       "Total fat (g)              10.302781\n",
       "Sat Fat (g)                 4.883043\n",
       "Trans fat (g)               6.303663\n",
       "Cholesterols (mg)          50.155393\n",
       "Total carbohydrate (g)     20.528857\n",
       "Total Sugars (g)           15.634464\n",
       "Added Sugars (g)           14.232648\n",
       "Sodium (mg)               471.467602\n",
       "dtype: float64"
      ]
     },
     "execution_count": 19,
     "metadata": {},
     "output_type": "execute_result"
    }
   ],
   "source": [
    "np.std(df, 0) #desviacion para cada columna"
   ]
  },
  {
   "cell_type": "code",
   "execution_count": 20,
   "metadata": {},
   "outputs": [
    {
     "data": {
      "text/plain": [
       "0      227.522478\n",
       "1      179.166148\n",
       "2      350.479349\n",
       "3      355.844379\n",
       "4      328.736529\n",
       "          ...    \n",
       "136     21.150748\n",
       "137     25.198617\n",
       "138     53.253018\n",
       "139     13.204517\n",
       "140     21.302064\n",
       "Length: 141, dtype: float64"
      ]
     },
     "execution_count": 20,
     "metadata": {},
     "output_type": "execute_result"
    }
   ],
   "source": [
    "np.std(df, 1) #desviacion para cada fila"
   ]
  },
  {
   "cell_type": "code",
   "execution_count": 23,
   "metadata": {},
   "outputs": [
    {
     "name": "stdout",
     "output_type": "stream",
     "text": [
      "[['McCafe Menu' '2 piece Chicken Strips' '299 ml' 12.87 0.0 0.0 0.0 0.0\n",
      "  0.0 0.0 0.0 0.0 0.32]]\n",
      "[[51  1  4  2 16 16 18 17 16  2  3 48  2]]\n"
     ]
    }
   ],
   "source": [
    "# Moda\n",
    "\n",
    "# moda de cada columna\n",
    "moda, frecuencia = stats.mode(df) \n",
    "\n"
   ]
  },
  {
   "cell_type": "code",
   "execution_count": 26,
   "metadata": {},
   "outputs": [
    {
     "data": {
      "text/plain": [
       "array([['McCafe Menu', '2 piece Chicken Strips', '299 ml', 12.87, 0.0,\n",
       "        0.0, 0.0, 0.0, 0.0, 0.0, 0.0, 0.0, 0.32]], dtype=object)"
      ]
     },
     "execution_count": 26,
     "metadata": {},
     "output_type": "execute_result"
    }
   ],
   "source": [
    "moda"
   ]
  },
  {
   "cell_type": "code",
   "execution_count": 27,
   "metadata": {},
   "outputs": [
    {
     "data": {
      "text/plain": [
       "array([[51,  1,  4,  2, 16, 16, 18, 17, 16,  2,  3, 48,  2]])"
      ]
     },
     "execution_count": 27,
     "metadata": {},
     "output_type": "execute_result"
    }
   ],
   "source": [
    "frecuencia"
   ]
  },
  {
   "cell_type": "code",
   "execution_count": null,
   "metadata": {},
   "outputs": [],
   "source": [
    "# Mediana\n"
   ]
  },
  {
   "cell_type": "code",
   "execution_count": null,
   "metadata": {},
   "outputs": [],
   "source": [
    "# Media ponderada"
   ]
  },
  {
   "cell_type": "code",
   "execution_count": null,
   "metadata": {},
   "outputs": [],
   "source": [
    "# Robustez"
   ]
  },
  {
   "cell_type": "code",
   "execution_count": null,
   "metadata": {},
   "outputs": [],
   "source": [
    "# Coeficiente de variación"
   ]
  },
  {
   "cell_type": "code",
   "execution_count": null,
   "metadata": {},
   "outputs": [],
   "source": [
    "# Interpretación de los resultados.\n",
    "# Ahora interpreta los resultados obtenidos de los diferentes estadísticos estudiados haciendo hincapié en aspectos interesantes de tus datos y explica lo mejor posible la naturaleza de los mismos."
   ]
  }
 ],
 "metadata": {
  "kernelspec": {
   "display_name": "Python 3.9.7 ('base')",
   "language": "python",
   "name": "python3"
  },
  "language_info": {
   "codemirror_mode": {
    "name": "ipython",
    "version": 3
   },
   "file_extension": ".py",
   "mimetype": "text/x-python",
   "name": "python",
   "nbconvert_exporter": "python",
   "pygments_lexer": "ipython3",
   "version": "3.9.7"
  },
  "orig_nbformat": 4,
  "vscode": {
   "interpreter": {
    "hash": "bab9de067d915f107d1ee2ee6fc66eaa4419a4d622bcbfdabd1c6ae75445c121"
   }
  }
 },
 "nbformat": 4,
 "nbformat_minor": 2
}
