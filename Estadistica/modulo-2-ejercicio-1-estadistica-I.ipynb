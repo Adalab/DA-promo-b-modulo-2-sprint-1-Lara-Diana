{
 "cells": [
  {
   "cell_type": "code",
   "execution_count": 1,
   "metadata": {},
   "outputs": [],
   "source": [
    "# Los objetivos de hoy son:\n",
    "# Buscar un conjunto de datos a analizar:\n",
    "# Se recomienda que el conjunto de datos a analizar tenga variables numéricas y categóricas. Ya que también se analizarán.\n",
    "\n",
    "\n",
    "from scipy import stats \n",
    "import seaborn as sns\n",
    "import numpy as np \n",
    "import pandas as pd\n",
    "df= pd.read_csv('./datos/Financial Sample.csv')"
   ]
  },
  {
   "cell_type": "code",
   "execution_count": 2,
   "metadata": {},
   "outputs": [
    {
     "data": {
      "text/html": [
       "<div>\n",
       "<style scoped>\n",
       "    .dataframe tbody tr th:only-of-type {\n",
       "        vertical-align: middle;\n",
       "    }\n",
       "\n",
       "    .dataframe tbody tr th {\n",
       "        vertical-align: top;\n",
       "    }\n",
       "\n",
       "    .dataframe thead th {\n",
       "        text-align: right;\n",
       "    }\n",
       "</style>\n",
       "<table border=\"1\" class=\"dataframe\">\n",
       "  <thead>\n",
       "    <tr style=\"text-align: right;\">\n",
       "      <th></th>\n",
       "      <th>Segment</th>\n",
       "      <th>Country</th>\n",
       "      <th>Product</th>\n",
       "      <th>Discount Band</th>\n",
       "      <th>Units Sold</th>\n",
       "      <th>Manufacturing Price</th>\n",
       "      <th>Sale Price</th>\n",
       "      <th>Gross Sales</th>\n",
       "      <th>Discounts</th>\n",
       "      <th>Sales</th>\n",
       "      <th>COGS</th>\n",
       "      <th>Profit</th>\n",
       "      <th>Date</th>\n",
       "      <th>Month Number</th>\n",
       "      <th>Month Name</th>\n",
       "      <th>Year</th>\n",
       "    </tr>\n",
       "  </thead>\n",
       "  <tbody>\n",
       "    <tr>\n",
       "      <th>0</th>\n",
       "      <td>Government</td>\n",
       "      <td>United States of America</td>\n",
       "      <td>Paseo</td>\n",
       "      <td>Low</td>\n",
       "      <td>3450.0</td>\n",
       "      <td>$10.00</td>\n",
       "      <td>$350.00</td>\n",
       "      <td>$1,207,500.00</td>\n",
       "      <td>$48,300.00</td>\n",
       "      <td>$1,159,200.00</td>\n",
       "      <td>$897,000.00</td>\n",
       "      <td>$262,200.00</td>\n",
       "      <td>7/1/2014</td>\n",
       "      <td>7</td>\n",
       "      <td>July</td>\n",
       "      <td>2014</td>\n",
       "    </tr>\n",
       "    <tr>\n",
       "      <th>1</th>\n",
       "      <td>Government</td>\n",
       "      <td>France</td>\n",
       "      <td>Amarilla</td>\n",
       "      <td>None</td>\n",
       "      <td>2750.0</td>\n",
       "      <td>$260.00</td>\n",
       "      <td>$350.00</td>\n",
       "      <td>$962,500.00</td>\n",
       "      <td>$0.00</td>\n",
       "      <td>$962,500.00</td>\n",
       "      <td>$715,000.00</td>\n",
       "      <td>$247,500.00</td>\n",
       "      <td>2/1/2014</td>\n",
       "      <td>2</td>\n",
       "      <td>February</td>\n",
       "      <td>2014</td>\n",
       "    </tr>\n",
       "    <tr>\n",
       "      <th>2</th>\n",
       "      <td>Government</td>\n",
       "      <td>Germany</td>\n",
       "      <td>Velo</td>\n",
       "      <td>Low</td>\n",
       "      <td>2966.0</td>\n",
       "      <td>$120.00</td>\n",
       "      <td>$350.00</td>\n",
       "      <td>$1,038,100.00</td>\n",
       "      <td>$20,762.00</td>\n",
       "      <td>$1,017,338.00</td>\n",
       "      <td>$771,160.00</td>\n",
       "      <td>$246,178.00</td>\n",
       "      <td>10/1/2013</td>\n",
       "      <td>10</td>\n",
       "      <td>October</td>\n",
       "      <td>2013</td>\n",
       "    </tr>\n",
       "    <tr>\n",
       "      <th>3</th>\n",
       "      <td>Government</td>\n",
       "      <td>Germany</td>\n",
       "      <td>Amarilla</td>\n",
       "      <td>Low</td>\n",
       "      <td>2966.0</td>\n",
       "      <td>$260.00</td>\n",
       "      <td>$350.00</td>\n",
       "      <td>$1,038,100.00</td>\n",
       "      <td>$20,762.00</td>\n",
       "      <td>$1,017,338.00</td>\n",
       "      <td>$771,160.00</td>\n",
       "      <td>$246,178.00</td>\n",
       "      <td>10/1/2013</td>\n",
       "      <td>10</td>\n",
       "      <td>October</td>\n",
       "      <td>2013</td>\n",
       "    </tr>\n",
       "    <tr>\n",
       "      <th>4</th>\n",
       "      <td>Government</td>\n",
       "      <td>Germany</td>\n",
       "      <td>Velo</td>\n",
       "      <td>Low</td>\n",
       "      <td>2877.0</td>\n",
       "      <td>$120.00</td>\n",
       "      <td>$350.00</td>\n",
       "      <td>$1,006,950.00</td>\n",
       "      <td>$20,139.00</td>\n",
       "      <td>$986,811.00</td>\n",
       "      <td>$748,020.00</td>\n",
       "      <td>$238,791.00</td>\n",
       "      <td>10/1/2014</td>\n",
       "      <td>10</td>\n",
       "      <td>October</td>\n",
       "      <td>2014</td>\n",
       "    </tr>\n",
       "  </tbody>\n",
       "</table>\n",
       "</div>"
      ],
      "text/plain": [
       "      Segment                   Country    Product   Discount Band   \\\n",
       "0  Government  United States of America      Paseo             Low    \n",
       "1  Government                    France   Amarilla            None    \n",
       "2  Government                   Germany       Velo             Low    \n",
       "3  Government                   Germany   Amarilla             Low    \n",
       "4  Government                   Germany       Velo             Low    \n",
       "\n",
       "   Units Sold Manufacturing Price Sale Price    Gross Sales   Discounts  \\\n",
       "0      3450.0              $10.00    $350.00  $1,207,500.00  $48,300.00   \n",
       "1      2750.0             $260.00    $350.00    $962,500.00       $0.00   \n",
       "2      2966.0             $120.00    $350.00  $1,038,100.00  $20,762.00   \n",
       "3      2966.0             $260.00    $350.00  $1,038,100.00  $20,762.00   \n",
       "4      2877.0             $120.00    $350.00  $1,006,950.00  $20,139.00   \n",
       "\n",
       "           Sales         COGS       Profit       Date  Month Number  \\\n",
       "0  $1,159,200.00  $897,000.00  $262,200.00   7/1/2014             7   \n",
       "1    $962,500.00  $715,000.00  $247,500.00   2/1/2014             2   \n",
       "2  $1,017,338.00  $771,160.00  $246,178.00  10/1/2013            10   \n",
       "3  $1,017,338.00  $771,160.00  $246,178.00  10/1/2013            10   \n",
       "4    $986,811.00  $748,020.00  $238,791.00  10/1/2014            10   \n",
       "\n",
       "   Month Name   Year  \n",
       "0        July   2014  \n",
       "1    February   2014  \n",
       "2     October   2013  \n",
       "3     October   2013  \n",
       "4     October   2014  "
      ]
     },
     "execution_count": 2,
     "metadata": {},
     "output_type": "execute_result"
    }
   ],
   "source": [
    "df.head()"
   ]
  },
  {
   "cell_type": "code",
   "execution_count": 4,
   "metadata": {},
   "outputs": [
    {
     "data": {
      "text/plain": [
       "0      $350.00\n",
       "1      $350.00\n",
       "2      $350.00\n",
       "3      $350.00\n",
       "4      $350.00\n",
       "        ...   \n",
       "695    $125.00\n",
       "696    $125.00\n",
       "697    $125.00\n",
       "698    $125.00\n",
       "699    $125.00\n",
       "Name: Sale Price, Length: 700, dtype: object"
      ]
     },
     "execution_count": 4,
     "metadata": {},
     "output_type": "execute_result"
    }
   ],
   "source": [
    "df['Sale Price']"
   ]
  },
  {
   "cell_type": "code",
   "execution_count": 5,
   "metadata": {},
   "outputs": [
    {
     "name": "stderr",
     "output_type": "stream",
     "text": [
      "/var/folders/0b/r1tw2m0d04b5wkj6n99ypszr0000gn/T/ipykernel_5298/3754799491.py:3: FutureWarning: Dropping of nuisance columns in DataFrame reductions (with 'numeric_only=None') is deprecated; in a future version this will raise TypeError.  Select only valid columns before calling the reduction.\n",
      "  df.mean()\n"
     ]
    },
    {
     "data": {
      "text/plain": [
       "Units Sold      1608.294286\n",
       "Month Number       7.900000\n",
       "Year            2013.750000\n",
       "dtype: float64"
      ]
     },
     "execution_count": 5,
     "metadata": {},
     "output_type": "execute_result"
    }
   ],
   "source": [
    "# Extraer los siguentes estadísiticos del conjunto de datos para varias de las variables disponibles:\n",
    "# Media\n",
    "df.mean()"
   ]
  },
  {
   "cell_type": "code",
   "execution_count": null,
   "metadata": {},
   "outputs": [],
   "source": [
    "# Desviación con respecto de la media"
   ]
  },
  {
   "cell_type": "code",
   "execution_count": null,
   "metadata": {},
   "outputs": [],
   "source": [
    "# Varianza"
   ]
  },
  {
   "cell_type": "code",
   "execution_count": null,
   "metadata": {},
   "outputs": [],
   "source": [
    "# Desviación típica"
   ]
  },
  {
   "cell_type": "code",
   "execution_count": null,
   "metadata": {},
   "outputs": [],
   "source": [
    "# Moda"
   ]
  },
  {
   "cell_type": "code",
   "execution_count": null,
   "metadata": {},
   "outputs": [],
   "source": [
    "# Mediana"
   ]
  },
  {
   "cell_type": "code",
   "execution_count": null,
   "metadata": {},
   "outputs": [],
   "source": [
    "# Media ponderada"
   ]
  },
  {
   "cell_type": "code",
   "execution_count": null,
   "metadata": {},
   "outputs": [],
   "source": [
    "# Robustez"
   ]
  },
  {
   "cell_type": "code",
   "execution_count": null,
   "metadata": {},
   "outputs": [],
   "source": [
    "# Coeficiente de variación"
   ]
  },
  {
   "cell_type": "code",
   "execution_count": null,
   "metadata": {},
   "outputs": [],
   "source": [
    "# Interpretación de los resultados.\n",
    "# Ahora interpreta los resultados obtenidos de los diferentes estadísticos estudiados haciendo hincapié en aspectos interesantes de tus datos y explica lo mejor posible la naturaleza de los mismos."
   ]
  }
 ],
 "metadata": {
  "kernelspec": {
   "display_name": "Python 3.9.7 ('base')",
   "language": "python",
   "name": "python3"
  },
  "language_info": {
   "codemirror_mode": {
    "name": "ipython",
    "version": 3
   },
   "file_extension": ".py",
   "mimetype": "text/x-python",
   "name": "python",
   "nbconvert_exporter": "python",
   "pygments_lexer": "ipython3",
   "version": "3.9.7"
  },
  "orig_nbformat": 4,
  "vscode": {
   "interpreter": {
    "hash": "bab9de067d915f107d1ee2ee6fc66eaa4419a4d622bcbfdabd1c6ae75445c121"
   }
  }
 },
 "nbformat": 4,
 "nbformat_minor": 2
}
