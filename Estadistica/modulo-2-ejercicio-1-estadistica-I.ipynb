{
 "cells": [
  {
   "cell_type": "code",
   "execution_count": 14,
   "metadata": {},
   "outputs": [],
   "source": [
    "# Los objetivos de hoy son:\n",
    "# Buscar un conjunto de datos a analizar:\n",
    "# Se recomienda que el conjunto de datos a analizar tenga variables numéricas y categóricas. Ya que también se analizarán.\n",
    "\n",
    "\n",
    "from scipy import stats \n",
    "import seaborn as sns\n",
    "import numpy as np \n",
    "import pandas as pd\n",
    "df= pd.read_csv('./datos/India_Menu.csv')"
   ]
  },
  {
   "cell_type": "code",
   "execution_count": 56,
   "metadata": {},
   "outputs": [
    {
     "data": {
      "text/html": [
       "<div>\n",
       "<style scoped>\n",
       "    .dataframe tbody tr th:only-of-type {\n",
       "        vertical-align: middle;\n",
       "    }\n",
       "\n",
       "    .dataframe tbody tr th {\n",
       "        vertical-align: top;\n",
       "    }\n",
       "\n",
       "    .dataframe thead th {\n",
       "        text-align: right;\n",
       "    }\n",
       "</style>\n",
       "<table border=\"1\" class=\"dataframe\">\n",
       "  <thead>\n",
       "    <tr style=\"text-align: right;\">\n",
       "      <th></th>\n",
       "      <th>Menu Category</th>\n",
       "      <th>Menu Items</th>\n",
       "      <th>Per Serve Size</th>\n",
       "    </tr>\n",
       "  </thead>\n",
       "  <tbody>\n",
       "    <tr>\n",
       "      <th>count</th>\n",
       "      <td>141</td>\n",
       "      <td>141</td>\n",
       "      <td>141</td>\n",
       "    </tr>\n",
       "    <tr>\n",
       "      <th>unique</th>\n",
       "      <td>7</td>\n",
       "      <td>141</td>\n",
       "      <td>107</td>\n",
       "    </tr>\n",
       "    <tr>\n",
       "      <th>top</th>\n",
       "      <td>McCafe Menu</td>\n",
       "      <td>McVeggie™ Burger</td>\n",
       "      <td>299 ml</td>\n",
       "    </tr>\n",
       "    <tr>\n",
       "      <th>freq</th>\n",
       "      <td>51</td>\n",
       "      <td>1</td>\n",
       "      <td>4</td>\n",
       "    </tr>\n",
       "  </tbody>\n",
       "</table>\n",
       "</div>"
      ],
      "text/plain": [
       "       Menu Category        Menu Items Per Serve Size\n",
       "count            141               141            141\n",
       "unique             7               141            107\n",
       "top      McCafe Menu  McVeggie™ Burger         299 ml\n",
       "freq              51                 1              4"
      ]
     },
     "execution_count": 56,
     "metadata": {},
     "output_type": "execute_result"
    }
   ],
   "source": [
    "df.describe(include = \"object\")\n",
    "\n",
    "#con el método describe, incluyendo objetos podemos ver los principales estadísticos de nuestro data frame, incluidas nuestras variables categóricas"
   ]
  },
  {
   "cell_type": "code",
   "execution_count": 57,
   "metadata": {},
   "outputs": [
    {
     "data": {
      "text/html": [
       "<div>\n",
       "<style scoped>\n",
       "    .dataframe tbody tr th:only-of-type {\n",
       "        vertical-align: middle;\n",
       "    }\n",
       "\n",
       "    .dataframe tbody tr th {\n",
       "        vertical-align: top;\n",
       "    }\n",
       "\n",
       "    .dataframe thead th {\n",
       "        text-align: right;\n",
       "    }\n",
       "</style>\n",
       "<table border=\"1\" class=\"dataframe\">\n",
       "  <thead>\n",
       "    <tr style=\"text-align: right;\">\n",
       "      <th></th>\n",
       "      <th>Energy (kCal)</th>\n",
       "      <th>Protein (g)</th>\n",
       "      <th>Total fat (g)</th>\n",
       "      <th>Sat Fat (g)</th>\n",
       "      <th>Trans fat (g)</th>\n",
       "      <th>Cholesterols (mg)</th>\n",
       "      <th>Total carbohydrate (g)</th>\n",
       "      <th>Total Sugars (g)</th>\n",
       "      <th>Added Sugars (g)</th>\n",
       "      <th>Sodium (mg)</th>\n",
       "    </tr>\n",
       "  </thead>\n",
       "  <tbody>\n",
       "    <tr>\n",
       "      <th>count</th>\n",
       "      <td>141.000000</td>\n",
       "      <td>141.000000</td>\n",
       "      <td>141.000000</td>\n",
       "      <td>141.000000</td>\n",
       "      <td>141.000000</td>\n",
       "      <td>141.000000</td>\n",
       "      <td>141.000000</td>\n",
       "      <td>141.000000</td>\n",
       "      <td>141.000000</td>\n",
       "      <td>140.000000</td>\n",
       "    </tr>\n",
       "    <tr>\n",
       "      <th>mean</th>\n",
       "      <td>244.635461</td>\n",
       "      <td>7.493546</td>\n",
       "      <td>9.991702</td>\n",
       "      <td>4.997589</td>\n",
       "      <td>0.687163</td>\n",
       "      <td>26.350071</td>\n",
       "      <td>31.190284</td>\n",
       "      <td>15.464894</td>\n",
       "      <td>10.336950</td>\n",
       "      <td>362.064143</td>\n",
       "    </tr>\n",
       "    <tr>\n",
       "      <th>std</th>\n",
       "      <td>185.554837</td>\n",
       "      <td>8.336863</td>\n",
       "      <td>10.339511</td>\n",
       "      <td>4.900451</td>\n",
       "      <td>6.326136</td>\n",
       "      <td>50.334200</td>\n",
       "      <td>20.602044</td>\n",
       "      <td>15.690202</td>\n",
       "      <td>14.283388</td>\n",
       "      <td>473.160490</td>\n",
       "    </tr>\n",
       "    <tr>\n",
       "      <th>min</th>\n",
       "      <td>0.000000</td>\n",
       "      <td>0.000000</td>\n",
       "      <td>0.000000</td>\n",
       "      <td>0.000000</td>\n",
       "      <td>0.000000</td>\n",
       "      <td>0.000000</td>\n",
       "      <td>0.000000</td>\n",
       "      <td>0.000000</td>\n",
       "      <td>0.000000</td>\n",
       "      <td>0.000000</td>\n",
       "    </tr>\n",
       "    <tr>\n",
       "      <th>25%</th>\n",
       "      <td>116.360000</td>\n",
       "      <td>0.650000</td>\n",
       "      <td>0.460000</td>\n",
       "      <td>0.280000</td>\n",
       "      <td>0.060000</td>\n",
       "      <td>1.510000</td>\n",
       "      <td>15.740000</td>\n",
       "      <td>2.330000</td>\n",
       "      <td>0.000000</td>\n",
       "      <td>43.895000</td>\n",
       "    </tr>\n",
       "    <tr>\n",
       "      <th>50%</th>\n",
       "      <td>219.360000</td>\n",
       "      <td>4.790000</td>\n",
       "      <td>7.770000</td>\n",
       "      <td>4.270000</td>\n",
       "      <td>0.150000</td>\n",
       "      <td>8.390000</td>\n",
       "      <td>30.820000</td>\n",
       "      <td>9.160000</td>\n",
       "      <td>3.640000</td>\n",
       "      <td>152.025000</td>\n",
       "    </tr>\n",
       "    <tr>\n",
       "      <th>75%</th>\n",
       "      <td>339.520000</td>\n",
       "      <td>10.880000</td>\n",
       "      <td>14.160000</td>\n",
       "      <td>7.280000</td>\n",
       "      <td>0.220000</td>\n",
       "      <td>31.110000</td>\n",
       "      <td>46.000000</td>\n",
       "      <td>26.950000</td>\n",
       "      <td>19.230000</td>\n",
       "      <td>534.240000</td>\n",
       "    </tr>\n",
       "    <tr>\n",
       "      <th>max</th>\n",
       "      <td>834.360000</td>\n",
       "      <td>39.470000</td>\n",
       "      <td>45.180000</td>\n",
       "      <td>20.460000</td>\n",
       "      <td>75.260000</td>\n",
       "      <td>302.610000</td>\n",
       "      <td>93.840000</td>\n",
       "      <td>64.220000</td>\n",
       "      <td>64.220000</td>\n",
       "      <td>2399.490000</td>\n",
       "    </tr>\n",
       "  </tbody>\n",
       "</table>\n",
       "</div>"
      ],
      "text/plain": [
       "       Energy (kCal)  Protein (g)  Total fat (g)  Sat Fat (g)  Trans fat (g)  \\\n",
       "count     141.000000   141.000000     141.000000   141.000000     141.000000   \n",
       "mean      244.635461     7.493546       9.991702     4.997589       0.687163   \n",
       "std       185.554837     8.336863      10.339511     4.900451       6.326136   \n",
       "min         0.000000     0.000000       0.000000     0.000000       0.000000   \n",
       "25%       116.360000     0.650000       0.460000     0.280000       0.060000   \n",
       "50%       219.360000     4.790000       7.770000     4.270000       0.150000   \n",
       "75%       339.520000    10.880000      14.160000     7.280000       0.220000   \n",
       "max       834.360000    39.470000      45.180000    20.460000      75.260000   \n",
       "\n",
       "       Cholesterols (mg)  Total carbohydrate (g)  Total Sugars (g)  \\\n",
       "count         141.000000              141.000000        141.000000   \n",
       "mean           26.350071               31.190284         15.464894   \n",
       "std            50.334200               20.602044         15.690202   \n",
       "min             0.000000                0.000000          0.000000   \n",
       "25%             1.510000               15.740000          2.330000   \n",
       "50%             8.390000               30.820000          9.160000   \n",
       "75%            31.110000               46.000000         26.950000   \n",
       "max           302.610000               93.840000         64.220000   \n",
       "\n",
       "       Added Sugars (g)  Sodium (mg)  \n",
       "count        141.000000   140.000000  \n",
       "mean          10.336950   362.064143  \n",
       "std           14.283388   473.160490  \n",
       "min            0.000000     0.000000  \n",
       "25%            0.000000    43.895000  \n",
       "50%            3.640000   152.025000  \n",
       "75%           19.230000   534.240000  \n",
       "max           64.220000  2399.490000  "
      ]
     },
     "execution_count": 57,
     "metadata": {},
     "output_type": "execute_result"
    }
   ],
   "source": [
    "df.describe() #con describe, sin incluír las variables categóricas podemos ver los principales estadísticos de nuestro dataframe."
   ]
  },
  {
   "cell_type": "code",
   "execution_count": 62,
   "metadata": {},
   "outputs": [
    {
     "data": {
      "text/plain": [
       "9.991702127659575"
      ]
     },
     "execution_count": 62,
     "metadata": {},
     "output_type": "execute_result"
    }
   ],
   "source": [
    "# Extraer los siguentes estadísiticos del conjunto de datos para varias de las variables disponibles:\n",
    "# Media\n",
    "media=df['Total fat (g)'].mean(skipna=True)\n",
    "media\n",
    "\n",
    "\n",
    "#Elegimos analizar la columna Total fat (g), la cual nos muestra que la media de grasas totales de todos los productos del menú es 9.99 gramos."
   ]
  },
  {
   "cell_type": "code",
   "execution_count": 64,
   "metadata": {},
   "outputs": [
    {
     "data": {
      "text/plain": [
       "0       3.838298\n",
       "1       1.318298\n",
       "2      29.458298\n",
       "3      29.108298\n",
       "4      13.458298\n",
       "         ...    \n",
       "136    13.458298\n",
       "137     9.991702\n",
       "138     6.001702\n",
       "139     8.991702\n",
       "140     9.971702\n",
       "Name: Total fat (g), Length: 141, dtype: float64"
      ]
     },
     "execution_count": 64,
     "metadata": {},
     "output_type": "execute_result"
    }
   ],
   "source": [
    "# Desviación con respecto de la media\n",
    "\n",
    "desviacion_media = np.abs(df['Total fat (g)']-media)\n",
    "desviacion_media\n",
    "\n",
    "#La desviación media es la diferencia entre cada valor de la variable estadística y la media (antes calculada), en este caso de la columna 'Total fat (g)'."
   ]
  },
  {
   "cell_type": "code",
   "execution_count": 67,
   "metadata": {},
   "outputs": [
    {
     "data": {
      "text/plain": [
       "Energy (kCal)              34186.408838\n",
       "Protein (g)                   69.010355\n",
       "Total fat (g)                106.147292\n",
       "Sat Fat (g)                   23.844105\n",
       "Trans fat (g)                 39.736165\n",
       "Cholesterols (mg)           2515.563425\n",
       "Total carbohydrate (g)       421.433989\n",
       "Total Sugars (g)             244.436476\n",
       "Added Sugars (g)             202.568267\n",
       "Sodium (mg)               222281.699963\n",
       "dtype: float64"
      ]
     },
     "execution_count": 67,
     "metadata": {},
     "output_type": "execute_result"
    }
   ],
   "source": [
    "# Varianza\n",
    "varianza= np.var(df) # varianza para todos los datos\n",
    "varianza\n",
    "\n",
    "#Representa la media aritmética al cuadrado de la desviación respecto a la media"
   ]
  },
  {
   "cell_type": "code",
   "execution_count": 68,
   "metadata": {},
   "outputs": [
    {
     "data": {
      "text/plain": [
       "Energy (kCal)              34186.408838\n",
       "Protein (g)                   69.010355\n",
       "Total fat (g)                106.147292\n",
       "Sat Fat (g)                   23.844105\n",
       "Trans fat (g)                 39.736165\n",
       "Cholesterols (mg)           2515.563425\n",
       "Total carbohydrate (g)       421.433989\n",
       "Total Sugars (g)             244.436476\n",
       "Added Sugars (g)             202.568267\n",
       "Sodium (mg)               222281.699963\n",
       "dtype: float64"
      ]
     },
     "execution_count": 68,
     "metadata": {},
     "output_type": "execute_result"
    }
   ],
   "source": [
    "np.var(df, 0) # varianza de cada columna"
   ]
  },
  {
   "cell_type": "code",
   "execution_count": 69,
   "metadata": {},
   "outputs": [
    {
     "data": {
      "text/plain": [
       "0       51766.478001\n",
       "1       32100.508620\n",
       "2      122835.773896\n",
       "3      126625.222221\n",
       "4      108067.705505\n",
       "           ...      \n",
       "136       447.354120\n",
       "137       634.970304\n",
       "138      2835.883976\n",
       "139       174.359264\n",
       "140       453.777920\n",
       "Length: 141, dtype: float64"
      ]
     },
     "execution_count": 69,
     "metadata": {},
     "output_type": "execute_result"
    }
   ],
   "source": [
    "np.var(df, 1) #varianza de cada fila"
   ]
  },
  {
   "cell_type": "code",
   "execution_count": 71,
   "metadata": {},
   "outputs": [
    {
     "name": "stderr",
     "output_type": "stream",
     "text": [
      "/Users/feliciano/opt/anaconda3/lib/python3.9/site-packages/numpy/core/fromnumeric.py:3558: FutureWarning: Dropping of nuisance columns in DataFrame reductions (with 'numeric_only=None') is deprecated; in a future version this will raise TypeError.  Select only valid columns before calling the reduction.\n",
      "  return std(axis=axis, dtype=dtype, out=out, ddof=ddof, **kwargs)\n"
     ]
    },
    {
     "data": {
      "text/plain": [
       "Energy (kCal)             184.895670\n",
       "Protein (g)                 8.307247\n",
       "Total fat (g)              10.302781\n",
       "Sat Fat (g)                 4.883043\n",
       "Trans fat (g)               6.303663\n",
       "Cholesterols (mg)          50.155393\n",
       "Total carbohydrate (g)     20.528857\n",
       "Total Sugars (g)           15.634464\n",
       "Added Sugars (g)           14.232648\n",
       "Sodium (mg)               471.467602\n",
       "dtype: float64"
      ]
     },
     "execution_count": 71,
     "metadata": {},
     "output_type": "execute_result"
    }
   ],
   "source": [
    "# Desviación típica\n",
    "\n",
    "des_tipica= np.std(df) # varianza para todos los datos\n",
    "des_tipica\n",
    "\n",
    "#Representa la raíz cuadrada de la varianza"
   ]
  },
  {
   "cell_type": "code",
   "execution_count": 74,
   "metadata": {},
   "outputs": [
    {
     "data": {
      "text/plain": [
       "0      227.522478\n",
       "1      179.166148\n",
       "2      350.479349\n",
       "3      355.844379\n",
       "4      328.736529\n",
       "          ...    \n",
       "136     21.150748\n",
       "137     25.198617\n",
       "138     53.253018\n",
       "139     13.204517\n",
       "140     21.302064\n",
       "Length: 141, dtype: float64"
      ]
     },
     "execution_count": 74,
     "metadata": {},
     "output_type": "execute_result"
    }
   ],
   "source": [
    "np.std(df, 1) #desviacion para cada fila"
   ]
  },
  {
   "cell_type": "code",
   "execution_count": 75,
   "metadata": {},
   "outputs": [],
   "source": [
    "# Moda\n",
    "\n",
    "# moda de cada columna\n",
    "moda, frecuencia = stats.mode(df['Total fat (g)']) \n",
    "\n"
   ]
  },
  {
   "cell_type": "code",
   "execution_count": 78,
   "metadata": {},
   "outputs": [
    {
     "name": "stdout",
     "output_type": "stream",
     "text": [
      "El valor con mayor frecuencia en la columna 'Total fat (g)' es [0.] y las veces que aparece es [16]\n"
     ]
    }
   ],
   "source": [
    "print(f\"El valor con mayor frecuencia en la columna 'Total fat (g)' es {moda} y las veces que aparece es {frecuencia}\")"
   ]
  },
  {
   "cell_type": "code",
   "execution_count": 36,
   "metadata": {},
   "outputs": [
    {
     "name": "stderr",
     "output_type": "stream",
     "text": [
      "/var/folders/0b/r1tw2m0d04b5wkj6n99ypszr0000gn/T/ipykernel_7736/2109633688.py:3: FutureWarning: Dropping of nuisance columns in DataFrame reductions (with 'numeric_only=None') is deprecated; in a future version this will raise TypeError.  Select only valid columns before calling the reduction.\n",
      "  df.median()\n"
     ]
    },
    {
     "data": {
      "text/plain": [
       "Energy (kCal)             219.360\n",
       "Protein (g)                 4.790\n",
       "Total fat (g)               7.770\n",
       "Sat Fat (g)                 4.270\n",
       "Trans fat (g)               0.150\n",
       "Cholesterols (mg)           8.390\n",
       "Total carbohydrate (g)     30.820\n",
       "Total Sugars (g)            9.160\n",
       "Added Sugars (g)            3.640\n",
       "Sodium (mg)               152.025\n",
       "dtype: float64"
      ]
     },
     "execution_count": 36,
     "metadata": {},
     "output_type": "execute_result"
    }
   ],
   "source": [
    "# Mediana\n",
    "\n",
    "df.median()\n",
    "\n",
    "#Representa el valor central donde tendremos el 50% de los datos por encima y el 50% por debajo. En este caso los representamos por columnas"
   ]
  },
  {
   "cell_type": "code",
   "execution_count": 79,
   "metadata": {},
   "outputs": [
    {
     "name": "stdout",
     "output_type": "stream",
     "text": [
      "(9.991702127659574+0j)\n"
     ]
    }
   ],
   "source": [
    "# Media ponderada\n",
    "\n",
    "#en este caso la calculamos sólo para 1 columna 'Total fat (g)'\n",
    "w= np.ones(len(df['Total fat (g)']),dtype = np.complex64)\n",
    "\n",
    "\n",
    "avg = np.average(df['Total fat (g)'], weights=w)\n",
    "print(avg)\n",
    "\n",
    "#La media ponderada es un tipo de media aritmética donde a cada valor del conjunto de edatos se le asigna un peso, en este caso la suma \n",
    "#de registros de la columna 'Total fat (g)', este afectará a la contribución de cada uno de los valores del conjunto de datos.\n",
    "#En este caso, la media ponderada de la columna 'Total fat (g)' es 9.99 g\n"
   ]
  },
  {
   "cell_type": "code",
   "execution_count": 82,
   "metadata": {},
   "outputs": [
    {
     "data": {
      "text/plain": [
       "Energy (kCal)             0.755801\n",
       "Protein (g)               1.108587\n",
       "Total fat (g)             1.031134\n",
       "Sat Fat (g)               0.977080\n",
       "Trans fat (g)             9.173459\n",
       "Cholesterols (mg)         1.903425\n",
       "Total carbohydrate (g)    0.658181\n",
       "Total Sugars (g)          1.010965\n",
       "Added Sugars (g)          1.376871\n",
       "Sodium (mg)               1.302166\n",
       "dtype: float64"
      ]
     },
     "execution_count": 82,
     "metadata": {},
     "output_type": "execute_result"
    }
   ],
   "source": [
    "# Coeficiente de variación\n",
    "\n",
    "coeficiente=(np.std(df) / np.abs(np.mean(df)))\n",
    "coeficiente\n",
    "\n",
    "#El coeficiente hace referencia a la relación entre el tamaño de la media y la variabilidad de la variable. \n",
    "\n",
    "#Si su valor es bajo, significará que el conjunto de datos es homogéneo y que no hay valores que se separen demasiado de la media. \n",
    "# Si por el contrario el coeficiente de variación es grande, la distribución de los datos será mucho más heterogénea,\n",
    "# con grandes distancias entre algunas de las muestras (estarán más dispersos). Este segundo caso nos indicará que los estadísticos son menos robustos.\n",
    "\n",
    "#Podemos ver que las columnas presentan por lo general valores bajos excepto la columna Trans Fat que tiene un valor de 9.17"
   ]
  },
  {
   "cell_type": "code",
   "execution_count": 31,
   "metadata": {},
   "outputs": [],
   "source": [
    "# Interpretación de los resultados.\n",
    "# Ahora interpreta los resultados obtenidos de los diferentes estadísticos estudiados haciendo hincapié en aspectos interesantes de tus datos y explica lo mejor posible la naturaleza de los mismos."
   ]
  }
 ],
 "metadata": {
  "kernelspec": {
   "display_name": "Python 3.9.7 ('base')",
   "language": "python",
   "name": "python3"
  },
  "language_info": {
   "codemirror_mode": {
    "name": "ipython",
    "version": 3
   },
   "file_extension": ".py",
   "mimetype": "text/x-python",
   "name": "python",
   "nbconvert_exporter": "python",
   "pygments_lexer": "ipython3",
   "version": "3.9.7"
  },
  "orig_nbformat": 4,
  "vscode": {
   "interpreter": {
    "hash": "bab9de067d915f107d1ee2ee6fc66eaa4419a4d622bcbfdabd1c6ae75445c121"
   }
  }
 },
 "nbformat": 4,
 "nbformat_minor": 2
}
