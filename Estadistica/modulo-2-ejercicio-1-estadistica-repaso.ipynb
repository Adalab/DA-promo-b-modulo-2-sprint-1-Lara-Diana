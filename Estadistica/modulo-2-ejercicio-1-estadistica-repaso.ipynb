{
 "cells": [
  {
   "cell_type": "code",
   "execution_count": null,
   "metadata": {},
   "outputs": [],
   "source": [
    "\n",
    "# - Plantead una serie de preguntas como las que fuimos contestando en la clase invertida.\n",
    "# - Contestad a las preguntas planteadas usando los principales estadísticos que hemos aprendido y gráficas que mejor se ajusten.\n"
   ]
  },
  {
   "cell_type": "code",
   "execution_count": 1,
   "metadata": {},
   "outputs": [],
   "source": [
    "from scipy import stats \n",
    "import seaborn as sns\n",
    "import numpy as np \n",
    "import pandas as pd\n",
    "from statistics import median\n",
    "import matplotlib.pyplot as plt\n"
   ]
  },
  {
   "cell_type": "code",
   "execution_count": 2,
   "metadata": {},
   "outputs": [],
   "source": [
    "df= pd.read_csv('./datos/India_Menu.csv')"
   ]
  },
  {
   "cell_type": "code",
   "execution_count": null,
   "metadata": {},
   "outputs": [],
   "source": [
    "# - Hacer una exploración inicial del dataframe."
   ]
  },
  {
   "cell_type": "code",
   "execution_count": 4,
   "metadata": {},
   "outputs": [
    {
     "data": {
      "text/plain": [
       "141"
      ]
     },
     "execution_count": 4,
     "metadata": {},
     "output_type": "execute_result"
    }
   ],
   "source": [
    "#¿Cuántas filas tiene?\n",
    "df.shape[0]"
   ]
  },
  {
   "cell_type": "code",
   "execution_count": 15,
   "metadata": {},
   "outputs": [
    {
     "data": {
      "text/plain": [
       "Menu Category             0\n",
       "Menu Items                0\n",
       "Per Serve Size            0\n",
       "Energy (kCal)             0\n",
       "Protein (g)               0\n",
       "Total fat (g)             0\n",
       "Sat Fat (g)               0\n",
       "Trans fat (g)             0\n",
       "Cholesterols (mg)         0\n",
       "Total carbohydrate (g)    0\n",
       "Total Sugars (g)          0\n",
       "Added Sugars (g)          0\n",
       "Sodium (mg)               1\n",
       "dtype: int64"
      ]
     },
     "execution_count": 15,
     "metadata": {},
     "output_type": "execute_result"
    }
   ],
   "source": [
    "#¿Cuántas nulos tiene?\n",
    "df.isnull().sum()"
   ]
  },
  {
   "cell_type": "code",
   "execution_count": 16,
   "metadata": {},
   "outputs": [
    {
     "data": {
      "text/html": [
       "<div>\n",
       "<style scoped>\n",
       "    .dataframe tbody tr th:only-of-type {\n",
       "        vertical-align: middle;\n",
       "    }\n",
       "\n",
       "    .dataframe tbody tr th {\n",
       "        vertical-align: top;\n",
       "    }\n",
       "\n",
       "    .dataframe thead th {\n",
       "        text-align: right;\n",
       "    }\n",
       "</style>\n",
       "<table border=\"1\" class=\"dataframe\">\n",
       "  <thead>\n",
       "    <tr style=\"text-align: right;\">\n",
       "      <th></th>\n",
       "      <th>Menu Category</th>\n",
       "      <th>Menu Items</th>\n",
       "      <th>Per Serve Size</th>\n",
       "      <th>Energy (kCal)</th>\n",
       "      <th>Protein (g)</th>\n",
       "      <th>Total fat (g)</th>\n",
       "      <th>Sat Fat (g)</th>\n",
       "      <th>Trans fat (g)</th>\n",
       "      <th>Cholesterols (mg)</th>\n",
       "      <th>Total carbohydrate (g)</th>\n",
       "      <th>Total Sugars (g)</th>\n",
       "      <th>Added Sugars (g)</th>\n",
       "      <th>Sodium (mg)</th>\n",
       "    </tr>\n",
       "  </thead>\n",
       "  <tbody>\n",
       "    <tr>\n",
       "      <th>0</th>\n",
       "      <td>Regular Menu</td>\n",
       "      <td>McVeggie™ Burger</td>\n",
       "      <td>168 g</td>\n",
       "      <td>402.05</td>\n",
       "      <td>10.24</td>\n",
       "      <td>13.83</td>\n",
       "      <td>5.34</td>\n",
       "      <td>0.16</td>\n",
       "      <td>2.49</td>\n",
       "      <td>56.54</td>\n",
       "      <td>7.90</td>\n",
       "      <td>4.49</td>\n",
       "      <td>706.13</td>\n",
       "    </tr>\n",
       "    <tr>\n",
       "      <th>1</th>\n",
       "      <td>Regular Menu</td>\n",
       "      <td>McAloo Tikki Burger®</td>\n",
       "      <td>146 g</td>\n",
       "      <td>339.52</td>\n",
       "      <td>8.50</td>\n",
       "      <td>11.31</td>\n",
       "      <td>4.27</td>\n",
       "      <td>0.20</td>\n",
       "      <td>1.47</td>\n",
       "      <td>50.27</td>\n",
       "      <td>7.05</td>\n",
       "      <td>4.07</td>\n",
       "      <td>545.34</td>\n",
       "    </tr>\n",
       "    <tr>\n",
       "      <th>2</th>\n",
       "      <td>Regular Menu</td>\n",
       "      <td>McSpicy™ Paneer Burger</td>\n",
       "      <td>199 g</td>\n",
       "      <td>652.76</td>\n",
       "      <td>20.29</td>\n",
       "      <td>39.45</td>\n",
       "      <td>17.12</td>\n",
       "      <td>0.18</td>\n",
       "      <td>21.85</td>\n",
       "      <td>52.33</td>\n",
       "      <td>8.35</td>\n",
       "      <td>5.27</td>\n",
       "      <td>1074.58</td>\n",
       "    </tr>\n",
       "    <tr>\n",
       "      <th>3</th>\n",
       "      <td>Regular Menu</td>\n",
       "      <td>Spicy Paneer Wrap</td>\n",
       "      <td>250 g</td>\n",
       "      <td>674.68</td>\n",
       "      <td>20.96</td>\n",
       "      <td>39.10</td>\n",
       "      <td>19.73</td>\n",
       "      <td>0.26</td>\n",
       "      <td>40.93</td>\n",
       "      <td>59.27</td>\n",
       "      <td>3.50</td>\n",
       "      <td>1.08</td>\n",
       "      <td>1087.46</td>\n",
       "    </tr>\n",
       "    <tr>\n",
       "      <th>4</th>\n",
       "      <td>Regular Menu</td>\n",
       "      <td>American Veg Burger</td>\n",
       "      <td>177 g</td>\n",
       "      <td>512.17</td>\n",
       "      <td>15.30</td>\n",
       "      <td>23.45</td>\n",
       "      <td>10.51</td>\n",
       "      <td>0.17</td>\n",
       "      <td>25.24</td>\n",
       "      <td>56.96</td>\n",
       "      <td>7.85</td>\n",
       "      <td>4.76</td>\n",
       "      <td>1051.24</td>\n",
       "    </tr>\n",
       "  </tbody>\n",
       "</table>\n",
       "</div>"
      ],
      "text/plain": [
       "  Menu Category              Menu Items Per Serve Size  Energy (kCal)  \\\n",
       "0  Regular Menu        McVeggie™ Burger          168 g         402.05   \n",
       "1  Regular Menu    McAloo Tikki Burger®          146 g         339.52   \n",
       "2  Regular Menu  McSpicy™ Paneer Burger          199 g         652.76   \n",
       "3  Regular Menu       Spicy Paneer Wrap          250 g         674.68   \n",
       "4  Regular Menu     American Veg Burger          177 g         512.17   \n",
       "\n",
       "   Protein (g)  Total fat (g)  Sat Fat (g)  Trans fat (g)  Cholesterols (mg)  \\\n",
       "0        10.24          13.83         5.34           0.16               2.49   \n",
       "1         8.50          11.31         4.27           0.20               1.47   \n",
       "2        20.29          39.45        17.12           0.18              21.85   \n",
       "3        20.96          39.10        19.73           0.26              40.93   \n",
       "4        15.30          23.45        10.51           0.17              25.24   \n",
       "\n",
       "   Total carbohydrate (g)  Total Sugars (g)  Added Sugars (g)  Sodium (mg)  \n",
       "0                   56.54              7.90              4.49       706.13  \n",
       "1                   50.27              7.05              4.07       545.34  \n",
       "2                   52.33              8.35              5.27      1074.58  \n",
       "3                   59.27              3.50              1.08      1087.46  \n",
       "4                   56.96              7.85              4.76      1051.24  "
      ]
     },
     "execution_count": 16,
     "metadata": {},
     "output_type": "execute_result"
    }
   ],
   "source": [
    "df.head()"
   ]
  },
  {
   "cell_type": "code",
   "execution_count": 54,
   "metadata": {},
   "outputs": [
    {
     "data": {
      "text/plain": [
       "<bound method Series.unique of 0         Regular Menu\n",
       "1         Regular Menu\n",
       "2         Regular Menu\n",
       "3         Regular Menu\n",
       "4         Regular Menu\n",
       "            ...       \n",
       "136    Condiments Menu\n",
       "137    Condiments Menu\n",
       "138    Condiments Menu\n",
       "139    Condiments Menu\n",
       "140    Condiments Menu\n",
       "Name: Menu Category, Length: 141, dtype: object>"
      ]
     },
     "execution_count": 54,
     "metadata": {},
     "output_type": "execute_result"
    }
   ],
   "source": [
    "df['Menu Category'].unique"
   ]
  },
  {
   "cell_type": "code",
   "execution_count": 45,
   "metadata": {},
   "outputs": [
    {
     "data": {
      "text/plain": [
       "0"
      ]
     },
     "execution_count": 45,
     "metadata": {},
     "output_type": "execute_result"
    }
   ],
   "source": [
    "#¿Y duplicados?\n",
    "\n",
    "df.duplicated().sum()"
   ]
  },
  {
   "cell_type": "code",
   "execution_count": 46,
   "metadata": {},
   "outputs": [
    {
     "name": "stdout",
     "output_type": "stream",
     "text": [
      "<class 'pandas.core.frame.DataFrame'>\n",
      "RangeIndex: 141 entries, 0 to 140\n",
      "Data columns (total 13 columns):\n",
      " #   Column                  Non-Null Count  Dtype  \n",
      "---  ------                  --------------  -----  \n",
      " 0   Menu Category           141 non-null    object \n",
      " 1   Menu Items              141 non-null    object \n",
      " 2   Per Serve Size          141 non-null    object \n",
      " 3   Energy (kCal)           141 non-null    float64\n",
      " 4   Protein (g)             141 non-null    float64\n",
      " 5   Total fat (g)           141 non-null    float64\n",
      " 6   Sat Fat (g)             141 non-null    float64\n",
      " 7   Trans fat (g)           141 non-null    float64\n",
      " 8   Cholesterols (mg)       141 non-null    float64\n",
      " 9   Total carbohydrate (g)  141 non-null    float64\n",
      " 10  Total Sugars (g)        141 non-null    float64\n",
      " 11  Added Sugars (g)        141 non-null    float64\n",
      " 12  Sodium (mg)             140 non-null    float64\n",
      "dtypes: float64(10), object(3)\n",
      "memory usage: 14.4+ KB\n"
     ]
    }
   ],
   "source": [
    "#¿Qué tipo de datos tenemos en el dataframe?\n",
    "df.info()"
   ]
  },
  {
   "cell_type": "code",
   "execution_count": 49,
   "metadata": {},
   "outputs": [
    {
     "ename": "TypeError",
     "evalue": "'method' object is not subscriptable",
     "output_type": "error",
     "traceback": [
      "\u001b[1;31m---------------------------------------------------------------------------\u001b[0m",
      "\u001b[1;31mTypeError\u001b[0m                                 Traceback (most recent call last)",
      "\u001b[1;32mc:\\Users\\LARA\\Desktop\\adalab\\DA-promo-b-modulo-2-sprint-1-Lara-Diana\\Estadistica\\modulo-2-ejercicio-1-estadistica-repaso.ipynb Celda 10\u001b[0m in \u001b[0;36m<cell line: 4>\u001b[1;34m()\u001b[0m\n\u001b[0;32m      <a href='vscode-notebook-cell:/c%3A/Users/LARA/Desktop/adalab/DA-promo-b-modulo-2-sprint-1-Lara-Diana/Estadistica/modulo-2-ejercicio-1-estadistica-repaso.ipynb#X21sZmlsZQ%3D%3D?line=0'>1</a>\u001b[0m \u001b[39m#  Plantead una serie de preguntas como las que fuimos contestando en la clase invertida.\u001b[39;00m\n\u001b[0;32m      <a href='vscode-notebook-cell:/c%3A/Users/LARA/Desktop/adalab/DA-promo-b-modulo-2-sprint-1-Lara-Diana/Estadistica/modulo-2-ejercicio-1-estadistica-repaso.ipynb#X21sZmlsZQ%3D%3D?line=1'>2</a>\u001b[0m \u001b[39m#¿CUAL ES EL PRODUCTO CON MÁS GRASAS?¿Y EL QUE MENOS? (TOTAL FAT (g))\u001b[39;00m\n\u001b[1;32m----> <a href='vscode-notebook-cell:/c%3A/Users/LARA/Desktop/adalab/DA-promo-b-modulo-2-sprint-1-Lara-Diana/Estadistica/modulo-2-ejercicio-1-estadistica-repaso.ipynb#X21sZmlsZQ%3D%3D?line=3'>4</a>\u001b[0m item_fat \u001b[39m=\u001b[39m df\u001b[39m.\u001b[39;49mgroupby[df[\u001b[39m\"\u001b[39;49m\u001b[39mTotal fat (g)\u001b[39;49m\u001b[39m\"\u001b[39;49m]\u001b[39m.\u001b[39;49mmax()]\n\u001b[0;32m      <a href='vscode-notebook-cell:/c%3A/Users/LARA/Desktop/adalab/DA-promo-b-modulo-2-sprint-1-Lara-Diana/Estadistica/modulo-2-ejercicio-1-estadistica-repaso.ipynb#X21sZmlsZQ%3D%3D?line=4'>5</a>\u001b[0m item_menos_fat\u001b[39m=\u001b[39mdf[\u001b[39m'\u001b[39m\u001b[39mTotal fat (g)\u001b[39m\u001b[39m'\u001b[39m]\u001b[39m.\u001b[39mmin()\n\u001b[0;32m      <a href='vscode-notebook-cell:/c%3A/Users/LARA/Desktop/adalab/DA-promo-b-modulo-2-sprint-1-Lara-Diana/Estadistica/modulo-2-ejercicio-1-estadistica-repaso.ipynb#X21sZmlsZQ%3D%3D?line=5'>6</a>\u001b[0m \u001b[39mprint\u001b[39m(\u001b[39mf\u001b[39m\u001b[39m\"\u001b[39m\u001b[39mEl producto con menos grasas es \u001b[39m\u001b[39m{\u001b[39;00mitem_menos_fat\u001b[39m}\u001b[39;00m\u001b[39m y el que más tiene es \u001b[39m\u001b[39m{\u001b[39;00mitem_fat\u001b[39m}\u001b[39;00m\u001b[39m\"\u001b[39m)\n",
      "\u001b[1;31mTypeError\u001b[0m: 'method' object is not subscriptable"
     ]
    }
   ],
   "source": [
    "#  Plantead una serie de preguntas como las que fuimos contestando en la clase invertida.\n",
    "#¿CUAL ES EL PRODUCTO CON MÁS GRASAS?¿Y EL QUE MENOS? (TOTAL FAT (g))\n",
    "\n",
    "item_fat = df.groupby('Menu Items')[\"Total fat (g)\"].max()\n",
    "item_menos_fat=df['Total fat (g)'].min()\n",
    "print(f\"El producto con menos grasas es {item_menos_fat} y el que más tiene es {item_fat}\")\n",
    "\n"
   ]
  },
  {
   "cell_type": "code",
   "execution_count": 53,
   "metadata": {},
   "outputs": [
    {
     "data": {
      "text/plain": [
       "Menu Items\n",
       "2 piece Chicken Strips          12.38\n",
       "3 piece Chicken Strips          18.57\n",
       "4 piece Chicken McNuggets        9.54\n",
       "5 piece Chicken Strips          28.54\n",
       "6 piece Chicken McNuggets       14.30\n",
       "                                ...  \n",
       "Tomato Ketchup Sachets          23.45\n",
       "Vanilla Chocochips Muffin       15.46\n",
       "Vedica Natural Mineral Water     0.00\n",
       "Veg Maharaja Mac                37.94\n",
       "Veg McMuffin                    11.78\n",
       "Name: Total fat (g), Length: 141, dtype: float64"
      ]
     },
     "execution_count": 53,
     "metadata": {},
     "output_type": "execute_result"
    }
   ],
   "source": [
    "item_fat = df.groupby('Menu Items')[\"Total fat (g)\"].max()\n",
    "item_fat"
   ]
  }
 ],
 "metadata": {
  "kernelspec": {
   "display_name": "Python 3.10.6 64-bit (microsoft store)",
   "language": "python",
   "name": "python3"
  },
  "language_info": {
   "codemirror_mode": {
    "name": "ipython",
    "version": 3
   },
   "file_extension": ".py",
   "mimetype": "text/x-python",
   "name": "python",
   "nbconvert_exporter": "python",
   "pygments_lexer": "ipython3",
   "version": "3.10.6"
  },
  "orig_nbformat": 4,
  "vscode": {
   "interpreter": {
    "hash": "d6e80f66db0e40720662ef87f88d9f9a2c5410907eee4ad6602fd6533eb3af97"
   }
  }
 },
 "nbformat": 4,
 "nbformat_minor": 2
}
