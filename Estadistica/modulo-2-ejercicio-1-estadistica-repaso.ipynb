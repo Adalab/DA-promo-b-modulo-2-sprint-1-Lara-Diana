{
 "cells": [
  {
   "cell_type": "code",
   "execution_count": null,
   "metadata": {},
   "outputs": [],
   "source": [
    "\n",
    "# - Plantead una serie de preguntas como las que fuimos contestando en la clase invertida.\n",
    "# - Contestad a las preguntas planteadas usando los principales estadísticos que hemos aprendido y gráficas que mejor se ajusten.\n"
   ]
  },
  {
   "cell_type": "code",
   "execution_count": 2,
   "metadata": {},
   "outputs": [],
   "source": [
    "from scipy import stats \n",
    "import seaborn as sns\n",
    "import numpy as np \n",
    "import pandas as pd\n",
    "from statistics import median\n",
    "import matplotlib.pyplot as plt\n",
    "df= pd.read_csv('./datos/India_Menu.csv')\n"
   ]
  },
  {
   "cell_type": "code",
   "execution_count": 5,
   "metadata": {},
   "outputs": [
    {
     "data": {
      "text/plain": [
       "141"
      ]
     },
     "execution_count": 5,
     "metadata": {},
     "output_type": "execute_result"
    }
   ],
   "source": [
    "# - Hacer una exploración inicial del dataframe.\n",
    "#¿Cuántas filas tiene?\n",
    "df.shape[0]"
   ]
  },
  {
   "cell_type": "code",
   "execution_count": 6,
   "metadata": {},
   "outputs": [
    {
     "data": {
      "text/plain": [
       "Menu Category             0\n",
       "Menu Items                0\n",
       "Per Serve Size            0\n",
       "Energy (kCal)             0\n",
       "Protein (g)               0\n",
       "Total fat (g)             0\n",
       "Sat Fat (g)               0\n",
       "Trans fat (g)             0\n",
       "Cholesterols (mg)         0\n",
       "Total carbohydrate (g)    0\n",
       "Total Sugars (g)          0\n",
       "Added Sugars (g)          0\n",
       "Sodium (mg)               1\n",
       "dtype: int64"
      ]
     },
     "execution_count": 6,
     "metadata": {},
     "output_type": "execute_result"
    }
   ],
   "source": [
    "#¿Cuántas nulos tiene?\n",
    "df.isnull().sum()"
   ]
  },
  {
   "cell_type": "code",
   "execution_count": 8,
   "metadata": {},
   "outputs": [
    {
     "data": {
      "text/plain": [
       "0"
      ]
     },
     "execution_count": 8,
     "metadata": {},
     "output_type": "execute_result"
    }
   ],
   "source": [
    "#¿Y duplicados?\n",
    "\n",
    "df.duplicated().sum()"
   ]
  },
  {
   "cell_type": "code",
   "execution_count": 46,
   "metadata": {},
   "outputs": [
    {
     "name": "stdout",
     "output_type": "stream",
     "text": [
      "<class 'pandas.core.frame.DataFrame'>\n",
      "RangeIndex: 141 entries, 0 to 140\n",
      "Data columns (total 13 columns):\n",
      " #   Column                  Non-Null Count  Dtype  \n",
      "---  ------                  --------------  -----  \n",
      " 0   Menu Category           141 non-null    object \n",
      " 1   Menu Items              141 non-null    object \n",
      " 2   Per Serve Size          141 non-null    object \n",
      " 3   Energy (kCal)           141 non-null    float64\n",
      " 4   Protein (g)             141 non-null    float64\n",
      " 5   Total fat (g)           141 non-null    float64\n",
      " 6   Sat Fat (g)             141 non-null    float64\n",
      " 7   Trans fat (g)           141 non-null    float64\n",
      " 8   Cholesterols (mg)       141 non-null    float64\n",
      " 9   Total carbohydrate (g)  141 non-null    float64\n",
      " 10  Total Sugars (g)        141 non-null    float64\n",
      " 11  Added Sugars (g)        141 non-null    float64\n",
      " 12  Sodium (mg)             140 non-null    float64\n",
      "dtypes: float64(10), object(3)\n",
      "memory usage: 14.4+ KB\n"
     ]
    }
   ],
   "source": [
    "#¿Qué tipo de datos tenemos en el dataframe?\n",
    "df.info()"
   ]
  },
  {
   "cell_type": "code",
   "execution_count": 10,
   "metadata": {},
   "outputs": [
    {
     "data": {
      "text/plain": [
       "Index(['Menu Category', 'Menu Items', 'Per Serve Size', 'Energy (kCal)',\n",
       "       'Protein (g)', 'Total fat (g)', 'Sat Fat (g)', 'Trans fat (g)',\n",
       "       'Cholesterols (mg)', 'Total carbohydrate (g)', 'Total Sugars (g)',\n",
       "       'Added Sugars (g)', 'Sodium (mg)'],\n",
       "      dtype='object')"
      ]
     },
     "execution_count": 10,
     "metadata": {},
     "output_type": "execute_result"
    }
   ],
   "source": [
    "df.columns"
   ]
  },
  {
   "cell_type": "code",
   "execution_count": 14,
   "metadata": {},
   "outputs": [
    {
     "data": {
      "text/plain": [
       "Menu Category\n",
       "Beverages Menu      1.75\n",
       "Breakfast Menu     15.94\n",
       "Condiments Menu    23.45\n",
       "Desserts Menu       6.81\n",
       "Gourmet Menu       45.18\n",
       "McCafe Menu        18.89\n",
       "Regular Menu       39.45\n",
       "Name: Total fat (g), dtype: float64"
      ]
     },
     "execution_count": 14,
     "metadata": {},
     "output_type": "execute_result"
    }
   ],
   "source": [
    "#  Plantead una serie de preguntas como las que fuimos contestando en la clase invertida.\n",
    "#¿CUAL ES EL PRODUCTO CON MÁS GRASAS?¿Y EL QUE MENOS? (TOTAL FAT (g))\n",
    "\n",
    "menu_fat = df.groupby('Menu Category')[\"Total fat (g)\"].max()\n",
    "\n",
    "menu_fat\n",
    "\n",
    "#con este groupby podemos observar dentro de las categorías del menú, cuales son los valores más altos, lo que nos permite\n",
    "#representar con mayor facilidad, que el menú gourmet tiene el valor más alto mientras que el menú de bebidas el más bajo.\n",
    "\n"
   ]
  },
  {
   "cell_type": "code",
   "execution_count": 15,
   "metadata": {},
   "outputs": [
    {
     "data": {
      "text/plain": [
       "Menu Category\n",
       "Beverages Menu     64.22\n",
       "Breakfast Menu     25.72\n",
       "Condiments Menu    16.83\n",
       "Desserts Menu      25.35\n",
       "Gourmet Menu       16.75\n",
       "McCafe Menu        55.14\n",
       "Regular Menu       29.60\n",
       "Name: Total Sugars (g), dtype: float64"
      ]
     },
     "execution_count": 15,
     "metadata": {},
     "output_type": "execute_result"
    }
   ],
   "source": [
    "menu_sugar = df.groupby('Menu Category')['Total Sugars (g)'].max()\n",
    "\n",
    "menu_sugar \n",
    "\n",
    "\n",
    "#decidimos también representar el máximo de azucar que puede contener cada menú para comparar con el resultado anterior, lo que podemos ver es que los \n",
    "#resultados se disparan, podemos observar que todos los menús tienen altos índices de azucar pero el menú de bebidas es el más alto.\n",
    "#Podemos concluír que el menú de bebidas a pesar de que es el que tiene menos grasa, hay que considerar otros factores para determinar qué tan \"malo\" es \n",
    "#por ejemplo con la tabla de azucar pudimos comprobar que es el más alto, lo cual es batante lógico ya que las bebidas rara vez contienen grasa pero sí\n",
    "# mucha azucar."
   ]
  },
  {
   "cell_type": "code",
   "execution_count": 20,
   "metadata": {},
   "outputs": [
    {
     "data": {
      "image/png": "[encoded data removed]",
      "text/plain": [
       "<Figure size 1440x720 with 1 Axes>"
      ]
     },
     "metadata": {
      "needs_background": "light"
     },
     "output_type": "display_data"
    }
   ],
   "source": [
    "plt.figure(figsize =(20,10))\n",
    "fig = sns.boxplot(x=df['Total Sugars (g)'], y= df['Menu Category'], color=  \"salmon\")\n",
    "fig.set(xlabel='Azúcares totales (g)', ylabel= 'Categoría' )\n",
    "fig.set_title('Relación entre tipo de menú y cantidad de azúcar')\n",
    "plt.show()"
   ]
  },
  {
   "cell_type": "code",
   "execution_count": null,
   "metadata": {},
   "outputs": [],
   "source": [
    "#Esta gráfica representa de forma muy visual la cantidad de azucar en gramos que contiene cada opción de menú, \n",
    "# podemos observar cómo el menú de bebidas contiene los datos más altos con respecto al resto pero un outlier en el cero, lo que podría indicar que se \n",
    "# trata de agua, la cual no contiene azúcar.\n",
    "#mientras que mc café menú contiene productos tanto altos en azúcar como también muy bajos y su outlier no se aleja demasiado.\n",
    "#El breakfast menú representa el menú con menos azúcar de todos, con 3 outliers que no sobrepasan los 30 gr de azúcar."
   ]
  }
 ],
 "metadata": {
  "kernelspec": {
   "display_name": "Python 3.9.7 ('base')",
   "language": "python",
   "name": "python3"
  },
  "language_info": {
   "codemirror_mode": {
    "name": "ipython",
    "version": 3
   },
   "file_extension": ".py",
   "mimetype": "text/x-python",
   "name": "python",
   "nbconvert_exporter": "python",
   "pygments_lexer": "ipython3",
   "version": "3.9.7"
  },
  "orig_nbformat": 4,
  "vscode": {
   "interpreter": {
    "hash": "bab9de067d915f107d1ee2ee6fc66eaa4419a4d622bcbfdabd1c6ae75445c121"
   }
  }
 },
 "nbformat": 4,
 "nbformat_minor": 2
}
