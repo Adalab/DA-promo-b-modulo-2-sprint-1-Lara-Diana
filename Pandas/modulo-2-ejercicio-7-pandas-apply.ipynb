{
 "cells": [
  {
   "cell_type": "code",
   "execution_count": 10,
   "metadata": {},
   "outputs": [
    {
     "data": {
      "text/plain": [
       "Index(['Case Number', 'Year', 'Type', 'Country', 'Area', 'Location',\n",
       "       'Activity', 'Name', 'Sex', 'Age', 'Time', 'Species', 'Href', 'Siglo',\n",
       "       'Unnamed: 0_x', 'Sex ', 'Species ', 'href', 'Unnamed: 0_y',\n",
       "       'Fatal (Y/N)', 'Injury', 'Date'],\n",
       "      dtype='object')"
      ]
     },
     "execution_count": 10,
     "metadata": {},
     "output_type": "execute_result"
    }
   ],
   "source": [
    "import pandas as pd\n",
    "\n",
    "df=pd.read_csv('./attacks_pandas5.csv')\n",
    "df.columns"
   ]
  },
  {
   "cell_type": "code",
   "execution_count": 2,
   "metadata": {},
   "outputs": [],
   "source": [
    "# 1-Cread una columna nueva y una función que nos de el mes donde ocurrió el ataque.\n",
    "# Tened en cuenta que no todas las filas tienen la misma estructura y que puede que no haya la información de mes.\n",
    "# En ese caso devolved un nulo (NaN).\n",
    "def sacar_mes(x):\n",
    "    try:\n",
    "       return x.split(\"-\")[1].strip()\n",
    "    except:\n",
    "         return x\n",
    "\n",
    "df['Mes'] = df['Date'].apply(sacar_mes)\n"
   ]
  },
  {
   "cell_type": "code",
   "execution_count": 3,
   "metadata": {},
   "outputs": [
    {
     "data": {
      "text/html": [
       "<div>\n",
       "<style scoped>\n",
       "    .dataframe tbody tr th:only-of-type {\n",
       "        vertical-align: middle;\n",
       "    }\n",
       "\n",
       "    .dataframe tbody tr th {\n",
       "        vertical-align: top;\n",
       "    }\n",
       "\n",
       "    .dataframe thead th {\n",
       "        text-align: right;\n",
       "    }\n",
       "</style>\n",
       "<table border=\"1\" class=\"dataframe\">\n",
       "  <thead>\n",
       "    <tr style=\"text-align: right;\">\n",
       "      <th></th>\n",
       "      <th>Case Number</th>\n",
       "      <th>Year</th>\n",
       "      <th>Type</th>\n",
       "      <th>Country</th>\n",
       "      <th>Area</th>\n",
       "      <th>Location</th>\n",
       "      <th>Activity</th>\n",
       "      <th>Name</th>\n",
       "      <th>Sex</th>\n",
       "      <th>Age</th>\n",
       "      <th>...</th>\n",
       "      <th>Siglo</th>\n",
       "      <th>Unnamed: 0_x</th>\n",
       "      <th>Sex</th>\n",
       "      <th>Species</th>\n",
       "      <th>href</th>\n",
       "      <th>Unnamed: 0_y</th>\n",
       "      <th>Fatal (Y/N)</th>\n",
       "      <th>Injury</th>\n",
       "      <th>Date</th>\n",
       "      <th>Mes</th>\n",
       "    </tr>\n",
       "  </thead>\n",
       "  <tbody>\n",
       "    <tr>\n",
       "      <th>0</th>\n",
       "      <td>2018.06.25</td>\n",
       "      <td>2018.0</td>\n",
       "      <td>Boating</td>\n",
       "      <td>USA</td>\n",
       "      <td>California</td>\n",
       "      <td>Oceanside, San Diego County</td>\n",
       "      <td>Paddling</td>\n",
       "      <td>Julie Wolfe</td>\n",
       "      <td>F</td>\n",
       "      <td>57</td>\n",
       "      <td>...</td>\n",
       "      <td>siglo - XXI</td>\n",
       "      <td>NaN</td>\n",
       "      <td>NaN</td>\n",
       "      <td>NaN</td>\n",
       "      <td>NaN</td>\n",
       "      <td>0</td>\n",
       "      <td>N</td>\n",
       "      <td>No injury to occupant, outrigger canoe and pad...</td>\n",
       "      <td>25-Jun-2018</td>\n",
       "      <td>Jun</td>\n",
       "    </tr>\n",
       "    <tr>\n",
       "      <th>1</th>\n",
       "      <td>2018.06.03.a</td>\n",
       "      <td>2018.0</td>\n",
       "      <td>Unprovoked</td>\n",
       "      <td>BRAZIL</td>\n",
       "      <td>Pernambuco</td>\n",
       "      <td>Piedade Beach, Recife</td>\n",
       "      <td>Swimming</td>\n",
       "      <td>Jose Ernesto da Silva</td>\n",
       "      <td>M</td>\n",
       "      <td>18</td>\n",
       "      <td>...</td>\n",
       "      <td>siglo - XXI</td>\n",
       "      <td>NaN</td>\n",
       "      <td>NaN</td>\n",
       "      <td>NaN</td>\n",
       "      <td>NaN</td>\n",
       "      <td>6</td>\n",
       "      <td>Y</td>\n",
       "      <td>FATAL</td>\n",
       "      <td>03-Jun-2018</td>\n",
       "      <td>Jun</td>\n",
       "    </tr>\n",
       "    <tr>\n",
       "      <th>2</th>\n",
       "      <td>2018.05.26.b</td>\n",
       "      <td>2018.0</td>\n",
       "      <td>Unprovoked</td>\n",
       "      <td>USA</td>\n",
       "      <td>Florida</td>\n",
       "      <td>Cocoa Beach, Brevard  County</td>\n",
       "      <td>Walking</td>\n",
       "      <td>Cody High</td>\n",
       "      <td>M</td>\n",
       "      <td>15</td>\n",
       "      <td>...</td>\n",
       "      <td>siglo - XXI</td>\n",
       "      <td>NaN</td>\n",
       "      <td>NaN</td>\n",
       "      <td>NaN</td>\n",
       "      <td>NaN</td>\n",
       "      <td>8</td>\n",
       "      <td>N</td>\n",
       "      <td>Lower left leg bitten</td>\n",
       "      <td>26-May-2018</td>\n",
       "      <td>May</td>\n",
       "    </tr>\n",
       "    <tr>\n",
       "      <th>3</th>\n",
       "      <td>2018.05.24</td>\n",
       "      <td>2018.0</td>\n",
       "      <td>Provoked</td>\n",
       "      <td>AUSTRALIA</td>\n",
       "      <td>Queensland</td>\n",
       "      <td>Cairns Aquarium</td>\n",
       "      <td>Feeding sharks</td>\n",
       "      <td>male</td>\n",
       "      <td>M</td>\n",
       "      <td>32</td>\n",
       "      <td>...</td>\n",
       "      <td>siglo - XXI</td>\n",
       "      <td>NaN</td>\n",
       "      <td>NaN</td>\n",
       "      <td>NaN</td>\n",
       "      <td>NaN</td>\n",
       "      <td>10</td>\n",
       "      <td>N</td>\n",
       "      <td>Minor bite to hand by captive shark. PROVOKED ...</td>\n",
       "      <td>24-May-2018</td>\n",
       "      <td>May</td>\n",
       "    </tr>\n",
       "    <tr>\n",
       "      <th>4</th>\n",
       "      <td>2018.05.13.a</td>\n",
       "      <td>2018.0</td>\n",
       "      <td>Invalid</td>\n",
       "      <td>ENGLAND</td>\n",
       "      <td>Cornwall</td>\n",
       "      <td>Off Land's End</td>\n",
       "      <td>Fishing</td>\n",
       "      <td>Max Berryman</td>\n",
       "      <td>M</td>\n",
       "      <td>21</td>\n",
       "      <td>...</td>\n",
       "      <td>siglo - XXI</td>\n",
       "      <td>NaN</td>\n",
       "      <td>NaN</td>\n",
       "      <td>NaN</td>\n",
       "      <td>NaN</td>\n",
       "      <td>13</td>\n",
       "      <td>N</td>\n",
       "      <td>Injured by teeth of a dead porbeagle shark he ...</td>\n",
       "      <td>13-May-2018</td>\n",
       "      <td>May</td>\n",
       "    </tr>\n",
       "  </tbody>\n",
       "</table>\n",
       "<p>5 rows × 23 columns</p>\n",
       "</div>"
      ],
      "text/plain": [
       "    Case Number    Year        Type    Country        Area  \\\n",
       "0    2018.06.25  2018.0     Boating        USA  California   \n",
       "1  2018.06.03.a  2018.0  Unprovoked     BRAZIL  Pernambuco   \n",
       "2  2018.05.26.b  2018.0  Unprovoked        USA     Florida   \n",
       "3    2018.05.24  2018.0    Provoked  AUSTRALIA  Queensland   \n",
       "4  2018.05.13.a  2018.0     Invalid    ENGLAND    Cornwall   \n",
       "\n",
       "                       Location        Activity                    Name Sex  \\\n",
       "0   Oceanside, San Diego County        Paddling             Julie Wolfe   F   \n",
       "1         Piedade Beach, Recife        Swimming  Jose Ernesto da Silva    M   \n",
       "2  Cocoa Beach, Brevard  County         Walking               Cody High   M   \n",
       "3               Cairns Aquarium  Feeding sharks                    male   M   \n",
       "4                Off Land's End         Fishing            Max Berryman   M   \n",
       "\n",
       "  Age  ...        Siglo Unnamed: 0_x Sex  Species   href Unnamed: 0_y  \\\n",
       "0  57  ...  siglo - XXI          NaN  NaN      NaN   NaN            0   \n",
       "1  18  ...  siglo - XXI          NaN  NaN      NaN   NaN            6   \n",
       "2  15  ...  siglo - XXI          NaN  NaN      NaN   NaN            8   \n",
       "3  32  ...  siglo - XXI          NaN  NaN      NaN   NaN           10   \n",
       "4  21  ...  siglo - XXI          NaN  NaN      NaN   NaN           13   \n",
       "\n",
       "  Fatal (Y/N)                                             Injury         Date  \\\n",
       "0           N  No injury to occupant, outrigger canoe and pad...  25-Jun-2018   \n",
       "1           Y                                              FATAL  03-Jun-2018   \n",
       "2           N                              Lower left leg bitten  26-May-2018   \n",
       "3           N  Minor bite to hand by captive shark. PROVOKED ...  24-May-2018   \n",
       "4           N  Injured by teeth of a dead porbeagle shark he ...  13-May-2018   \n",
       "\n",
       "   Mes  \n",
       "0  Jun  \n",
       "1  Jun  \n",
       "2  May  \n",
       "3  May  \n",
       "4  May  \n",
       "\n",
       "[5 rows x 23 columns]"
      ]
     },
     "execution_count": 3,
     "metadata": {},
     "output_type": "execute_result"
    }
   ],
   "source": [
    "df.head()"
   ]
  },
  {
   "cell_type": "code",
   "execution_count": 4,
   "metadata": {},
   "outputs": [
    {
     "data": {
      "text/plain": [
       "array(['Jun', 'May', 'Apr', 'Mar', 'Feb', 'Jan', 'Dec', 'Nov', 'Oct',\n",
       "       'Sep', 'Aug', 'Jul', 'May2015', '2000', '1999', '1993', 'Feb 1993',\n",
       "       '1986', '1985 or mid Jul', '1985', '1981', '30', '1980',\n",
       "       '05 May 1979', '1974', '1973', '1968', '1967', '1966',\n",
       "       'Summer of 1996', '1961', '1959', '1958', '1953', 'Summer 1950',\n",
       "       'Summer 1948', '1945', '1943', '1942', '1932', '1928', 'May 1922',\n",
       "       '1800', '28', '1791', '1779', 'Reported 1776', '1776', '1767',\n",
       "       '1764', '1758', '1749', '1755', '1748', '1733', '1723',\n",
       "       'June 1721', '1700s', 'Late 1600s Reported 1728', 'Reported 1638',\n",
       "       'Reported 1637', 'Reported 1617', '1642', '1595', '1555',\n",
       "       'Ca. 1554', 'Ca. 1543', 'Circa 500 A.D.', '77  A.D.', 'Ca. 5 A.D.',\n",
       "       'Ca. 214 B.C.', 'Ca. 336.B.C..', '493 B.C.', 'Ca. 725 B.C.',\n",
       "       'Before 1939', '1990 or 1991', 'Before 2016', '2009',\n",
       "       'Before 1934', '2009?', 'Before 1930', '1899', 'Before 1909',\n",
       "       'Before 2012', 'Before 1916', '1963', 'Before 1908', 'Before 1900',\n",
       "       'Before 1876', 'Before 2011', 'Before 2009', 'Beforer 1994',\n",
       "       'Before 1963', '1913', 'Before 1936', 'Before 1911', 'Before 1901',\n",
       "       'No date, late 1960s', 'Before 2006', 'Before 2003', 'Before 2004',\n",
       "       'Before 1962', '1950s', 'No date, Before 1963', '2003?', 'No date',\n",
       "       '1998', '1996', '1995', 'Before 1996', '1989', '1987',\n",
       "       'No date, Before 1987', 'No date, Before  1975',\n",
       "       'No date, Before 1975', 'No date, Before 1969',\n",
       "       'No date, Before 1902',\n",
       "       'No date, After August 1926 and before 1936', 'Before 1961',\n",
       "       '1960s', 'Before 1960', 'Before  1958', 'Before 1958',\n",
       "       'Before 1957', 'Before 1956', '1956', 'Before 1952',\n",
       "       '\"Before the war\"', '1945, more likely 1945', '1950', '1946',\n",
       "       'Before 1905', 'World War II', 'A few years before 1938',\n",
       "       'Early 1930s', 'Before 1927', 'Between 1918 & 1939', '1923',\n",
       "       'Before 1921', 'Before 1917', 'Circa 1862', 'Before 1906',\n",
       "       'Before 1903', '1905', '1889', '1853'], dtype=object)"
      ]
     },
     "execution_count": 4,
     "metadata": {},
     "output_type": "execute_result"
    }
   ],
   "source": [
    "df['Mes'].unique()"
   ]
  },
  {
   "cell_type": "code",
   "execution_count": 5,
   "metadata": {},
   "outputs": [
    {
     "data": {
      "text/plain": [
       "array(['N', 'Y', nan, 'M', '2017', ' N', 'UNKNOWN'], dtype=object)"
      ]
     },
     "execution_count": 5,
     "metadata": {},
     "output_type": "execute_result"
    }
   ],
   "source": [
    "# 2-Vamos con la columna fatal_(y/n).\n",
    "#  Lo primero que tenéis que hacer es evaluar los valores únicos que hay.\n",
    "\n",
    "df['Fatal (Y/N)'].unique()"
   ]
  },
  {
   "cell_type": "code",
   "execution_count": 6,
   "metadata": {},
   "outputs": [],
   "source": [
    "#Esperaríamos tener solo dos valores: y y n, pero tristemente no debería ser así 😭. \n",
    "#Cread una columna nueva y una función que devuelva únicamente y o n y que devuelva un nulo (NaN) si no se encuentra el valor.\n",
    "\n",
    "def cambiar_y_n(x):\n",
    "    if x== 'Y':\n",
    "        return('Y')\n",
    "    elif x== 'N':\n",
    "        return('N')\n",
    "    else:\n",
    "        return('NaN')\n",
    "     \n",
    "    \n",
    "df['fatal_bien'] = df['Fatal (Y/N)'].apply(cambiar_y_n)\n"
   ]
  },
  {
   "cell_type": "code",
   "execution_count": 7,
   "metadata": {},
   "outputs": [
    {
     "data": {
      "text/plain": [
       "array(['N', 'Y', 'NaN'], dtype=object)"
      ]
     },
     "execution_count": 7,
     "metadata": {},
     "output_type": "execute_result"
    }
   ],
   "source": [
    "df['fatal_bien'].unique()"
   ]
  },
  {
   "cell_type": "code",
   "execution_count": 13,
   "metadata": {},
   "outputs": [],
   "source": [
    "# 3-Seguid la misma lógica que en el ejercicio anterior pero con la columna sex.\n",
    "#Pero en este caso vamos a incluir un retito más: En este caso querremos tener dos valores únicos F y M.\n",
    "#De nuevo en la columna hay otros carácteres raros como 'M ', 'lli', 'N', '.'. \n",
    "#En esos casos, queremos que se reemplacen por M o F de forma aleatoria (tendréis que usar la librería random).\n",
    "#En caso de que sea nulo, que la función devuelva nulo (np.nan).\n",
    "import random\n",
    "def cambiar_genero(x):\n",
    "    if x== 'F':\n",
    "        return('F')\n",
    "    elif x== 'M':\n",
    "        return('M')\n",
    "    elif x=='NaN':\n",
    "        return x.np.nan\n",
    "    else:\n",
    "        return(random.choice(['M','F']))\n",
    "     \n",
    "    \n",
    "df['genero_bien'] = df['Sex'].apply(cambiar_genero)\n"
   ]
  },
  {
   "cell_type": "code",
   "execution_count": 14,
   "metadata": {},
   "outputs": [
    {
     "data": {
      "text/plain": [
       "array(['F', 'M'], dtype=object)"
      ]
     },
     "execution_count": 14,
     "metadata": {},
     "output_type": "execute_result"
    }
   ],
   "source": [
    "df['genero_bien'].unique()"
   ]
  },
  {
   "cell_type": "code",
   "execution_count": 38,
   "metadata": {},
   "outputs": [],
   "source": [
    "# 4-Una vez que hayáis terminado eliminad las columnas originales conservando las nuevas.\n"
   ]
  },
  {
   "cell_type": "code",
   "execution_count": 39,
   "metadata": {},
   "outputs": [],
   "source": [
    "# 5-Guardad el dataframe en un csv que usaremos más adelante."
   ]
  }
 ],
 "metadata": {
  "kernelspec": {
   "display_name": "Python 3.9.7 ('base')",
   "language": "python",
   "name": "python3"
  },
  "language_info": {
   "codemirror_mode": {
    "name": "ipython",
    "version": 3
   },
   "file_extension": ".py",
   "mimetype": "text/x-python",
   "name": "python",
   "nbconvert_exporter": "python",
   "pygments_lexer": "ipython3",
   "version": "3.9.7"
  },
  "orig_nbformat": 4,
  "vscode": {
   "interpreter": {
    "hash": "bab9de067d915f107d1ee2ee6fc66eaa4419a4d622bcbfdabd1c6ae75445c121"
   }
  }
 },
 "nbformat": 4,
 "nbformat_minor": 2
}
