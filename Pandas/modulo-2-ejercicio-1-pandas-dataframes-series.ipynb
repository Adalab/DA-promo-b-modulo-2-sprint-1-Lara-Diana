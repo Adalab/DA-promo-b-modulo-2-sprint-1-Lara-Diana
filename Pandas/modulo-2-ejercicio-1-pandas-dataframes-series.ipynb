{
 "cells": [
  {
   "cell_type": "code",
   "execution_count": null,
   "metadata": {},
   "outputs": [],
   "source": [
    "# Empezamos los ejercicios de pair programming con Pandas. En esta lección hemos aprendido que son las Series y DataFrames y como podemos crearlos en Python.\n",
    "# El objetivo de la clase de hoy será crear unos cuántos DataFrames y Series a través de los siguientes ejercicios:\n",
    "\n",
    "\n",
    "\n",
    "\n"
   ]
  },
  {
   "cell_type": "code",
   "execution_count": 1,
   "metadata": {},
   "outputs": [],
   "source": [
    "import pandas as pd\n",
    "import numpy as np"
   ]
  },
  {
   "cell_type": "markdown",
   "metadata": {},
   "source": [
    "# ¿Qué diferencia hay entre una Serie y un DataFrame?\n",
    "Una serie son estructuras de una dimensión mientras que un DataFrame es una estructura de dos dimensiones (tablas)."
   ]
  },
  {
   "cell_type": "code",
   "execution_count": 3,
   "metadata": {},
   "outputs": [],
   "source": [
    "#Momento de trabajar con Series. Contestad a las siguientes preguntas:\n",
    "# Crea dos listas:\n",
    "# Una que se llame \"valores\" que tenga 7 números aleatorios.\n",
    "\n",
    "\n",
    "valores=[4,2,5,8,3,1,9]"
   ]
  },
  {
   "cell_type": "code",
   "execution_count": 4,
   "metadata": {},
   "outputs": [],
   "source": [
    "# Otra que se llame \"indices\" que tenga 7 strings que se llamen como los días de la semana.\n",
    "\n",
    "indices=[\"Lunes\", \"Martes\", \"Miércoles\", \"Jueves\", \"Viernes\", \"Sábado\", \"Domingo\"]"
   ]
  },
  {
   "cell_type": "code",
   "execution_count": 7,
   "metadata": {},
   "outputs": [
    {
     "data": {
      "text/plain": [
       "Lunes        4\n",
       "Martes       2\n",
       "Miércoles    5\n",
       "Jueves       8\n",
       "Viernes      3\n",
       "Sábado       1\n",
       "Domingo      9\n",
       "dtype: int64"
      ]
     },
     "execution_count": 7,
     "metadata": {},
     "output_type": "execute_result"
    }
   ],
   "source": [
    "# A partir de estas dos listas cread una Serie donde la variable \"valores\" \n",
    "# sean los valores de la Serie y la variable indices sean los índices de la Serie.\n",
    "\n",
    "serie_1=pd.Series(valores,indices)\n",
    "serie_1"
   ]
  },
  {
   "cell_type": "code",
   "execution_count": null,
   "metadata": {},
   "outputs": [],
   "source": [
    "# A partir de las dos listas anteriores cread un diccionario usando un bucle for. Para hacer esto tenemos el método zip que nos permite iterar por dos listas a la vez.\n",
    "# Más informción sobre este método aquí."
   ]
  },
  {
   "cell_type": "code",
   "execution_count": 20,
   "metadata": {},
   "outputs": [
    {
     "name": "stdout",
     "output_type": "stream",
     "text": [
      "{'Lunes': 4, 'Martes': 2, 'Miércoles': 5, 'Jueves': 8, 'Viernes': 3, 'Sábado': 1, 'Domingo': 9}\n"
     ]
    }
   ],
   "source": [
    "\n",
    "diccionario=dict(zip(indices, valores))\n",
    "    \n",
    "    \n",
    "print(diccionario)\n",
    "    "
   ]
  },
  {
   "cell_type": "code",
   "execution_count": 21,
   "metadata": {},
   "outputs": [
    {
     "data": {
      "text/plain": [
       "Lunes        4\n",
       "Martes       2\n",
       "Miércoles    5\n",
       "Jueves       8\n",
       "Viernes      3\n",
       "Sábado       1\n",
       "Domingo      9\n",
       "dtype: int64"
      ]
     },
     "execution_count": 21,
     "metadata": {},
     "output_type": "execute_result"
    }
   ],
   "source": [
    "# Crea una Serie con el diccionario creado en el punto anterior.\n",
    "serie_diccionario= pd.Series(diccionario)\n",
    "serie_diccionario"
   ]
  },
  {
   "cell_type": "code",
   "execution_count": 23,
   "metadata": {},
   "outputs": [
    {
     "data": {
      "text/plain": [
       "(7,)"
      ]
     },
     "execution_count": 23,
     "metadata": {},
     "output_type": "execute_result"
    }
   ],
   "source": [
    "# ¿Qué forma tiene esta última Serie?\n",
    "\n",
    "serie_diccionario.shape"
   ]
  },
  {
   "cell_type": "code",
   "execution_count": 24,
   "metadata": {},
   "outputs": [
    {
     "data": {
      "text/plain": [
       "dtype('int64')"
      ]
     },
     "execution_count": 24,
     "metadata": {},
     "output_type": "execute_result"
    }
   ],
   "source": [
    "# ¿Qué tipo de datos tiene?\n",
    "serie_diccionario.dtypes"
   ]
  },
  {
   "cell_type": "code",
   "execution_count": 25,
   "metadata": {},
   "outputs": [
    {
     "data": {
      "text/plain": [
       "7"
      ]
     },
     "execution_count": 25,
     "metadata": {},
     "output_type": "execute_result"
    }
   ],
   "source": [
    "# ¿Qué tamaño tiene?\n",
    "\n",
    "serie_diccionario.size"
   ]
  },
  {
   "cell_type": "code",
   "execution_count": 26,
   "metadata": {},
   "outputs": [
    {
     "data": {
      "text/plain": [
       "Index(['Lunes', 'Martes', 'Miércoles', 'Jueves', 'Viernes', 'Sábado',\n",
       "       'Domingo'],\n",
       "      dtype='object')"
      ]
     },
     "execution_count": 26,
     "metadata": {},
     "output_type": "execute_result"
    }
   ],
   "source": [
    "# ¿Cuáles son los índices de la Serie?\n",
    "serie_diccionario.index"
   ]
  },
  {
   "cell_type": "code",
   "execution_count": 27,
   "metadata": {},
   "outputs": [
    {
     "data": {
      "text/plain": [
       "array([4, 2, 5, 8, 3, 1, 9])"
      ]
     },
     "execution_count": 27,
     "metadata": {},
     "output_type": "execute_result"
    }
   ],
   "source": [
    "# ¿Y los values?\n",
    "\n",
    "serie_diccionario.values"
   ]
  },
  {
   "cell_type": "code",
   "execution_count": 28,
   "metadata": {},
   "outputs": [
    {
     "data": {
      "text/plain": [
       "4"
      ]
     },
     "execution_count": 28,
     "metadata": {},
     "output_type": "execute_result"
    }
   ],
   "source": [
    "# Extraed el valor para el índice \"lunes\"\n",
    "\n",
    "serie_diccionario[\"Lunes\"]"
   ]
  },
  {
   "cell_type": "code",
   "execution_count": 31,
   "metadata": {},
   "outputs": [
    {
     "data": {
      "text/plain": [
       "Lunes        4\n",
       "Martes       2\n",
       "Miércoles    5\n",
       "dtype: int64"
      ]
     },
     "execution_count": 31,
     "metadata": {},
     "output_type": "execute_result"
    }
   ],
   "source": [
    "# Extraed el valor para el índice \"lunes\", \"martes\" y \"miércoles\".\n",
    "\n",
    "serie_diccionario.iloc[:3]"
   ]
  },
  {
   "cell_type": "code",
   "execution_count": 34,
   "metadata": {},
   "outputs": [
    {
     "data": {
      "text/plain": [
       "Lunes      4\n",
       "Domingo    9\n",
       "dtype: int64"
      ]
     },
     "execution_count": 34,
     "metadata": {},
     "output_type": "execute_result"
    }
   ],
   "source": [
    "# Extraed el valor para el índice \"lunes\" y \"domingo\".\n",
    "\n",
    "serie_diccionario.iloc[[0,6]]"
   ]
  },
  {
   "cell_type": "code",
   "execution_count": null,
   "metadata": {},
   "outputs": [],
   "source": [
    "# Es el turno de los DataFrames\n",
    "# Cread un array de dos dimensiones con 4 filas y 3 columnas.\n",
    "\n",
    "array_df= \n"
   ]
  },
  {
   "cell_type": "code",
   "execution_count": null,
   "metadata": {},
   "outputs": [],
   "source": [
    "# Convertid el array en un DataFrame donde las columnas se llamen \"España\", \"Francia\" e \"Italia\".\n",
    "# Descargad el archivo \"medallas\" y cargad el DataFrame con la siguiente línea de código:\n",
    "# df = pd.read_csv(\"medallas.csv\", index_col=[\"País\"])\n",
    "# 📌 NOTA Para evitar problemas guardar el archivo medallas.csv a la misma altura (en la misma carpeta) que el jupyter donde estamos trabajando.\n",
    "# Usando el loc extraed todas las columnas de la fila.\n",
    "# Usando el loc extraed todas las columnas de China e Irán.\n",
    "# Usando el loc extraed solo las columnas de \"Oro\", \"Plata\" y \"Bronce\" de China e Irán.\n",
    "# Usando el iloc extraed la información de la India. Devolved todas las columnas.\n",
    "# Usando el iloc extraed todas las columnas de los paises que estén en posición impar. La primera que nos tendría que salir es Japón y la última Corea del Norte.\n",
    "# Utilizando el código del ejercicio anterior, seleccionad unicamente las columnas \"Oro\", \"Plata\" y \"Bronce\".\n",
    "# Contestad a las siguientes preguntas:\n",
    "# ¿Qué país consiguió más de 200 medallas de oro?\n",
    "# ¿Qué país consiguió más de 200 medallas de oro y más de 1000 de plata?\n",
    "# ¿Qué país consiguió más de 200 medallas de oro o más de 700 de bronce?\n",
    "# Como vemos hay una columna que se llama Unnamed: 0 que no nos interesa. Eliminad esa columna.\n",
    "# Cread una nueva columma que se llame \"total\" que sea el resultado de la suma de todas las medallas obtenidas por cada país."
   ]
  }
 ],
 "metadata": {
  "kernelspec": {
   "display_name": "Python 3.9.7 ('base')",
   "language": "python",
   "name": "python3"
  },
  "language_info": {
   "codemirror_mode": {
    "name": "ipython",
    "version": 3
   },
   "file_extension": ".py",
   "mimetype": "text/x-python",
   "name": "python",
   "nbconvert_exporter": "python",
   "pygments_lexer": "ipython3",
   "version": "3.9.7"
  },
  "orig_nbformat": 4,
  "vscode": {
   "interpreter": {
    "hash": "bab9de067d915f107d1ee2ee6fc66eaa4419a4d622bcbfdabd1c6ae75445c121"
   }
  }
 },
 "nbformat": 4,
 "nbformat_minor": 2
}
