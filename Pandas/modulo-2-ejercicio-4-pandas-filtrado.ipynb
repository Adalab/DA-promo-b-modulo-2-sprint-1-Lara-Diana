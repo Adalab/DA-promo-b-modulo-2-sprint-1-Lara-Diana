{
 "cells": [
  {
   "cell_type": "code",
   "execution_count": null,
   "metadata": {},
   "outputs": [],
   "source": [
    "# Hoy seguiremos trabajando con el csv de ataques que exploramos ayer. Para eso, ayer guardasteis al final del pair programming al que le habíamos elimiando algunas columnas. Utilizad ese fichero.\n",
    "# En la lección de hoy tendréis que ir contestando una serie de preguntas que os planteamos. Para ello tendréis que aplicar los conocimientos adquiridos en la clase invertida sobre como filtrar datos en el DataFrame y como reemplazar valores en el DataFrame.\n",
    "# Cargad el csv que guardasteis ayer.\n",
    "# Antes de seguir con las preguntas, este DataFrame está terriblemente sucio. En las próximas sesiones lo iremos limpiando. Para evitar posibles errores con los nulos vamos a eliminar todos los nulos del DataFrame.\n",
    "# Para ello vamos a utilizar el método .dropna() de pandas. Tendréis que ejecutar la siguiente línea de código para eliminar los nulos del DataFrame y poder seguir haciendo el resto de los ejercicios.\n",
    "# df.dropna(inplace = True)\n",
    "# ¿Cuántas filas se han eliminado con esta línea de código?\n",
    "# ¿Cuál es el número de ataques que se han producido en Estados Unidos?\n",
    "# ¿Y en España?\n",
    "# 3.1 ¿En qué regiones se han producido los ataques?\n",
    "# 3.2 ¿Cuántos ataques se han producido en cada área?\n",
    "# Extraed un DataFrame nuevo con los ataques que se han producido en Australia y Estados Unidos. 📌 Nota Este ejercicio se puede resolver usando dos condiciones de filtrado o usando el método isin(). Hacedlo con ambas herramientas.\n",
    "# 4.1 ¿Cuántos ataques se han producido en cada país?\n",
    "# 4.2 ¿Ha habido ataques en Australia a gente que estuviera remando (lo encontrareis como Paddling en el DataFrame en la columna activity)?\n",
    "# 4.3 ¿Cuántos ataques se han producido en Australia antes del 2000?\n",
    "# 4.4 ¿Y después del 2000?\n",
    "# Extraed unicamente los ataques a mujeres.\n",
    "# ¿Cuántas mujeres fueron atacadas en España?\n",
    "# Extraed los ataques que se hayan producido en el año 2000, 1997 y 2006. Utilizad el método isin() para resolver este ejercicio.\n",
    "# Si extraemos los valores únicos de la columna species nos podemos dar cuenta que está un poco sucia y extraer informacion útil de la misma se puede convertir en algo difícil. En este ejercicio tendréis que extraer los ataques que han ocurrido por tiburón blanco (lo encontraremos en la columna species como algo que contenga white o White). Usad el método str.contains() para resolver este ejercicio.\n",
    "# Extraed ahora los ataques por tiburón blanco o tigre. Utilizad el método str.contains() para resolver este ejercicio.\n",
    "# Utilizando la columna de year cread una nueva columna llamada siglo que tiene siglo-XX o siglo-XXI. Donde el año sea menor que 2000 pondremos siglo-XX y el resto de los años siglo-XXI.\n",
    "# Guardad como un archivo csv nuevo. Lo usaremos en el pair programming de mañana."
   ]
  }
 ],
 "metadata": {
  "language_info": {
   "name": "python"
  },
  "orig_nbformat": 4
 },
 "nbformat": 4,
 "nbformat_minor": 2
}
