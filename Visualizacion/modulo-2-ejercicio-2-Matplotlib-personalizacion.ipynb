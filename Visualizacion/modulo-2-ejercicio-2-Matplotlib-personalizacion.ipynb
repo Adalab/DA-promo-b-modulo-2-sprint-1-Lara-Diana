{
 "cells": [
  {
   "cell_type": "code",
   "execution_count": 1,
   "metadata": {},
   "outputs": [],
   "source": [
    "#Sigamos con más visualizaciones. En este caso trabajaremos con el csv que generamos en el ejercicio de pair\n",
    "# programming de Pandas V, ese en el que habíamos unido distintos csv en uno."
   ]
  },
  {
   "cell_type": "code",
   "execution_count": 2,
   "metadata": {},
   "outputs": [],
   "source": [
    "import matplotlib.pyplot as plt\n",
    "import numpy as np \n",
    "import pandas as pd\n",
    "df= pd.read_csv('./datos/attacks_pandas5.csv')\n"
   ]
  },
  {
   "cell_type": "code",
   "execution_count": 3,
   "metadata": {},
   "outputs": [],
   "source": [
    "# Las preguntas que tendréis que contestar son:\n",
    "# Ayer creamos un par de gráficas para USA y España, donde visualizamos el número d\n",
    "# e ataques en cada país a lo largo de los años y el tipo de los ataques. \n",
    "# Hoy tendréis que hacer dos gráficas con subplots:\n",
    "# En la primera debéis mostrar los tipos ataques en USA y España, cada subplot corresponderá a un país. Debéis:\n",
    "# Poner nombre a los ejes de cada uno de los subplots\n",
    "# Poner un títulos a cada uno de los subplots\n",
    "# Poner el color de las líneas en negro.\n",
    "# Establecer el tamaño de la gráfica a 15 x 5\n",
    "# Ponerle marcadores a las gráficas\n",
    "# No incluir leyenda\n"
   ]
  },
  {
   "cell_type": "code",
   "execution_count": 4,
   "metadata": {},
   "outputs": [
    {
     "data": {
      "text/plain": [
       "Index(['Case Number', 'Year', 'Type', 'Country', 'Area', 'Location',\n",
       "       'Activity', 'Name', 'Sex', 'Age', 'Time', 'Species', 'Href', 'Siglo',\n",
       "       'Unnamed: 0_x', 'Sex ', 'Species ', 'href', 'Unnamed: 0_y',\n",
       "       'Fatal (Y/N)', 'Injury', 'Date'],\n",
       "      dtype='object')"
      ]
     },
     "execution_count": 4,
     "metadata": {},
     "output_type": "execute_result"
    }
   ],
   "source": [
    "df.columns"
   ]
  },
  {
   "cell_type": "code",
   "execution_count": 5,
   "metadata": {},
   "outputs": [
    {
     "data": {
      "text/plain": [
       "Unprovoked    4\n",
       "Invalid       2\n",
       "Provoked      1\n",
       "Name: Type, dtype: int64"
      ]
     },
     "execution_count": 5,
     "metadata": {},
     "output_type": "execute_result"
    }
   ],
   "source": [
    "df_spain=df[df['Country']=='SPAIN']['Type'].value_counts()\n",
    "df_spain"
   ]
  },
  {
   "cell_type": "code",
   "execution_count": 6,
   "metadata": {},
   "outputs": [
    {
     "data": {
      "text/plain": [
       "Unprovoked      632\n",
       "Provoked         49\n",
       "Invalid          48\n",
       "Boating          11\n",
       "Sea Disaster      1\n",
       "Name: Type, dtype: int64"
      ]
     },
     "execution_count": 6,
     "metadata": {},
     "output_type": "execute_result"
    }
   ],
   "source": [
    "df_usa=df[df['Country']=='USA']['Type'].value_counts()\n",
    "df_usa"
   ]
  },
  {
   "cell_type": "code",
   "execution_count": null,
   "metadata": {},
   "outputs": [],
   "source": []
  },
  {
   "cell_type": "code",
   "execution_count": 9,
   "metadata": {},
   "outputs": [
    {
     "data": {
      "text/plain": [
       "Text(0.5, 1.0, 'SPAIN')"
      ]
     },
     "execution_count": 9,
     "metadata": {},
     "output_type": "execute_result"
    },
    {
     "data": {
      "image/png": "[encoded data removed]",
      "text/plain": [
       "<Figure size 1080x360 with 2 Axes>"
      ]
     },
     "metadata": {
      "needs_background": "light"
     },
     "output_type": "display_data"
    }
   ],
   "source": [
    "fig,ax = plt.subplots(1,2,figsize=(15,5))\n",
    "\n",
    "x = df_usa.index\n",
    "y = df_usa.values\n",
    "\n",
    "x2 = df_spain.index\n",
    "y2 = df_spain.values\n",
    "\n",
    "\n",
    "ax[0].plot(x, y, c= 'blue', marker= 'X' )\n",
    "ax[0].set_title('USA')\n",
    "ax[0].set_xlabel('tipos de ataque')\n",
    "ax[0].set_ylabel('numero de ataques')\n",
    "\n",
    "\n",
    "\n",
    "ax[1].plot(x2, y2, c= 'r', marker ='D')\n",
    "ax[1].set_xlabel('tipos de ataque')\n",
    "ax[1].set_ylabel('numero de ataques')\n",
    "\n",
    "ax[1].set_title('SPAIN')\n",
    "\n"
   ]
  },
  {
   "cell_type": "code",
   "execution_count": null,
   "metadata": {},
   "outputs": [],
   "source": [
    "# En la segunda debéis mostrar los ataques por año para cada uno de los países.\n",
    "# De nuevo tendréis que ponerle nombre a los ejes y título a cada gráfica.\n",
    "# En este caso el subplot deberá tener dos filas y una columna\n",
    "# No incluir leyenda\n",
    "# Cambiar el color de las barras\n"
   ]
  },
  {
   "cell_type": "code",
   "execution_count": null,
   "metadata": {},
   "outputs": [],
   "source": [
    "# Cread un único gráfico donde juntéis las gráficas de los tipos de ataques en una sola. Debéis:\n",
    "# Poner leyenda a la gráfica\n",
    "# Cada línea debe ir en un color\n",
    "# Ponerle nombre a los ejes y a la gráfica.\n",
    "# Poner marcadores a las lineas.\n"
   ]
  },
  {
   "cell_type": "code",
   "execution_count": null,
   "metadata": {},
   "outputs": [],
   "source": [
    "# Guardad las figuras creadas en cada caso. Podéis usar el formato que queráis. Guarda todas las fotos en una carpeta llamada Visualizacion-II."
   ]
  }
 ],
 "metadata": {
  "kernelspec": {
   "display_name": "Python 3.9.7 ('base')",
   "language": "python",
   "name": "python3"
  },
  "language_info": {
   "codemirror_mode": {
    "name": "ipython",
    "version": 3
   },
   "file_extension": ".py",
   "mimetype": "text/x-python",
   "name": "python",
   "nbconvert_exporter": "python",
   "pygments_lexer": "ipython3",
   "version": "3.9.7"
  },
  "orig_nbformat": 4,
  "vscode": {
   "interpreter": {
    "hash": "1d3feb3bef138ef266c48095b107fb76671e9fbad0e2f51e8b8a203db9af2532"
   }
  }
 },
 "nbformat": 4,
 "nbformat_minor": 2
}
